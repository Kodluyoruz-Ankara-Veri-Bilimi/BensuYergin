{
 "cells": [
  {
   "cell_type": "code",
   "execution_count": 1,
   "metadata": {},
   "outputs": [],
   "source": [
    "import numpy as np\n",
    "import pandas as pd \n",
    "import statsmodels.api as sm\n",
    "import statsmodels.formula.api as smf\n",
    "import seaborn as sns\n",
    "from sklearn.preprocessing import scale \n",
    "from sklearn.model_selection import train_test_split, GridSearchCV, cross_val_score\n",
    "from sklearn.metrics import confusion_matrix, accuracy_score, classification_report\n",
    "from sklearn.metrics import roc_auc_score,roc_curve\n",
    "import statsmodels.formula.api as smf\n",
    "import matplotlib.pyplot as plt\n",
    "from sklearn.neighbors import KNeighborsClassifier\n",
    "from sklearn.discriminant_analysis import LinearDiscriminantAnalysis\n",
    "from sklearn.linear_model import LogisticRegression\n",
    "from sklearn.svm import SVC\n",
    "from sklearn.naive_bayes import GaussianNB\n",
    "from sklearn import tree\n",
    "from sklearn.ensemble import RandomForestClassifier\n",
    "from sklearn.ensemble import GradientBoostingClassifier\n",
    "from xgboost import XGBClassifier\n",
    "from lightgbm import LGBMClassifier\n",
    "from catboost import CatBoostClassifier"
   ]
  },
  {
   "cell_type": "code",
   "execution_count": 2,
   "metadata": {},
   "outputs": [
    {
     "data": {
      "text/html": [
       "<div>\n",
       "<style scoped>\n",
       "    .dataframe tbody tr th:only-of-type {\n",
       "        vertical-align: middle;\n",
       "    }\n",
       "\n",
       "    .dataframe tbody tr th {\n",
       "        vertical-align: top;\n",
       "    }\n",
       "\n",
       "    .dataframe thead th {\n",
       "        text-align: right;\n",
       "    }\n",
       "</style>\n",
       "<table border=\"1\" class=\"dataframe\">\n",
       "  <thead>\n",
       "    <tr style=\"text-align: right;\">\n",
       "      <th></th>\n",
       "      <th>bad</th>\n",
       "      <th>loan</th>\n",
       "      <th>mortdue</th>\n",
       "      <th>value</th>\n",
       "      <th>reason</th>\n",
       "      <th>job</th>\n",
       "      <th>yoj</th>\n",
       "      <th>derog</th>\n",
       "      <th>delinq</th>\n",
       "      <th>clage</th>\n",
       "      <th>ninq</th>\n",
       "      <th>clno</th>\n",
       "      <th>debtinc</th>\n",
       "    </tr>\n",
       "  </thead>\n",
       "  <tbody>\n",
       "    <tr>\n",
       "      <td>0</td>\n",
       "      <td>0</td>\n",
       "      <td>81200</td>\n",
       "      <td>18834.0</td>\n",
       "      <td>108355.0</td>\n",
       "      <td>HomeImp</td>\n",
       "      <td>NaN</td>\n",
       "      <td>28.0</td>\n",
       "      <td>0.0</td>\n",
       "      <td>0.0</td>\n",
       "      <td>139.14</td>\n",
       "      <td>0.0</td>\n",
       "      <td>14.0</td>\n",
       "      <td>34.042</td>\n",
       "    </tr>\n",
       "    <tr>\n",
       "      <td>1</td>\n",
       "      <td>0</td>\n",
       "      <td>12600</td>\n",
       "      <td>103960.0</td>\n",
       "      <td>127384.0</td>\n",
       "      <td>DebtCon</td>\n",
       "      <td>NaN</td>\n",
       "      <td>2.0</td>\n",
       "      <td>0.0</td>\n",
       "      <td>0.0</td>\n",
       "      <td>129.02</td>\n",
       "      <td>0.0</td>\n",
       "      <td>25.0</td>\n",
       "      <td>34.479</td>\n",
       "    </tr>\n",
       "    <tr>\n",
       "      <td>2</td>\n",
       "      <td>0</td>\n",
       "      <td>18000</td>\n",
       "      <td>46865.0</td>\n",
       "      <td>61266.0</td>\n",
       "      <td>DebtCon</td>\n",
       "      <td>NaN</td>\n",
       "      <td>5.0</td>\n",
       "      <td>0.0</td>\n",
       "      <td>0.0</td>\n",
       "      <td>102.59</td>\n",
       "      <td>2.0</td>\n",
       "      <td>9.0</td>\n",
       "      <td>26.354</td>\n",
       "    </tr>\n",
       "    <tr>\n",
       "      <td>3</td>\n",
       "      <td>0</td>\n",
       "      <td>10300</td>\n",
       "      <td>57676.0</td>\n",
       "      <td>71027.0</td>\n",
       "      <td>DebtCon</td>\n",
       "      <td>NaN</td>\n",
       "      <td>19.0</td>\n",
       "      <td>0.0</td>\n",
       "      <td>0.0</td>\n",
       "      <td>157.52</td>\n",
       "      <td>1.0</td>\n",
       "      <td>11.0</td>\n",
       "      <td>33.992</td>\n",
       "    </tr>\n",
       "    <tr>\n",
       "      <td>4</td>\n",
       "      <td>0</td>\n",
       "      <td>9400</td>\n",
       "      <td>56508.0</td>\n",
       "      <td>78358.0</td>\n",
       "      <td>DebtCon</td>\n",
       "      <td>NaN</td>\n",
       "      <td>17.0</td>\n",
       "      <td>0.0</td>\n",
       "      <td>0.0</td>\n",
       "      <td>141.93</td>\n",
       "      <td>0.0</td>\n",
       "      <td>11.0</td>\n",
       "      <td>32.327</td>\n",
       "    </tr>\n",
       "  </tbody>\n",
       "</table>\n",
       "</div>"
      ],
      "text/plain": [
       "   bad   loan   mortdue     value   reason  job   yoj  derog  delinq   clage  \\\n",
       "0    0  81200   18834.0  108355.0  HomeImp  NaN  28.0    0.0     0.0  139.14   \n",
       "1    0  12600  103960.0  127384.0  DebtCon  NaN   2.0    0.0     0.0  129.02   \n",
       "2    0  18000   46865.0   61266.0  DebtCon  NaN   5.0    0.0     0.0  102.59   \n",
       "3    0  10300   57676.0   71027.0  DebtCon  NaN  19.0    0.0     0.0  157.52   \n",
       "4    0   9400   56508.0   78358.0  DebtCon  NaN  17.0    0.0     0.0  141.93   \n",
       "\n",
       "   ninq  clno  debtinc  \n",
       "0   0.0  14.0   34.042  \n",
       "1   0.0  25.0   34.479  \n",
       "2   2.0   9.0   26.354  \n",
       "3   1.0  11.0   33.992  \n",
       "4   0.0  11.0   32.327  "
      ]
     },
     "execution_count": 2,
     "metadata": {},
     "output_type": "execute_result"
    }
   ],
   "source": [
    "import pandas as pd\n",
    "df = pd.read_csv('C:/Users/lenovo/Desktop/jupyternotebook/Hmelq.csv')\n",
    "df.head()"
   ]
  },
  {
   "cell_type": "code",
   "execution_count": 3,
   "metadata": {},
   "outputs": [
    {
     "data": {
      "text/html": [
       "<div>\n",
       "<style scoped>\n",
       "    .dataframe tbody tr th:only-of-type {\n",
       "        vertical-align: middle;\n",
       "    }\n",
       "\n",
       "    .dataframe tbody tr th {\n",
       "        vertical-align: top;\n",
       "    }\n",
       "\n",
       "    .dataframe thead th {\n",
       "        text-align: right;\n",
       "    }\n",
       "</style>\n",
       "<table border=\"1\" class=\"dataframe\">\n",
       "  <thead>\n",
       "    <tr style=\"text-align: right;\">\n",
       "      <th></th>\n",
       "      <th>count</th>\n",
       "      <th>mean</th>\n",
       "      <th>std</th>\n",
       "      <th>min</th>\n",
       "      <th>25%</th>\n",
       "      <th>50%</th>\n",
       "      <th>75%</th>\n",
       "      <th>max</th>\n",
       "    </tr>\n",
       "  </thead>\n",
       "  <tbody>\n",
       "    <tr>\n",
       "      <td>bad</td>\n",
       "      <td>3576.0</td>\n",
       "      <td>0.199385</td>\n",
       "      <td>0.399594</td>\n",
       "      <td>0.00</td>\n",
       "      <td>0.00</td>\n",
       "      <td>0.000</td>\n",
       "      <td>0.00</td>\n",
       "      <td>1.000</td>\n",
       "    </tr>\n",
       "    <tr>\n",
       "      <td>loan</td>\n",
       "      <td>3576.0</td>\n",
       "      <td>18529.697987</td>\n",
       "      <td>11262.834060</td>\n",
       "      <td>1100.00</td>\n",
       "      <td>11000.00</td>\n",
       "      <td>16200.000</td>\n",
       "      <td>23100.00</td>\n",
       "      <td>89900.000</td>\n",
       "    </tr>\n",
       "    <tr>\n",
       "      <td>mortdue</td>\n",
       "      <td>3262.0</td>\n",
       "      <td>74013.907992</td>\n",
       "      <td>44016.833772</td>\n",
       "      <td>2619.00</td>\n",
       "      <td>46700.25</td>\n",
       "      <td>65858.000</td>\n",
       "      <td>91717.00</td>\n",
       "      <td>399550.000</td>\n",
       "    </tr>\n",
       "    <tr>\n",
       "      <td>value</td>\n",
       "      <td>3512.0</td>\n",
       "      <td>101076.922759</td>\n",
       "      <td>54865.275351</td>\n",
       "      <td>8800.00</td>\n",
       "      <td>65753.00</td>\n",
       "      <td>89183.000</td>\n",
       "      <td>118928.25</td>\n",
       "      <td>850000.000</td>\n",
       "    </tr>\n",
       "    <tr>\n",
       "      <td>yoj</td>\n",
       "      <td>3264.0</td>\n",
       "      <td>8.832644</td>\n",
       "      <td>7.568046</td>\n",
       "      <td>0.00</td>\n",
       "      <td>3.00</td>\n",
       "      <td>7.000</td>\n",
       "      <td>13.00</td>\n",
       "      <td>41.000</td>\n",
       "    </tr>\n",
       "    <tr>\n",
       "      <td>derog</td>\n",
       "      <td>3149.0</td>\n",
       "      <td>0.261670</td>\n",
       "      <td>0.865178</td>\n",
       "      <td>0.00</td>\n",
       "      <td>0.00</td>\n",
       "      <td>0.000</td>\n",
       "      <td>0.00</td>\n",
       "      <td>10.000</td>\n",
       "    </tr>\n",
       "    <tr>\n",
       "      <td>delinq</td>\n",
       "      <td>3225.0</td>\n",
       "      <td>0.432558</td>\n",
       "      <td>1.099230</td>\n",
       "      <td>0.00</td>\n",
       "      <td>0.00</td>\n",
       "      <td>0.000</td>\n",
       "      <td>0.00</td>\n",
       "      <td>15.000</td>\n",
       "    </tr>\n",
       "    <tr>\n",
       "      <td>clage</td>\n",
       "      <td>3397.0</td>\n",
       "      <td>179.832529</td>\n",
       "      <td>87.066198</td>\n",
       "      <td>0.49</td>\n",
       "      <td>115.60</td>\n",
       "      <td>173.640</td>\n",
       "      <td>230.71</td>\n",
       "      <td>1168.230</td>\n",
       "    </tr>\n",
       "    <tr>\n",
       "      <td>ninq</td>\n",
       "      <td>3273.0</td>\n",
       "      <td>1.186373</td>\n",
       "      <td>1.728723</td>\n",
       "      <td>0.00</td>\n",
       "      <td>0.00</td>\n",
       "      <td>1.000</td>\n",
       "      <td>2.00</td>\n",
       "      <td>17.000</td>\n",
       "    </tr>\n",
       "    <tr>\n",
       "      <td>clno</td>\n",
       "      <td>3443.0</td>\n",
       "      <td>21.507116</td>\n",
       "      <td>10.167490</td>\n",
       "      <td>0.00</td>\n",
       "      <td>15.00</td>\n",
       "      <td>20.000</td>\n",
       "      <td>26.00</td>\n",
       "      <td>71.000</td>\n",
       "    </tr>\n",
       "    <tr>\n",
       "      <td>debtinc</td>\n",
       "      <td>2809.0</td>\n",
       "      <td>33.831737</td>\n",
       "      <td>9.061837</td>\n",
       "      <td>0.72</td>\n",
       "      <td>29.14</td>\n",
       "      <td>34.747</td>\n",
       "      <td>38.94</td>\n",
       "      <td>203.312</td>\n",
       "    </tr>\n",
       "  </tbody>\n",
       "</table>\n",
       "</div>"
      ],
      "text/plain": [
       "          count           mean           std      min       25%        50%  \\\n",
       "bad      3576.0       0.199385      0.399594     0.00      0.00      0.000   \n",
       "loan     3576.0   18529.697987  11262.834060  1100.00  11000.00  16200.000   \n",
       "mortdue  3262.0   74013.907992  44016.833772  2619.00  46700.25  65858.000   \n",
       "value    3512.0  101076.922759  54865.275351  8800.00  65753.00  89183.000   \n",
       "yoj      3264.0       8.832644      7.568046     0.00      3.00      7.000   \n",
       "derog    3149.0       0.261670      0.865178     0.00      0.00      0.000   \n",
       "delinq   3225.0       0.432558      1.099230     0.00      0.00      0.000   \n",
       "clage    3397.0     179.832529     87.066198     0.49    115.60    173.640   \n",
       "ninq     3273.0       1.186373      1.728723     0.00      0.00      1.000   \n",
       "clno     3443.0      21.507116     10.167490     0.00     15.00     20.000   \n",
       "debtinc  2809.0      33.831737      9.061837     0.72     29.14     34.747   \n",
       "\n",
       "               75%         max  \n",
       "bad           0.00       1.000  \n",
       "loan      23100.00   89900.000  \n",
       "mortdue   91717.00  399550.000  \n",
       "value    118928.25  850000.000  \n",
       "yoj          13.00      41.000  \n",
       "derog         0.00      10.000  \n",
       "delinq        0.00      15.000  \n",
       "clage       230.71    1168.230  \n",
       "ninq          2.00      17.000  \n",
       "clno         26.00      71.000  \n",
       "debtinc      38.94     203.312  "
      ]
     },
     "execution_count": 3,
     "metadata": {},
     "output_type": "execute_result"
    }
   ],
   "source": [
    "df.describe().T"
   ]
  },
  {
   "cell_type": "code",
   "execution_count": 4,
   "metadata": {},
   "outputs": [
    {
     "data": {
      "text/plain": [
       "(3576, 13)"
      ]
     },
     "execution_count": 4,
     "metadata": {},
     "output_type": "execute_result"
    }
   ],
   "source": [
    "df.shape"
   ]
  },
  {
   "cell_type": "code",
   "execution_count": 5,
   "metadata": {},
   "outputs": [
    {
     "name": "stdout",
     "output_type": "stream",
     "text": [
      "<class 'pandas.core.frame.DataFrame'>\n",
      "RangeIndex: 3576 entries, 0 to 3575\n",
      "Data columns (total 13 columns):\n",
      "bad        3576 non-null int64\n",
      "loan       3576 non-null int64\n",
      "mortdue    3262 non-null float64\n",
      "value      3512 non-null float64\n",
      "reason     3429 non-null object\n",
      "job        3409 non-null object\n",
      "yoj        3264 non-null float64\n",
      "derog      3149 non-null float64\n",
      "delinq     3225 non-null float64\n",
      "clage      3397 non-null float64\n",
      "ninq       3273 non-null float64\n",
      "clno       3443 non-null float64\n",
      "debtinc    2809 non-null float64\n",
      "dtypes: float64(9), int64(2), object(2)\n",
      "memory usage: 363.3+ KB\n"
     ]
    }
   ],
   "source": [
    "df.info()"
   ]
  },
  {
   "cell_type": "code",
   "execution_count": 6,
   "metadata": {},
   "outputs": [
    {
     "data": {
      "text/html": [
       "<div>\n",
       "<style scoped>\n",
       "    .dataframe tbody tr th:only-of-type {\n",
       "        vertical-align: middle;\n",
       "    }\n",
       "\n",
       "    .dataframe tbody tr th {\n",
       "        vertical-align: top;\n",
       "    }\n",
       "\n",
       "    .dataframe thead th {\n",
       "        text-align: right;\n",
       "    }\n",
       "</style>\n",
       "<table border=\"1\" class=\"dataframe\">\n",
       "  <thead>\n",
       "    <tr style=\"text-align: right;\">\n",
       "      <th></th>\n",
       "      <th>count</th>\n",
       "      <th>mean</th>\n",
       "      <th>std</th>\n",
       "      <th>min</th>\n",
       "      <th>25%</th>\n",
       "      <th>50%</th>\n",
       "      <th>75%</th>\n",
       "      <th>max</th>\n",
       "    </tr>\n",
       "  </thead>\n",
       "  <tbody>\n",
       "    <tr>\n",
       "      <td>bad</td>\n",
       "      <td>3576.0</td>\n",
       "      <td>0.199385</td>\n",
       "      <td>0.399594</td>\n",
       "      <td>0.00</td>\n",
       "      <td>0.00</td>\n",
       "      <td>0.000</td>\n",
       "      <td>0.00</td>\n",
       "      <td>1.000</td>\n",
       "    </tr>\n",
       "    <tr>\n",
       "      <td>loan</td>\n",
       "      <td>3576.0</td>\n",
       "      <td>18529.697987</td>\n",
       "      <td>11262.834060</td>\n",
       "      <td>1100.00</td>\n",
       "      <td>11000.00</td>\n",
       "      <td>16200.000</td>\n",
       "      <td>23100.00</td>\n",
       "      <td>89900.000</td>\n",
       "    </tr>\n",
       "    <tr>\n",
       "      <td>mortdue</td>\n",
       "      <td>3262.0</td>\n",
       "      <td>74013.907992</td>\n",
       "      <td>44016.833772</td>\n",
       "      <td>2619.00</td>\n",
       "      <td>46700.25</td>\n",
       "      <td>65858.000</td>\n",
       "      <td>91717.00</td>\n",
       "      <td>399550.000</td>\n",
       "    </tr>\n",
       "    <tr>\n",
       "      <td>value</td>\n",
       "      <td>3512.0</td>\n",
       "      <td>101076.922759</td>\n",
       "      <td>54865.275351</td>\n",
       "      <td>8800.00</td>\n",
       "      <td>65753.00</td>\n",
       "      <td>89183.000</td>\n",
       "      <td>118928.25</td>\n",
       "      <td>850000.000</td>\n",
       "    </tr>\n",
       "    <tr>\n",
       "      <td>yoj</td>\n",
       "      <td>3264.0</td>\n",
       "      <td>8.832644</td>\n",
       "      <td>7.568046</td>\n",
       "      <td>0.00</td>\n",
       "      <td>3.00</td>\n",
       "      <td>7.000</td>\n",
       "      <td>13.00</td>\n",
       "      <td>41.000</td>\n",
       "    </tr>\n",
       "    <tr>\n",
       "      <td>derog</td>\n",
       "      <td>3149.0</td>\n",
       "      <td>0.261670</td>\n",
       "      <td>0.865178</td>\n",
       "      <td>0.00</td>\n",
       "      <td>0.00</td>\n",
       "      <td>0.000</td>\n",
       "      <td>0.00</td>\n",
       "      <td>10.000</td>\n",
       "    </tr>\n",
       "    <tr>\n",
       "      <td>delinq</td>\n",
       "      <td>3225.0</td>\n",
       "      <td>0.432558</td>\n",
       "      <td>1.099230</td>\n",
       "      <td>0.00</td>\n",
       "      <td>0.00</td>\n",
       "      <td>0.000</td>\n",
       "      <td>0.00</td>\n",
       "      <td>15.000</td>\n",
       "    </tr>\n",
       "    <tr>\n",
       "      <td>clage</td>\n",
       "      <td>3397.0</td>\n",
       "      <td>179.832529</td>\n",
       "      <td>87.066198</td>\n",
       "      <td>0.49</td>\n",
       "      <td>115.60</td>\n",
       "      <td>173.640</td>\n",
       "      <td>230.71</td>\n",
       "      <td>1168.230</td>\n",
       "    </tr>\n",
       "    <tr>\n",
       "      <td>ninq</td>\n",
       "      <td>3273.0</td>\n",
       "      <td>1.186373</td>\n",
       "      <td>1.728723</td>\n",
       "      <td>0.00</td>\n",
       "      <td>0.00</td>\n",
       "      <td>1.000</td>\n",
       "      <td>2.00</td>\n",
       "      <td>17.000</td>\n",
       "    </tr>\n",
       "    <tr>\n",
       "      <td>clno</td>\n",
       "      <td>3443.0</td>\n",
       "      <td>21.507116</td>\n",
       "      <td>10.167490</td>\n",
       "      <td>0.00</td>\n",
       "      <td>15.00</td>\n",
       "      <td>20.000</td>\n",
       "      <td>26.00</td>\n",
       "      <td>71.000</td>\n",
       "    </tr>\n",
       "    <tr>\n",
       "      <td>debtinc</td>\n",
       "      <td>2809.0</td>\n",
       "      <td>33.831737</td>\n",
       "      <td>9.061837</td>\n",
       "      <td>0.72</td>\n",
       "      <td>29.14</td>\n",
       "      <td>34.747</td>\n",
       "      <td>38.94</td>\n",
       "      <td>203.312</td>\n",
       "    </tr>\n",
       "  </tbody>\n",
       "</table>\n",
       "</div>"
      ],
      "text/plain": [
       "          count           mean           std      min       25%        50%  \\\n",
       "bad      3576.0       0.199385      0.399594     0.00      0.00      0.000   \n",
       "loan     3576.0   18529.697987  11262.834060  1100.00  11000.00  16200.000   \n",
       "mortdue  3262.0   74013.907992  44016.833772  2619.00  46700.25  65858.000   \n",
       "value    3512.0  101076.922759  54865.275351  8800.00  65753.00  89183.000   \n",
       "yoj      3264.0       8.832644      7.568046     0.00      3.00      7.000   \n",
       "derog    3149.0       0.261670      0.865178     0.00      0.00      0.000   \n",
       "delinq   3225.0       0.432558      1.099230     0.00      0.00      0.000   \n",
       "clage    3397.0     179.832529     87.066198     0.49    115.60    173.640   \n",
       "ninq     3273.0       1.186373      1.728723     0.00      0.00      1.000   \n",
       "clno     3443.0      21.507116     10.167490     0.00     15.00     20.000   \n",
       "debtinc  2809.0      33.831737      9.061837     0.72     29.14     34.747   \n",
       "\n",
       "               75%         max  \n",
       "bad           0.00       1.000  \n",
       "loan      23100.00   89900.000  \n",
       "mortdue   91717.00  399550.000  \n",
       "value    118928.25  850000.000  \n",
       "yoj          13.00      41.000  \n",
       "derog         0.00      10.000  \n",
       "delinq        0.00      15.000  \n",
       "clage       230.71    1168.230  \n",
       "ninq          2.00      17.000  \n",
       "clno         26.00      71.000  \n",
       "debtinc      38.94     203.312  "
      ]
     },
     "execution_count": 6,
     "metadata": {},
     "output_type": "execute_result"
    }
   ],
   "source": [
    "dfnumeric=df.select_dtypes(include=['float64','int64'])\n",
    "dfnumeric.describe().T"
   ]
  },
  {
   "cell_type": "code",
   "execution_count": 7,
   "metadata": {},
   "outputs": [
    {
     "data": {
      "text/html": [
       "<div>\n",
       "<style scoped>\n",
       "    .dataframe tbody tr th:only-of-type {\n",
       "        vertical-align: middle;\n",
       "    }\n",
       "\n",
       "    .dataframe tbody tr th {\n",
       "        vertical-align: top;\n",
       "    }\n",
       "\n",
       "    .dataframe thead th {\n",
       "        text-align: right;\n",
       "    }\n",
       "</style>\n",
       "<table border=\"1\" class=\"dataframe\">\n",
       "  <thead>\n",
       "    <tr style=\"text-align: right;\">\n",
       "      <th></th>\n",
       "      <th>count</th>\n",
       "      <th>unique</th>\n",
       "      <th>top</th>\n",
       "      <th>freq</th>\n",
       "    </tr>\n",
       "  </thead>\n",
       "  <tbody>\n",
       "    <tr>\n",
       "      <td>reason</td>\n",
       "      <td>3429</td>\n",
       "      <td>2</td>\n",
       "      <td>DebtCon</td>\n",
       "      <td>2371</td>\n",
       "    </tr>\n",
       "    <tr>\n",
       "      <td>job</td>\n",
       "      <td>3409</td>\n",
       "      <td>6</td>\n",
       "      <td>Other</td>\n",
       "      <td>1431</td>\n",
       "    </tr>\n",
       "  </tbody>\n",
       "</table>\n",
       "</div>"
      ],
      "text/plain": [
       "       count unique      top  freq\n",
       "reason  3429      2  DebtCon  2371\n",
       "job     3409      6    Other  1431"
      ]
     },
     "execution_count": 7,
     "metadata": {},
     "output_type": "execute_result"
    }
   ],
   "source": [
    "dfcategoric=df.select_dtypes(include=['object'])\n",
    "dfcategoric.describe().T"
   ]
  },
  {
   "cell_type": "code",
   "execution_count": 8,
   "metadata": {},
   "outputs": [
    {
     "data": {
      "text/plain": [
       "debtinc    767\n",
       "derog      427\n",
       "delinq     351\n",
       "mortdue    314\n",
       "yoj        312\n",
       "ninq       303\n",
       "clage      179\n",
       "job        167\n",
       "reason     147\n",
       "clno       133\n",
       "value       64\n",
       "loan         0\n",
       "bad          0\n",
       "dtype: int64"
      ]
     },
     "execution_count": 8,
     "metadata": {},
     "output_type": "execute_result"
    }
   ],
   "source": [
    "df.isnull().sum().sort_values(ascending=False)"
   ]
  },
  {
   "cell_type": "code",
   "execution_count": 9,
   "metadata": {},
   "outputs": [
    {
     "data": {
      "text/plain": [
       "<matplotlib.axes._subplots.AxesSubplot at 0x243a23eb248>"
      ]
     },
     "execution_count": 9,
     "metadata": {},
     "output_type": "execute_result"
    },
    {
     "data": {
      "image/png": "[encoded data removed]",
      "text/plain": [
       "<Figure size 432x288 with 1 Axes>"
      ]
     },
     "metadata": {
      "needs_background": "light"
     },
     "output_type": "display_data"
    }
   ],
   "source": [
    "sns.heatmap(df.isnull(), yticklabels=False, cbar=False, cmap='viridis')"
   ]
  },
  {
   "cell_type": "code",
   "execution_count": 10,
   "metadata": {},
   "outputs": [
    {
     "data": {
      "text/html": [
       "<div>\n",
       "<style scoped>\n",
       "    .dataframe tbody tr th:only-of-type {\n",
       "        vertical-align: middle;\n",
       "    }\n",
       "\n",
       "    .dataframe tbody tr th {\n",
       "        vertical-align: top;\n",
       "    }\n",
       "\n",
       "    .dataframe thead th {\n",
       "        text-align: right;\n",
       "    }\n",
       "</style>\n",
       "<table border=\"1\" class=\"dataframe\">\n",
       "  <thead>\n",
       "    <tr style=\"text-align: right;\">\n",
       "      <th></th>\n",
       "      <th>Eksik Değerler</th>\n",
       "      <th>% Değeri</th>\n",
       "    </tr>\n",
       "  </thead>\n",
       "  <tbody>\n",
       "    <tr>\n",
       "      <td>bad</td>\n",
       "      <td>0</td>\n",
       "      <td>0.000000</td>\n",
       "    </tr>\n",
       "    <tr>\n",
       "      <td>loan</td>\n",
       "      <td>0</td>\n",
       "      <td>0.000000</td>\n",
       "    </tr>\n",
       "    <tr>\n",
       "      <td>mortdue</td>\n",
       "      <td>314</td>\n",
       "      <td>8.780761</td>\n",
       "    </tr>\n",
       "    <tr>\n",
       "      <td>value</td>\n",
       "      <td>64</td>\n",
       "      <td>1.789709</td>\n",
       "    </tr>\n",
       "    <tr>\n",
       "      <td>reason</td>\n",
       "      <td>147</td>\n",
       "      <td>4.110738</td>\n",
       "    </tr>\n",
       "    <tr>\n",
       "      <td>job</td>\n",
       "      <td>167</td>\n",
       "      <td>4.670022</td>\n",
       "    </tr>\n",
       "    <tr>\n",
       "      <td>yoj</td>\n",
       "      <td>312</td>\n",
       "      <td>8.724832</td>\n",
       "    </tr>\n",
       "    <tr>\n",
       "      <td>derog</td>\n",
       "      <td>427</td>\n",
       "      <td>11.940716</td>\n",
       "    </tr>\n",
       "    <tr>\n",
       "      <td>delinq</td>\n",
       "      <td>351</td>\n",
       "      <td>9.815436</td>\n",
       "    </tr>\n",
       "    <tr>\n",
       "      <td>clage</td>\n",
       "      <td>179</td>\n",
       "      <td>5.005593</td>\n",
       "    </tr>\n",
       "    <tr>\n",
       "      <td>ninq</td>\n",
       "      <td>303</td>\n",
       "      <td>8.473154</td>\n",
       "    </tr>\n",
       "    <tr>\n",
       "      <td>clno</td>\n",
       "      <td>133</td>\n",
       "      <td>3.719239</td>\n",
       "    </tr>\n",
       "    <tr>\n",
       "      <td>debtinc</td>\n",
       "      <td>767</td>\n",
       "      <td>21.448546</td>\n",
       "    </tr>\n",
       "  </tbody>\n",
       "</table>\n",
       "</div>"
      ],
      "text/plain": [
       "         Eksik Değerler   % Değeri\n",
       "bad                   0   0.000000\n",
       "loan                  0   0.000000\n",
       "mortdue             314   8.780761\n",
       "value                64   1.789709\n",
       "reason              147   4.110738\n",
       "job                 167   4.670022\n",
       "yoj                 312   8.724832\n",
       "derog               427  11.940716\n",
       "delinq              351   9.815436\n",
       "clage               179   5.005593\n",
       "ninq                303   8.473154\n",
       "clno                133   3.719239\n",
       "debtinc             767  21.448546"
      ]
     },
     "execution_count": 10,
     "metadata": {},
     "output_type": "execute_result"
    }
   ],
   "source": [
    "def eksik_deger_tablosu(data):\n",
    "    eksik_deger = data.isnull().sum()\n",
    "    eksik_deger_yuzde = 100 * data.isnull().sum()/len(data)\n",
    "    eksik_deger_tablo = pd.concat([eksik_deger, eksik_deger_yuzde], axis=1)\n",
    "    eksik_deger_tablo_son = eksik_deger_tablo.rename(\n",
    "    columns = {0 : 'Eksik Değerler', 1 : '% Değeri'})\n",
    "    return eksik_deger_tablo_son\n",
    "eksik_deger_tablosu(df)"
   ]
  },
  {
   "cell_type": "code",
   "execution_count": 11,
   "metadata": {},
   "outputs": [],
   "source": [
    "dfnan= df.copy()"
   ]
  },
  {
   "cell_type": "code",
   "execution_count": 12,
   "metadata": {},
   "outputs": [],
   "source": [
    "dfnan['value'].unique()[0]\n",
    "dfnan['value'] = dfnan['value'].fillna(dfnan['value'].unique()[0])\n",
    "dfnan['clno'].unique()[0]\n",
    "dfnan['clno'] = dfnan['clno'].fillna(dfnan['clno'].unique()[0])\n",
    "##ilk satır değeri ile doldurduk."
   ]
  },
  {
   "cell_type": "code",
   "execution_count": 13,
   "metadata": {},
   "outputs": [],
   "source": [
    "dfnan[\"job\"] = dfnan[\"job\"].fillna(dfnan[\"job\"].mode()[0])\n",
    "dfnan[\"reason\"] = dfnan[\"reason\"].fillna(dfnan[\"reason\"].mode()[0])"
   ]
  },
  {
   "cell_type": "code",
   "execution_count": 14,
   "metadata": {},
   "outputs": [],
   "source": [
    "dfnan['derog'] = dfnan['derog'].fillna(dfnan['derog'].mean())\n",
    "dfnan['delinq'] = dfnan['delinq'].fillna(dfnan['delinq'].mean())\n",
    "dfnan['yoj'] = dfnan['yoj'].fillna(dfnan['yoj'].mean())\n",
    "dfnan['ninq'] = dfnan['ninq'].fillna(dfnan['ninq'].mean())\n",
    "dfnan['mortdue'] = dfnan['mortdue'].fillna(dfnan['mortdue'].mean())\n",
    "dfnan['clage'] = dfnan['clage'].fillna(dfnan['clage'].mean())"
   ]
  },
  {
   "cell_type": "code",
   "execution_count": 15,
   "metadata": {},
   "outputs": [],
   "source": [
    "dfnan.dropna(subset=[\"debtinc\"], inplace = True)"
   ]
  },
  {
   "cell_type": "code",
   "execution_count": 16,
   "metadata": {},
   "outputs": [
    {
     "data": {
      "text/plain": [
       "bad        0\n",
       "loan       0\n",
       "mortdue    0\n",
       "value      0\n",
       "reason     0\n",
       "job        0\n",
       "yoj        0\n",
       "derog      0\n",
       "delinq     0\n",
       "clage      0\n",
       "ninq       0\n",
       "clno       0\n",
       "debtinc    0\n",
       "dtype: int64"
      ]
     },
     "execution_count": 16,
     "metadata": {},
     "output_type": "execute_result"
    }
   ],
   "source": [
    "dfnan.isnull().sum()"
   ]
  },
  {
   "cell_type": "code",
   "execution_count": 17,
   "metadata": {},
   "outputs": [
    {
     "data": {
      "text/plain": [
       "(2809, 13)"
      ]
     },
     "execution_count": 17,
     "metadata": {},
     "output_type": "execute_result"
    }
   ],
   "source": [
    "dfnan.shape"
   ]
  },
  {
   "cell_type": "code",
   "execution_count": 35,
   "metadata": {},
   "outputs": [],
   "source": [
    "def class_imbalance(data_frame, col):\n",
    "    try:\n",
    "        # Stores value counts\n",
    "        col_vals = data_frame[col].value_counts()\n",
    "        # Resets index to make index a column in data frame\n",
    "        col_vals = col_vals.reset_index()\n",
    "        # If the number of unique instances in column exceeds 20 print warning\n",
    "        if len(col_vals['index']) > 20:\n",
    "            print('Warning: values in column are more than 20 \\nPlease try a column with lower value counts!')\n",
    "        # Else it calculates/prints percentage for each unique value in column\n",
    "        else:\n",
    "            # Create a function to output the percentage\n",
    "            f = lambda x, y: 100 * (x / sum(y))\n",
    "            for i in range(0, len(col_vals['index'])):\n",
    "                print('{0} accounts for {1:.2f}% of the {2} column'\\\n",
    "                      .format(col_vals['index'][i],\n",
    "                              f(col_vals[col].iloc[i],\n",
    "                                col_vals[col]),\n",
    "                              col))\n",
    "    # try-except block goes here if it can't find the column in data frame\n",
    "    except KeyError as e:\n",
    "        print('{0}: Not found'.format(e))\n",
    "        print('Please choose the right column name!')"
   ]
  },
  {
   "cell_type": "code",
   "execution_count": 36,
   "metadata": {},
   "outputs": [
    {
     "name": "stdout",
     "output_type": "stream",
     "text": [
      "0 accounts for 91.53% of the bad column\n",
      "1 accounts for 8.47% of the bad column\n"
     ]
    }
   ],
   "source": [
    "class_imbalance(dfnan, 'bad')"
   ]
  },
  {
   "cell_type": "code",
   "execution_count": 37,
   "metadata": {},
   "outputs": [
    {
     "data": {
      "text/plain": [
       "0    2571\n",
       "1     238\n",
       "Name: bad, dtype: int64"
      ]
     },
     "execution_count": 37,
     "metadata": {},
     "output_type": "execute_result"
    }
   ],
   "source": [
    "dfnan[\"bad\"].value_counts()"
   ]
  },
  {
   "cell_type": "code",
   "execution_count": 38,
   "metadata": {},
   "outputs": [
    {
     "data": {
      "image/png": "[encoded data removed]",
      "text/plain": [
       "<Figure size 432x288 with 1 Axes>"
      ]
     },
     "metadata": {
      "needs_background": "light"
     },
     "output_type": "display_data"
    }
   ],
   "source": [
    "dfnan[\"bad\"].value_counts().plot.barh();"
   ]
  },
  {
   "cell_type": "code",
   "execution_count": 20,
   "metadata": {},
   "outputs": [
    {
     "data": {
      "text/html": [
       "<div>\n",
       "<style scoped>\n",
       "    .dataframe tbody tr th:only-of-type {\n",
       "        vertical-align: middle;\n",
       "    }\n",
       "\n",
       "    .dataframe tbody tr th {\n",
       "        vertical-align: top;\n",
       "    }\n",
       "\n",
       "    .dataframe thead th {\n",
       "        text-align: right;\n",
       "    }\n",
       "</style>\n",
       "<table border=\"1\" class=\"dataframe\">\n",
       "  <thead>\n",
       "    <tr style=\"text-align: right;\">\n",
       "      <th></th>\n",
       "      <th>loan</th>\n",
       "      <th>mortdue</th>\n",
       "      <th>value</th>\n",
       "      <th>yoj</th>\n",
       "      <th>derog</th>\n",
       "      <th>delinq</th>\n",
       "      <th>clage</th>\n",
       "      <th>ninq</th>\n",
       "      <th>clno</th>\n",
       "      <th>debtinc</th>\n",
       "    </tr>\n",
       "  </thead>\n",
       "  <tbody>\n",
       "    <tr>\n",
       "      <td>0</td>\n",
       "      <td>81200.0</td>\n",
       "      <td>18834.0</td>\n",
       "      <td>108355.0</td>\n",
       "      <td>28.0</td>\n",
       "      <td>0.0</td>\n",
       "      <td>0.0</td>\n",
       "      <td>139.14</td>\n",
       "      <td>0.0</td>\n",
       "      <td>14.0</td>\n",
       "      <td>34.042</td>\n",
       "    </tr>\n",
       "    <tr>\n",
       "      <td>1</td>\n",
       "      <td>12600.0</td>\n",
       "      <td>103960.0</td>\n",
       "      <td>127384.0</td>\n",
       "      <td>2.0</td>\n",
       "      <td>0.0</td>\n",
       "      <td>0.0</td>\n",
       "      <td>129.02</td>\n",
       "      <td>0.0</td>\n",
       "      <td>25.0</td>\n",
       "      <td>34.479</td>\n",
       "    </tr>\n",
       "    <tr>\n",
       "      <td>2</td>\n",
       "      <td>18000.0</td>\n",
       "      <td>46865.0</td>\n",
       "      <td>61266.0</td>\n",
       "      <td>5.0</td>\n",
       "      <td>0.0</td>\n",
       "      <td>0.0</td>\n",
       "      <td>102.59</td>\n",
       "      <td>2.0</td>\n",
       "      <td>9.0</td>\n",
       "      <td>26.354</td>\n",
       "    </tr>\n",
       "    <tr>\n",
       "      <td>3</td>\n",
       "      <td>10300.0</td>\n",
       "      <td>57676.0</td>\n",
       "      <td>71027.0</td>\n",
       "      <td>19.0</td>\n",
       "      <td>0.0</td>\n",
       "      <td>0.0</td>\n",
       "      <td>157.52</td>\n",
       "      <td>1.0</td>\n",
       "      <td>11.0</td>\n",
       "      <td>33.992</td>\n",
       "    </tr>\n",
       "    <tr>\n",
       "      <td>4</td>\n",
       "      <td>9400.0</td>\n",
       "      <td>56508.0</td>\n",
       "      <td>78358.0</td>\n",
       "      <td>17.0</td>\n",
       "      <td>0.0</td>\n",
       "      <td>0.0</td>\n",
       "      <td>141.93</td>\n",
       "      <td>0.0</td>\n",
       "      <td>11.0</td>\n",
       "      <td>32.327</td>\n",
       "    </tr>\n",
       "  </tbody>\n",
       "</table>\n",
       "</div>"
      ],
      "text/plain": [
       "      loan   mortdue     value   yoj  derog  delinq   clage  ninq  clno  \\\n",
       "0  81200.0   18834.0  108355.0  28.0    0.0     0.0  139.14   0.0  14.0   \n",
       "1  12600.0  103960.0  127384.0   2.0    0.0     0.0  129.02   0.0  25.0   \n",
       "2  18000.0   46865.0   61266.0   5.0    0.0     0.0  102.59   2.0   9.0   \n",
       "3  10300.0   57676.0   71027.0  19.0    0.0     0.0  157.52   1.0  11.0   \n",
       "4   9400.0   56508.0   78358.0  17.0    0.0     0.0  141.93   0.0  11.0   \n",
       "\n",
       "   debtinc  \n",
       "0   34.042  \n",
       "1   34.479  \n",
       "2   26.354  \n",
       "3   33.992  \n",
       "4   32.327  "
      ]
     },
     "execution_count": 20,
     "metadata": {},
     "output_type": "execute_result"
    }
   ],
   "source": [
    "dms = pd.get_dummies(dfnan[['reason', 'job']])\n",
    "dms.head()\n",
    "y = dfnan[\"bad\"]\n",
    "X_ = dfnan.drop([\"bad\", \"reason\", \"job\"], axis = 1).astype(\"float64\")\n",
    "X_.head()"
   ]
  },
  {
   "cell_type": "code",
   "execution_count": 21,
   "metadata": {},
   "outputs": [
    {
     "data": {
      "text/html": [
       "<div>\n",
       "<style scoped>\n",
       "    .dataframe tbody tr th:only-of-type {\n",
       "        vertical-align: middle;\n",
       "    }\n",
       "\n",
       "    .dataframe tbody tr th {\n",
       "        vertical-align: top;\n",
       "    }\n",
       "\n",
       "    .dataframe thead th {\n",
       "        text-align: right;\n",
       "    }\n",
       "</style>\n",
       "<table border=\"1\" class=\"dataframe\">\n",
       "  <thead>\n",
       "    <tr style=\"text-align: right;\">\n",
       "      <th></th>\n",
       "      <th>loan</th>\n",
       "      <th>mortdue</th>\n",
       "      <th>value</th>\n",
       "      <th>yoj</th>\n",
       "      <th>derog</th>\n",
       "      <th>delinq</th>\n",
       "      <th>clage</th>\n",
       "      <th>ninq</th>\n",
       "      <th>clno</th>\n",
       "      <th>debtinc</th>\n",
       "      <th>reason_HomeImp</th>\n",
       "      <th>job_Mgr</th>\n",
       "      <th>job_Office</th>\n",
       "      <th>job_Other</th>\n",
       "      <th>job_ProfEx</th>\n",
       "      <th>job_Sales</th>\n",
       "      <th>job_Self</th>\n",
       "    </tr>\n",
       "  </thead>\n",
       "  <tbody>\n",
       "    <tr>\n",
       "      <td>0</td>\n",
       "      <td>81200.0</td>\n",
       "      <td>18834.0</td>\n",
       "      <td>108355.0</td>\n",
       "      <td>28.0</td>\n",
       "      <td>0.0</td>\n",
       "      <td>0.0</td>\n",
       "      <td>139.14</td>\n",
       "      <td>0.0</td>\n",
       "      <td>14.0</td>\n",
       "      <td>34.042</td>\n",
       "      <td>1</td>\n",
       "      <td>0</td>\n",
       "      <td>0</td>\n",
       "      <td>1</td>\n",
       "      <td>0</td>\n",
       "      <td>0</td>\n",
       "      <td>0</td>\n",
       "    </tr>\n",
       "    <tr>\n",
       "      <td>1</td>\n",
       "      <td>12600.0</td>\n",
       "      <td>103960.0</td>\n",
       "      <td>127384.0</td>\n",
       "      <td>2.0</td>\n",
       "      <td>0.0</td>\n",
       "      <td>0.0</td>\n",
       "      <td>129.02</td>\n",
       "      <td>0.0</td>\n",
       "      <td>25.0</td>\n",
       "      <td>34.479</td>\n",
       "      <td>0</td>\n",
       "      <td>0</td>\n",
       "      <td>0</td>\n",
       "      <td>1</td>\n",
       "      <td>0</td>\n",
       "      <td>0</td>\n",
       "      <td>0</td>\n",
       "    </tr>\n",
       "    <tr>\n",
       "      <td>2</td>\n",
       "      <td>18000.0</td>\n",
       "      <td>46865.0</td>\n",
       "      <td>61266.0</td>\n",
       "      <td>5.0</td>\n",
       "      <td>0.0</td>\n",
       "      <td>0.0</td>\n",
       "      <td>102.59</td>\n",
       "      <td>2.0</td>\n",
       "      <td>9.0</td>\n",
       "      <td>26.354</td>\n",
       "      <td>0</td>\n",
       "      <td>0</td>\n",
       "      <td>0</td>\n",
       "      <td>1</td>\n",
       "      <td>0</td>\n",
       "      <td>0</td>\n",
       "      <td>0</td>\n",
       "    </tr>\n",
       "    <tr>\n",
       "      <td>3</td>\n",
       "      <td>10300.0</td>\n",
       "      <td>57676.0</td>\n",
       "      <td>71027.0</td>\n",
       "      <td>19.0</td>\n",
       "      <td>0.0</td>\n",
       "      <td>0.0</td>\n",
       "      <td>157.52</td>\n",
       "      <td>1.0</td>\n",
       "      <td>11.0</td>\n",
       "      <td>33.992</td>\n",
       "      <td>0</td>\n",
       "      <td>0</td>\n",
       "      <td>0</td>\n",
       "      <td>1</td>\n",
       "      <td>0</td>\n",
       "      <td>0</td>\n",
       "      <td>0</td>\n",
       "    </tr>\n",
       "    <tr>\n",
       "      <td>4</td>\n",
       "      <td>9400.0</td>\n",
       "      <td>56508.0</td>\n",
       "      <td>78358.0</td>\n",
       "      <td>17.0</td>\n",
       "      <td>0.0</td>\n",
       "      <td>0.0</td>\n",
       "      <td>141.93</td>\n",
       "      <td>0.0</td>\n",
       "      <td>11.0</td>\n",
       "      <td>32.327</td>\n",
       "      <td>0</td>\n",
       "      <td>0</td>\n",
       "      <td>0</td>\n",
       "      <td>1</td>\n",
       "      <td>0</td>\n",
       "      <td>0</td>\n",
       "      <td>0</td>\n",
       "    </tr>\n",
       "  </tbody>\n",
       "</table>\n",
       "</div>"
      ],
      "text/plain": [
       "      loan   mortdue     value   yoj  derog  delinq   clage  ninq  clno  \\\n",
       "0  81200.0   18834.0  108355.0  28.0    0.0     0.0  139.14   0.0  14.0   \n",
       "1  12600.0  103960.0  127384.0   2.0    0.0     0.0  129.02   0.0  25.0   \n",
       "2  18000.0   46865.0   61266.0   5.0    0.0     0.0  102.59   2.0   9.0   \n",
       "3  10300.0   57676.0   71027.0  19.0    0.0     0.0  157.52   1.0  11.0   \n",
       "4   9400.0   56508.0   78358.0  17.0    0.0     0.0  141.93   0.0  11.0   \n",
       "\n",
       "   debtinc  reason_HomeImp  job_Mgr  job_Office  job_Other  job_ProfEx  \\\n",
       "0   34.042               1        0           0          1           0   \n",
       "1   34.479               0        0           0          1           0   \n",
       "2   26.354               0        0           0          1           0   \n",
       "3   33.992               0        0           0          1           0   \n",
       "4   32.327               0        0           0          1           0   \n",
       "\n",
       "   job_Sales  job_Self  \n",
       "0          0         0  \n",
       "1          0         0  \n",
       "2          0         0  \n",
       "3          0         0  \n",
       "4          0         0  "
      ]
     },
     "execution_count": 21,
     "metadata": {},
     "output_type": "execute_result"
    }
   ],
   "source": [
    "X = pd.concat([X_, dms[[\"reason_HomeImp\", \"job_Mgr\",\"job_Office\",\"job_Other\",\"job_ProfEx\",\"job_Sales\",\"job_Self\"]]], axis = 1)\n",
    "X.head()"
   ]
  },
  {
   "cell_type": "markdown",
   "metadata": {},
   "source": [
    "# DecisionTreeClassifier"
   ]
  },
  {
   "cell_type": "code",
   "execution_count": 23,
   "metadata": {},
   "outputs": [
    {
     "name": "stdout",
     "output_type": "stream",
     "text": [
      "(1966, 17)\n",
      "(843, 17)\n",
      "(1966,)\n",
      "(843,)\n"
     ]
    }
   ],
   "source": [
    "X_train,X_test,y_train,y_test=train_test_split(X,y,test_size=0.30,random_state=42)\n",
    "print(X_train.shape)\n",
    "print(X_test.shape)\n",
    "print(y_train.shape)\n",
    "print(y_test.shape)"
   ]
  },
  {
   "cell_type": "code",
   "execution_count": 24,
   "metadata": {},
   "outputs": [],
   "source": [
    "from sklearn.tree import DecisionTreeClassifier"
   ]
  },
  {
   "cell_type": "code",
   "execution_count": 25,
   "metadata": {},
   "outputs": [
    {
     "data": {
      "text/plain": [
       "DecisionTreeClassifier(class_weight=None, criterion='gini', max_depth=None,\n",
       "                       max_features=None, max_leaf_nodes=None,\n",
       "                       min_impurity_decrease=0.0, min_impurity_split=None,\n",
       "                       min_samples_leaf=1, min_samples_split=2,\n",
       "                       min_weight_fraction_leaf=0.0, presort=False,\n",
       "                       random_state=None, splitter='best')"
      ]
     },
     "execution_count": 25,
     "metadata": {},
     "output_type": "execute_result"
    }
   ],
   "source": [
    "cart=DecisionTreeClassifier()\n",
    "cart_model=cart.fit(X_train,y_train)\n",
    "cart_model"
   ]
  },
  {
   "cell_type": "code",
   "execution_count": 26,
   "metadata": {},
   "outputs": [
    {
     "data": {
      "text/plain": [
       "0.9323843416370107"
      ]
     },
     "execution_count": 26,
     "metadata": {},
     "output_type": "execute_result"
    }
   ],
   "source": [
    "y_pred = cart_model.predict(X_test)\n",
    "accuracy_score(y_test,y_pred)"
   ]
  },
  {
   "cell_type": "code",
   "execution_count": null,
   "metadata": {},
   "outputs": [],
   "source": [
    "accuracy yüksek, "
   ]
  },
  {
   "cell_type": "code",
   "execution_count": 27,
   "metadata": {},
   "outputs": [
    {
     "name": "stdout",
     "output_type": "stream",
     "text": [
      "              precision    recall  f1-score   support\n",
      "\n",
      "           0       0.96      0.97      0.96       773\n",
      "           1       0.61      0.51      0.56        70\n",
      "\n",
      "    accuracy                           0.93       843\n",
      "   macro avg       0.78      0.74      0.76       843\n",
      "weighted avg       0.93      0.93      0.93       843\n",
      "\n"
     ]
    }
   ],
   "source": [
    "print(classification_report(y_test,y_pred))"
   ]
  },
  {
   "cell_type": "code",
   "execution_count": 28,
   "metadata": {},
   "outputs": [],
   "source": [
    "?cart_model"
   ]
  },
  {
   "cell_type": "code",
   "execution_count": 29,
   "metadata": {},
   "outputs": [],
   "source": [
    "cart_grid = {\"max_depth\": range(1,10),\n",
    "             \"min_samples_split\" : list(range(2,50))}"
   ]
  },
  {
   "cell_type": "code",
   "execution_count": 30,
   "metadata": {},
   "outputs": [
    {
     "name": "stdout",
     "output_type": "stream",
     "text": [
      "Fitting 10 folds for each of 432 candidates, totalling 4320 fits\n"
     ]
    },
    {
     "name": "stderr",
     "output_type": "stream",
     "text": [
      "[Parallel(n_jobs=-1)]: Using backend LokyBackend with 8 concurrent workers.\n",
      "[Parallel(n_jobs=-1)]: Done  34 tasks      | elapsed:    8.8s\n",
      "[Parallel(n_jobs=-1)]: Done 1541 tasks      | elapsed:   12.7s\n",
      "[Parallel(n_jobs=-1)]: Done 4320 out of 4320 | elapsed:   23.5s finished\n"
     ]
    }
   ],
   "source": [
    "cart = tree.DecisionTreeClassifier()\n",
    "cart_cv = GridSearchCV(cart, cart_grid, cv=10, n_jobs=-1, verbose=1)\n",
    "cart_cv_model=cart_cv.fit(X_train, y_train)"
   ]
  },
  {
   "cell_type": "code",
   "execution_count": 31,
   "metadata": {},
   "outputs": [
    {
     "name": "stdout",
     "output_type": "stream",
     "text": [
      "En iyi paramatreler: {'max_depth': 8, 'min_samples_split': 3}\n"
     ]
    }
   ],
   "source": [
    "print(\"En iyi paramatreler: \" + str(cart_cv_model.best_params_))"
   ]
  },
  {
   "cell_type": "code",
   "execution_count": 32,
   "metadata": {},
   "outputs": [],
   "source": [
    "cart = tree.DecisionTreeClassifier(max_depth=8, min_samples_split=3)\n",
    "cart_tuned=cart.fit(X_train, y_train)"
   ]
  },
  {
   "cell_type": "code",
   "execution_count": 33,
   "metadata": {},
   "outputs": [
    {
     "data": {
      "text/plain": [
       "0.9371293001186239"
      ]
     },
     "execution_count": 33,
     "metadata": {},
     "output_type": "execute_result"
    }
   ],
   "source": [
    "y_pred=cart_tuned.predict(X_test)\n",
    "accuracy_score(y_test,y_pred)"
   ]
  },
  {
   "cell_type": "code",
   "execution_count": 34,
   "metadata": {},
   "outputs": [
    {
     "name": "stdout",
     "output_type": "stream",
     "text": [
      "              precision    recall  f1-score   support\n",
      "\n",
      "           0       0.94      0.99      0.97       773\n",
      "           1       0.79      0.33      0.46        70\n",
      "\n",
      "    accuracy                           0.94       843\n",
      "   macro avg       0.87      0.66      0.72       843\n",
      "weighted avg       0.93      0.94      0.92       843\n",
      "\n"
     ]
    }
   ],
   "source": [
    "print(classification_report(y_test,y_pred))"
   ]
  },
  {
   "cell_type": "markdown",
   "metadata": {},
   "source": [
    "# RandomForestClassifier"
   ]
  },
  {
   "cell_type": "code",
   "execution_count": 39,
   "metadata": {},
   "outputs": [
    {
     "name": "stdout",
     "output_type": "stream",
     "text": [
      "(1966, 17)\n",
      "(843, 17)\n",
      "(1966,)\n",
      "(843,)\n"
     ]
    }
   ],
   "source": [
    "X_train,X_test,y_train,y_test=train_test_split(X,y,test_size=0.30,random_state=42)\n",
    "print(X_train.shape)\n",
    "print(X_test.shape)\n",
    "print(y_train.shape)\n",
    "print(y_test.shape)"
   ]
  },
  {
   "cell_type": "code",
   "execution_count": 40,
   "metadata": {},
   "outputs": [],
   "source": [
    "from sklearn.ensemble import RandomForestClassifier"
   ]
  },
  {
   "cell_type": "code",
   "execution_count": 41,
   "metadata": {},
   "outputs": [
    {
     "name": "stderr",
     "output_type": "stream",
     "text": [
      "C:\\Users\\lenovo\\Anaconda3\\lib\\site-packages\\sklearn\\ensemble\\forest.py:245: FutureWarning: The default value of n_estimators will change from 10 in version 0.20 to 100 in 0.22.\n",
      "  \"10 in version 0.20 to 100 in 0.22.\", FutureWarning)\n"
     ]
    },
    {
     "data": {
      "text/plain": [
       "RandomForestClassifier(bootstrap=True, class_weight=None, criterion='gini',\n",
       "                       max_depth=None, max_features='auto', max_leaf_nodes=None,\n",
       "                       min_impurity_decrease=0.0, min_impurity_split=None,\n",
       "                       min_samples_leaf=1, min_samples_split=2,\n",
       "                       min_weight_fraction_leaf=0.0, n_estimators=10,\n",
       "                       n_jobs=None, oob_score=False, random_state=None,\n",
       "                       verbose=0, warm_start=False)"
      ]
     },
     "execution_count": 41,
     "metadata": {},
     "output_type": "execute_result"
    }
   ],
   "source": [
    "rf_model=RandomForestClassifier().fit(X_train,y_train)\n",
    "rf_model"
   ]
  },
  {
   "cell_type": "code",
   "execution_count": 42,
   "metadata": {},
   "outputs": [
    {
     "data": {
      "text/plain": [
       "0.9406880189798339"
      ]
     },
     "execution_count": 42,
     "metadata": {},
     "output_type": "execute_result"
    }
   ],
   "source": [
    "y_pred=rf_model.predict(X_test)\n",
    "accuracy_score(y_test,y_pred)"
   ]
  },
  {
   "cell_type": "code",
   "execution_count": 43,
   "metadata": {},
   "outputs": [
    {
     "name": "stdout",
     "output_type": "stream",
     "text": [
      "              precision    recall  f1-score   support\n",
      "\n",
      "           0       0.94      1.00      0.97       773\n",
      "           1       0.95      0.30      0.46        70\n",
      "\n",
      "    accuracy                           0.94       843\n",
      "   macro avg       0.95      0.65      0.71       843\n",
      "weighted avg       0.94      0.94      0.93       843\n",
      "\n"
     ]
    }
   ],
   "source": [
    "print(classification_report(y_test,y_pred))"
   ]
  },
  {
   "cell_type": "code",
   "execution_count": 44,
   "metadata": {},
   "outputs": [],
   "source": [
    "?rf_model"
   ]
  },
  {
   "cell_type": "code",
   "execution_count": 45,
   "metadata": {},
   "outputs": [],
   "source": [
    "rf_params= {\"max_depth\": [2,5,8],\n",
    "           \"max_features\": [2,5,8],\n",
    "           \"n_estimators\": [10,50,500],\n",
    "           \"min_samples_split\": [2,5,8]}"
   ]
  },
  {
   "cell_type": "code",
   "execution_count": 47,
   "metadata": {},
   "outputs": [
    {
     "name": "stdout",
     "output_type": "stream",
     "text": [
      "Fitting 10 folds for each of 81 candidates, totalling 810 fits\n"
     ]
    },
    {
     "name": "stderr",
     "output_type": "stream",
     "text": [
      "[Parallel(n_jobs=-1)]: Using backend LokyBackend with 8 concurrent workers.\n",
      "[Parallel(n_jobs=-1)]: Done  70 tasks      | elapsed:    4.3s\n",
      "[Parallel(n_jobs=-1)]: Done 276 tasks      | elapsed:   23.9s\n",
      "[Parallel(n_jobs=-1)]: Done 479 tasks      | elapsed:   48.9s\n",
      "[Parallel(n_jobs=-1)]: Done 762 tasks      | elapsed:  1.5min\n",
      "[Parallel(n_jobs=-1)]: Done 810 out of 810 | elapsed:  1.8min finished\n"
     ]
    },
    {
     "data": {
      "text/plain": [
       "GridSearchCV(cv=10, error_score='raise-deprecating',\n",
       "             estimator=RandomForestClassifier(bootstrap=True, class_weight=None,\n",
       "                                              criterion='gini', max_depth=None,\n",
       "                                              max_features='auto',\n",
       "                                              max_leaf_nodes=None,\n",
       "                                              min_impurity_decrease=0.0,\n",
       "                                              min_impurity_split=None,\n",
       "                                              min_samples_leaf=1,\n",
       "                                              min_samples_split=2,\n",
       "                                              min_weight_fraction_leaf=0.0,\n",
       "                                              n_estimators='warn', n_jobs=None,\n",
       "                                              oob_score=False,\n",
       "                                              random_state=None, verbose=0,\n",
       "                                              warm_start=False),\n",
       "             iid='warn', n_jobs=-1,\n",
       "             param_grid={'max_depth': [2, 5, 8], 'max_features': [2, 5, 8],\n",
       "                         'min_samples_split': [2, 5, 8],\n",
       "                         'n_estimators': [10, 50, 500]},\n",
       "             pre_dispatch='2*n_jobs', refit=True, return_train_score=False,\n",
       "             scoring=None, verbose=2)"
      ]
     },
     "execution_count": 47,
     "metadata": {},
     "output_type": "execute_result"
    }
   ],
   "source": [
    "rf_model = RandomForestClassifier()\n",
    "rf_cv_model=GridSearchCV(rf_model,rf_params,cv=10,n_jobs=-1,verbose=2)\n",
    "rf_cv_model.fit(X_train,y_train)"
   ]
  },
  {
   "cell_type": "code",
   "execution_count": 48,
   "metadata": {},
   "outputs": [
    {
     "name": "stdout",
     "output_type": "stream",
     "text": [
      "En iyi parametreler: {'max_depth': 8, 'max_features': 8, 'min_samples_split': 2, 'n_estimators': 500}\n"
     ]
    }
   ],
   "source": [
    "print(\"En iyi parametreler: \" + str(rf_cv_model.best_params_))"
   ]
  },
  {
   "cell_type": "code",
   "execution_count": 49,
   "metadata": {},
   "outputs": [],
   "source": [
    "rf_tuned = RandomForestClassifier(max_depth = 8,\n",
    "                                 max_features =8,\n",
    "                                 min_samples_split=2,\n",
    "                                 n_estimators=500)"
   ]
  },
  {
   "cell_type": "code",
   "execution_count": 50,
   "metadata": {},
   "outputs": [
    {
     "data": {
      "text/plain": [
       "RandomForestClassifier(bootstrap=True, class_weight=None, criterion='gini',\n",
       "                       max_depth=8, max_features=8, max_leaf_nodes=None,\n",
       "                       min_impurity_decrease=0.0, min_impurity_split=None,\n",
       "                       min_samples_leaf=1, min_samples_split=2,\n",
       "                       min_weight_fraction_leaf=0.0, n_estimators=500,\n",
       "                       n_jobs=None, oob_score=False, random_state=None,\n",
       "                       verbose=0, warm_start=False)"
      ]
     },
     "execution_count": 50,
     "metadata": {},
     "output_type": "execute_result"
    }
   ],
   "source": [
    "rf_tuned.fit(X_train,y_train)"
   ]
  },
  {
   "cell_type": "code",
   "execution_count": 51,
   "metadata": {},
   "outputs": [
    {
     "data": {
      "text/plain": [
       "0.9383155397390273"
      ]
     },
     "execution_count": 51,
     "metadata": {},
     "output_type": "execute_result"
    }
   ],
   "source": [
    "y_pred=rf_tuned.predict(X_test)\n",
    "accuracy_score(y_test,y_pred)"
   ]
  },
  {
   "cell_type": "code",
   "execution_count": 52,
   "metadata": {},
   "outputs": [
    {
     "name": "stdout",
     "output_type": "stream",
     "text": [
      "              precision    recall  f1-score   support\n",
      "\n",
      "           0       0.94      1.00      0.97       773\n",
      "           1       1.00      0.26      0.41        70\n",
      "\n",
      "    accuracy                           0.94       843\n",
      "   macro avg       0.97      0.63      0.69       843\n",
      "weighted avg       0.94      0.94      0.92       843\n",
      "\n"
     ]
    }
   ],
   "source": [
    "print(classification_report(y_test,y_pred))"
   ]
  },
  {
   "cell_type": "code",
   "execution_count": 53,
   "metadata": {},
   "outputs": [],
   "source": [
    "Importance = pd.DataFrame({\"Importance\":rf_tuned.feature_importances_*100}, index=X_train.columns)"
   ]
  },
  {
   "cell_type": "code",
   "execution_count": 54,
   "metadata": {},
   "outputs": [
    {
     "data": {
      "image/png": "[encoded data removed]",
      "text/plain": [
       "<Figure size 432x288 with 1 Axes>"
      ]
     },
     "metadata": {
      "needs_background": "light"
     },
     "output_type": "display_data"
    }
   ],
   "source": [
    "Importance.sort_values(by=\"Importance\", axis=0, ascending=True).plot(kind=\"barh\", color ='b')\n",
    "plt.show()"
   ]
  },
  {
   "cell_type": "code",
   "execution_count": 55,
   "metadata": {},
   "outputs": [
    {
     "data": {
      "text/html": [
       "<div>\n",
       "<style scoped>\n",
       "    .dataframe tbody tr th:only-of-type {\n",
       "        vertical-align: middle;\n",
       "    }\n",
       "\n",
       "    .dataframe tbody tr th {\n",
       "        vertical-align: top;\n",
       "    }\n",
       "\n",
       "    .dataframe thead th {\n",
       "        text-align: right;\n",
       "    }\n",
       "</style>\n",
       "<table border=\"1\" class=\"dataframe\">\n",
       "  <thead>\n",
       "    <tr style=\"text-align: right;\">\n",
       "      <th></th>\n",
       "      <th>Importance</th>\n",
       "    </tr>\n",
       "  </thead>\n",
       "  <tbody>\n",
       "    <tr>\n",
       "      <td>loan</td>\n",
       "      <td>8.652180</td>\n",
       "    </tr>\n",
       "    <tr>\n",
       "      <td>mortdue</td>\n",
       "      <td>5.974272</td>\n",
       "    </tr>\n",
       "    <tr>\n",
       "      <td>value</td>\n",
       "      <td>6.289143</td>\n",
       "    </tr>\n",
       "    <tr>\n",
       "      <td>yoj</td>\n",
       "      <td>2.510725</td>\n",
       "    </tr>\n",
       "    <tr>\n",
       "      <td>derog</td>\n",
       "      <td>3.062875</td>\n",
       "    </tr>\n",
       "    <tr>\n",
       "      <td>delinq</td>\n",
       "      <td>8.763033</td>\n",
       "    </tr>\n",
       "    <tr>\n",
       "      <td>clage</td>\n",
       "      <td>6.772825</td>\n",
       "    </tr>\n",
       "    <tr>\n",
       "      <td>ninq</td>\n",
       "      <td>3.605424</td>\n",
       "    </tr>\n",
       "    <tr>\n",
       "      <td>clno</td>\n",
       "      <td>6.658266</td>\n",
       "    </tr>\n",
       "    <tr>\n",
       "      <td>debtinc</td>\n",
       "      <td>45.103001</td>\n",
       "    </tr>\n",
       "    <tr>\n",
       "      <td>reason_HomeImp</td>\n",
       "      <td>0.497691</td>\n",
       "    </tr>\n",
       "    <tr>\n",
       "      <td>job_Mgr</td>\n",
       "      <td>0.257718</td>\n",
       "    </tr>\n",
       "    <tr>\n",
       "      <td>job_Office</td>\n",
       "      <td>0.487204</td>\n",
       "    </tr>\n",
       "    <tr>\n",
       "      <td>job_Other</td>\n",
       "      <td>0.520330</td>\n",
       "    </tr>\n",
       "    <tr>\n",
       "      <td>job_ProfEx</td>\n",
       "      <td>0.399900</td>\n",
       "    </tr>\n",
       "    <tr>\n",
       "      <td>job_Sales</td>\n",
       "      <td>0.330528</td>\n",
       "    </tr>\n",
       "    <tr>\n",
       "      <td>job_Self</td>\n",
       "      <td>0.114885</td>\n",
       "    </tr>\n",
       "  </tbody>\n",
       "</table>\n",
       "</div>"
      ],
      "text/plain": [
       "                Importance\n",
       "loan              8.652180\n",
       "mortdue           5.974272\n",
       "value             6.289143\n",
       "yoj               2.510725\n",
       "derog             3.062875\n",
       "delinq            8.763033\n",
       "clage             6.772825\n",
       "ninq              3.605424\n",
       "clno              6.658266\n",
       "debtinc          45.103001\n",
       "reason_HomeImp    0.497691\n",
       "job_Mgr           0.257718\n",
       "job_Office        0.487204\n",
       "job_Other         0.520330\n",
       "job_ProfEx        0.399900\n",
       "job_Sales         0.330528\n",
       "job_Self          0.114885"
      ]
     },
     "execution_count": 55,
     "metadata": {},
     "output_type": "execute_result"
    }
   ],
   "source": [
    "Importance"
   ]
  },
  {
   "cell_type": "markdown",
   "metadata": {},
   "source": [
    "# MLPClassifier"
   ]
  },
  {
   "cell_type": "code",
   "execution_count": 56,
   "metadata": {},
   "outputs": [
    {
     "name": "stdout",
     "output_type": "stream",
     "text": [
      "(1966, 17)\n",
      "(843, 17)\n",
      "(1966,)\n",
      "(843,)\n"
     ]
    }
   ],
   "source": [
    "X_train,X_test,y_train,y_test=train_test_split(X,y,test_size=0.30,random_state=42)\n",
    "print(X_train.shape)\n",
    "print(X_test.shape)\n",
    "print(y_train.shape)\n",
    "print(y_test.shape)"
   ]
  },
  {
   "cell_type": "code",
   "execution_count": 57,
   "metadata": {},
   "outputs": [],
   "source": [
    "from sklearn.preprocessing import StandardScaler \n",
    "scaler =StandardScaler()"
   ]
  },
  {
   "cell_type": "code",
   "execution_count": 58,
   "metadata": {},
   "outputs": [],
   "source": [
    "scaler.fit(X_train)\n",
    "X_train_scaled = scaler.transform(X_train)\n",
    "X_test_scaled = scaler.transform(X_test)"
   ]
  },
  {
   "cell_type": "code",
   "execution_count": 59,
   "metadata": {},
   "outputs": [],
   "source": [
    "from sklearn.neural_network import MLPClassifier"
   ]
  },
  {
   "cell_type": "code",
   "execution_count": 60,
   "metadata": {},
   "outputs": [
    {
     "name": "stderr",
     "output_type": "stream",
     "text": [
      "C:\\Users\\lenovo\\Anaconda3\\lib\\site-packages\\sklearn\\neural_network\\multilayer_perceptron.py:566: ConvergenceWarning: Stochastic Optimizer: Maximum iterations (200) reached and the optimization hasn't converged yet.\n",
      "  % self.max_iter, ConvergenceWarning)\n"
     ]
    },
    {
     "data": {
      "text/plain": [
       "MLPClassifier(activation='relu', alpha=0.0001, batch_size='auto', beta_1=0.9,\n",
       "              beta_2=0.999, early_stopping=False, epsilon=1e-08,\n",
       "              hidden_layer_sizes=(100,), learning_rate='constant',\n",
       "              learning_rate_init=0.001, max_iter=200, momentum=0.9,\n",
       "              n_iter_no_change=10, nesterovs_momentum=True, power_t=0.5,\n",
       "              random_state=None, shuffle=True, solver='adam', tol=0.0001,\n",
       "              validation_fraction=0.1, verbose=False, warm_start=False)"
      ]
     },
     "execution_count": 60,
     "metadata": {},
     "output_type": "execute_result"
    }
   ],
   "source": [
    "mlpc = MLPClassifier().fit(X_train_scaled, y_train)\n",
    "mlpc"
   ]
  },
  {
   "cell_type": "code",
   "execution_count": 61,
   "metadata": {},
   "outputs": [
    {
     "data": {
      "text/plain": [
       "0.9406880189798339"
      ]
     },
     "execution_count": 61,
     "metadata": {},
     "output_type": "execute_result"
    }
   ],
   "source": [
    "y_pred= mlpc.predict(X_test_scaled)\n",
    "accuracy_score(y_test,y_pred)"
   ]
  },
  {
   "cell_type": "code",
   "execution_count": 62,
   "metadata": {},
   "outputs": [
    {
     "name": "stdout",
     "output_type": "stream",
     "text": [
      "              precision    recall  f1-score   support\n",
      "\n",
      "           0       0.94      0.99      0.97       773\n",
      "           1       0.86      0.34      0.49        70\n",
      "\n",
      "    accuracy                           0.94       843\n",
      "   macro avg       0.90      0.67      0.73       843\n",
      "weighted avg       0.94      0.94      0.93       843\n",
      "\n"
     ]
    }
   ],
   "source": [
    "print(classification_report(y_test,y_pred))"
   ]
  },
  {
   "cell_type": "code",
   "execution_count": 63,
   "metadata": {},
   "outputs": [],
   "source": [
    "?mlpc"
   ]
  },
  {
   "cell_type": "code",
   "execution_count": 64,
   "metadata": {},
   "outputs": [],
   "source": [
    "mlpc_params = {\"alpha\": [0.1, 0.01, 0.02, 0.005, 0.0001,0.00001],\n",
    "              \"hidden_layer_sizes\": [(10,10,10),\n",
    "                                     (100,100),\n",
    "                                     (3,5), \n",
    "                                     (5, 3)],\n",
    "              \"solver\" : [\"lbfgs\",\"adam\",\"sgd\"],\n",
    "              \"activation\": [\"relu\",\"logistic\"]}"
   ]
  },
  {
   "cell_type": "code",
   "execution_count": 65,
   "metadata": {},
   "outputs": [
    {
     "name": "stdout",
     "output_type": "stream",
     "text": [
      "Fitting 10 folds for each of 144 candidates, totalling 1440 fits\n"
     ]
    },
    {
     "name": "stderr",
     "output_type": "stream",
     "text": [
      "[Parallel(n_jobs=-1)]: Using backend LokyBackend with 8 concurrent workers.\n",
      "[Parallel(n_jobs=-1)]: Done  25 tasks      | elapsed:   15.5s\n",
      "[Parallel(n_jobs=-1)]: Done 146 tasks      | elapsed:  1.2min\n",
      "[Parallel(n_jobs=-1)]: Done 349 tasks      | elapsed:  2.7min\n",
      "[Parallel(n_jobs=-1)]: Done 632 tasks      | elapsed:  4.4min\n",
      "[Parallel(n_jobs=-1)]: Done 997 tasks      | elapsed:  6.7min\n",
      "[Parallel(n_jobs=-1)]: Done 1440 out of 1440 | elapsed:  9.2min finished\n"
     ]
    },
    {
     "data": {
      "text/plain": [
       "GridSearchCV(cv=10, error_score='raise-deprecating',\n",
       "             estimator=MLPClassifier(activation='relu', alpha=0.0001,\n",
       "                                     batch_size='auto', beta_1=0.9,\n",
       "                                     beta_2=0.999, early_stopping=False,\n",
       "                                     epsilon=1e-08, hidden_layer_sizes=(100,),\n",
       "                                     learning_rate='constant',\n",
       "                                     learning_rate_init=0.001, max_iter=200,\n",
       "                                     momentum=0.9, n_iter_no_change=10,\n",
       "                                     nesterovs_momentum=True, power_t=0.5,\n",
       "                                     random_st...\n",
       "                                     solver='adam', tol=0.0001,\n",
       "                                     validation_fraction=0.1, verbose=False,\n",
       "                                     warm_start=False),\n",
       "             iid='warn', n_jobs=-1,\n",
       "             param_grid={'activation': ['relu', 'logistic'],\n",
       "                         'alpha': [0.1, 0.01, 0.02, 0.005, 0.0001, 1e-05],\n",
       "                         'hidden_layer_sizes': [(10, 10, 10), (100, 100),\n",
       "                                                (3, 5), (5, 3)],\n",
       "                         'solver': ['lbfgs', 'adam', 'sgd']},\n",
       "             pre_dispatch='2*n_jobs', refit=True, return_train_score=False,\n",
       "             scoring=None, verbose=2)"
      ]
     },
     "execution_count": 65,
     "metadata": {},
     "output_type": "execute_result"
    }
   ],
   "source": [
    "mlpc= MLPClassifier()\n",
    "mlpc_cv_model = GridSearchCV(mlpc, mlpc_params, cv=10,n_jobs=-1, verbose=2)\n",
    "mlpc_cv_model.fit(X_train_scaled, y_train)"
   ]
  },
  {
   "cell_type": "code",
   "execution_count": 66,
   "metadata": {},
   "outputs": [
    {
     "name": "stdout",
     "output_type": "stream",
     "text": [
      "En iyi parametreler : {'activation': 'relu', 'alpha': 0.02, 'hidden_layer_sizes': (100, 100), 'solver': 'lbfgs'}\n"
     ]
    }
   ],
   "source": [
    "print(\"En iyi parametreler : \" + str(mlpc_cv_model.best_params_))"
   ]
  },
  {
   "cell_type": "code",
   "execution_count": 67,
   "metadata": {},
   "outputs": [],
   "source": [
    "mlpc_tuned = MLPClassifier(activation = \"relu\", alpha=0.02, hidden_layer_sizes=(100,100), solver = \"lbfgs\")"
   ]
  },
  {
   "cell_type": "code",
   "execution_count": 68,
   "metadata": {},
   "outputs": [
    {
     "data": {
      "text/plain": [
       "0.9454329774614472"
      ]
     },
     "execution_count": 68,
     "metadata": {},
     "output_type": "execute_result"
    }
   ],
   "source": [
    "mlpc_tuned.fit(X_train_scaled, y_train)\n",
    "y_pred=mlpc_tuned.predict(X_test_scaled)\n",
    "accuracy_score(y_test,y_pred)"
   ]
  },
  {
   "cell_type": "code",
   "execution_count": 69,
   "metadata": {},
   "outputs": [
    {
     "name": "stdout",
     "output_type": "stream",
     "text": [
      "              precision    recall  f1-score   support\n",
      "\n",
      "           0       0.95      0.99      0.97       773\n",
      "           1       0.83      0.43      0.57        70\n",
      "\n",
      "    accuracy                           0.95       843\n",
      "   macro avg       0.89      0.71      0.77       843\n",
      "weighted avg       0.94      0.95      0.94       843\n",
      "\n"
     ]
    }
   ],
   "source": [
    "print(classification_report(y_test,y_pred))"
   ]
  },
  {
   "cell_type": "code",
   "execution_count": null,
   "metadata": {},
   "outputs": [],
   "source": []
  }
 ],
 "metadata": {
  "kernelspec": {
   "display_name": "Python 3",
   "language": "python",
   "name": "python3"
  },
  "language_info": {
   "codemirror_mode": {
    "name": "ipython",
    "version": 3
   },
   "file_extension": ".py",
   "mimetype": "text/x-python",
   "name": "python",
   "nbconvert_exporter": "python",
   "pygments_lexer": "ipython3",
   "version": "3.7.4"
  }
 },
 "nbformat": 4,
 "nbformat_minor": 2
}
