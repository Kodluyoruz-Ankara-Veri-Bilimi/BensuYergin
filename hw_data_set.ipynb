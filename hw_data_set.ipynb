{
 "cells": [
  {
   "cell_type": "code",
   "execution_count": 363,
   "metadata": {},
   "outputs": [],
   "source": [
    "import pandas as pd\n",
    "import os\n",
    "import numpy as np\n",
    "from pandas import Series, DataFrame\n",
    "import matplotlib.pyplot as plt\n",
    "import seaborn as sns\n",
    "from scipy import stats\n",
    "from scipy.stats import shapiro\n",
    "os.chdir(\"C:/Users/lenovo/Desktop/jupyternotebook\")\n",
    "data = pd.ExcelFile(\"HW_Data_Set.xlsx\")"
   ]
  },
  {
   "cell_type": "code",
   "execution_count": 364,
   "metadata": {},
   "outputs": [],
   "source": [
    "from pandas import read_excel\n",
    "# find your sheet name at the bottom left of your excel file and assign \n",
    "# it to my_sheet \n",
    "my_sheet = 'Sheet1' # change it to your sheet name\n",
    "file_name = 'HW_Data_Set.xlsx' # change it to the name of your excel file\n",
    "df = read_excel(file_name, sheet_name = my_sheet)"
   ]
  },
  {
   "cell_type": "code",
   "execution_count": 366,
   "metadata": {
    "scrolled": true
   },
   "outputs": [
    {
     "data": {
      "text/html": [
       "<div>\n",
       "<style scoped>\n",
       "    .dataframe tbody tr th:only-of-type {\n",
       "        vertical-align: middle;\n",
       "    }\n",
       "\n",
       "    .dataframe tbody tr th {\n",
       "        vertical-align: top;\n",
       "    }\n",
       "\n",
       "    .dataframe thead th {\n",
       "        text-align: right;\n",
       "    }\n",
       "</style>\n",
       "<table border=\"1\" class=\"dataframe\">\n",
       "  <thead>\n",
       "    <tr style=\"text-align: right;\">\n",
       "      <th></th>\n",
       "      <th>ind_5</th>\n",
       "      <th>ind_6</th>\n",
       "      <th>ind_8</th>\n",
       "      <th>ind_9</th>\n",
       "      <th>ind_10</th>\n",
       "      <th>ind_12</th>\n",
       "      <th>ind_13</th>\n",
       "      <th>ind_14</th>\n",
       "      <th>ind_15</th>\n",
       "      <th>ind_16</th>\n",
       "      <th>...</th>\n",
       "      <th>ind_416</th>\n",
       "      <th>ind_418</th>\n",
       "      <th>ind_420</th>\n",
       "      <th>ind_422</th>\n",
       "      <th>ind_424</th>\n",
       "      <th>ind_426</th>\n",
       "      <th>ind_428</th>\n",
       "      <th>20_target</th>\n",
       "      <th>50_target</th>\n",
       "      <th>90_target</th>\n",
       "    </tr>\n",
       "  </thead>\n",
       "  <tbody>\n",
       "    <tr>\n",
       "      <td>0</td>\n",
       "      <td>19</td>\n",
       "      <td>17</td>\n",
       "      <td>100.0</td>\n",
       "      <td>85.714286</td>\n",
       "      <td>14.285714</td>\n",
       "      <td>72.363515</td>\n",
       "      <td>60.808814</td>\n",
       "      <td>23.80</td>\n",
       "      <td>17.62</td>\n",
       "      <td>11.73</td>\n",
       "      <td>...</td>\n",
       "      <td>-49.6</td>\n",
       "      <td>-54</td>\n",
       "      <td>-152</td>\n",
       "      <td>-353</td>\n",
       "      <td>1.0</td>\n",
       "      <td>0.498547</td>\n",
       "      <td>0.701906</td>\n",
       "      <td>15.135802</td>\n",
       "      <td>35.625252</td>\n",
       "      <td>36.997753</td>\n",
       "    </tr>\n",
       "    <tr>\n",
       "      <td>1</td>\n",
       "      <td>24</td>\n",
       "      <td>19</td>\n",
       "      <td>100.0</td>\n",
       "      <td>78.571429</td>\n",
       "      <td>21.428571</td>\n",
       "      <td>74.275883</td>\n",
       "      <td>64.366798</td>\n",
       "      <td>11.45</td>\n",
       "      <td>18.16</td>\n",
       "      <td>12.22</td>\n",
       "      <td>...</td>\n",
       "      <td>-55.6</td>\n",
       "      <td>-60</td>\n",
       "      <td>-158</td>\n",
       "      <td>-359</td>\n",
       "      <td>1.0</td>\n",
       "      <td>0.537088</td>\n",
       "      <td>0.690833</td>\n",
       "      <td>15.143348</td>\n",
       "      <td>35.643013</td>\n",
       "      <td>37.016198</td>\n",
       "    </tr>\n",
       "    <tr>\n",
       "      <td>2</td>\n",
       "      <td>30</td>\n",
       "      <td>24</td>\n",
       "      <td>100.0</td>\n",
       "      <td>71.428571</td>\n",
       "      <td>28.571429</td>\n",
       "      <td>75.140402</td>\n",
       "      <td>65.915803</td>\n",
       "      <td>8.75</td>\n",
       "      <td>17.86</td>\n",
       "      <td>12.28</td>\n",
       "      <td>...</td>\n",
       "      <td>-58.4</td>\n",
       "      <td>-60</td>\n",
       "      <td>-160</td>\n",
       "      <td>-362</td>\n",
       "      <td>1.0</td>\n",
       "      <td>0.615169</td>\n",
       "      <td>0.693040</td>\n",
       "      <td>15.146870</td>\n",
       "      <td>35.651301</td>\n",
       "      <td>-37.024805</td>\n",
       "    </tr>\n",
       "    <tr>\n",
       "      <td>3</td>\n",
       "      <td>37</td>\n",
       "      <td>30</td>\n",
       "      <td>100.0</td>\n",
       "      <td>64.285714</td>\n",
       "      <td>35.714286</td>\n",
       "      <td>76.677846</td>\n",
       "      <td>68.584234</td>\n",
       "      <td>7.80</td>\n",
       "      <td>14.76</td>\n",
       "      <td>12.61</td>\n",
       "      <td>...</td>\n",
       "      <td>-61.8</td>\n",
       "      <td>-65</td>\n",
       "      <td>-166</td>\n",
       "      <td>-367</td>\n",
       "      <td>1.0</td>\n",
       "      <td>0.661517</td>\n",
       "      <td>0.673418</td>\n",
       "      <td>15.153283</td>\n",
       "      <td>0.000000</td>\n",
       "      <td>-37.040483</td>\n",
       "    </tr>\n",
       "    <tr>\n",
       "      <td>4</td>\n",
       "      <td>41</td>\n",
       "      <td>37</td>\n",
       "      <td>100.0</td>\n",
       "      <td>57.142857</td>\n",
       "      <td>42.857143</td>\n",
       "      <td>81.603007</td>\n",
       "      <td>76.455495</td>\n",
       "      <td>14.90</td>\n",
       "      <td>11.92</td>\n",
       "      <td>14.25</td>\n",
       "      <td>...</td>\n",
       "      <td>-79.8</td>\n",
       "      <td>-86</td>\n",
       "      <td>-186</td>\n",
       "      <td>-388</td>\n",
       "      <td>1.0</td>\n",
       "      <td>0.747204</td>\n",
       "      <td>0.700522</td>\n",
       "      <td>-15.179065</td>\n",
       "      <td>-35.727079</td>\n",
       "      <td>-37.103503</td>\n",
       "    </tr>\n",
       "  </tbody>\n",
       "</table>\n",
       "<p>5 rows × 136 columns</p>\n",
       "</div>"
      ],
      "text/plain": [
       "   ind_5  ind_6  ind_8      ind_9     ind_10     ind_12     ind_13  ind_14  \\\n",
       "0     19     17  100.0  85.714286  14.285714  72.363515  60.808814   23.80   \n",
       "1     24     19  100.0  78.571429  21.428571  74.275883  64.366798   11.45   \n",
       "2     30     24  100.0  71.428571  28.571429  75.140402  65.915803    8.75   \n",
       "3     37     30  100.0  64.285714  35.714286  76.677846  68.584234    7.80   \n",
       "4     41     37  100.0  57.142857  42.857143  81.603007  76.455495   14.90   \n",
       "\n",
       "   ind_15  ind_16  ...  ind_416  ind_418  ind_420  ind_422  ind_424   ind_426  \\\n",
       "0   17.62   11.73  ...    -49.6      -54     -152     -353      1.0  0.498547   \n",
       "1   18.16   12.22  ...    -55.6      -60     -158     -359      1.0  0.537088   \n",
       "2   17.86   12.28  ...    -58.4      -60     -160     -362      1.0  0.615169   \n",
       "3   14.76   12.61  ...    -61.8      -65     -166     -367      1.0  0.661517   \n",
       "4   11.92   14.25  ...    -79.8      -86     -186     -388      1.0  0.747204   \n",
       "\n",
       "    ind_428  20_target  50_target  90_target  \n",
       "0  0.701906  15.135802  35.625252  36.997753  \n",
       "1  0.690833  15.143348  35.643013  37.016198  \n",
       "2  0.693040  15.146870  35.651301 -37.024805  \n",
       "3  0.673418  15.153283   0.000000 -37.040483  \n",
       "4  0.700522 -15.179065 -35.727079 -37.103503  \n",
       "\n",
       "[5 rows x 136 columns]"
      ]
     },
     "execution_count": 366,
     "metadata": {},
     "output_type": "execute_result"
    }
   ],
   "source": [
    "df.head()"
   ]
  },
  {
   "cell_type": "code",
   "execution_count": 367,
   "metadata": {},
   "outputs": [
    {
     "data": {
      "text/html": [
       "<div>\n",
       "<style scoped>\n",
       "    .dataframe tbody tr th:only-of-type {\n",
       "        vertical-align: middle;\n",
       "    }\n",
       "\n",
       "    .dataframe tbody tr th {\n",
       "        vertical-align: top;\n",
       "    }\n",
       "\n",
       "    .dataframe thead th {\n",
       "        text-align: right;\n",
       "    }\n",
       "</style>\n",
       "<table border=\"1\" class=\"dataframe\">\n",
       "  <thead>\n",
       "    <tr style=\"text-align: right;\">\n",
       "      <th></th>\n",
       "      <th>count</th>\n",
       "      <th>mean</th>\n",
       "      <th>std</th>\n",
       "      <th>min</th>\n",
       "      <th>25%</th>\n",
       "      <th>50%</th>\n",
       "      <th>75%</th>\n",
       "      <th>max</th>\n",
       "    </tr>\n",
       "  </thead>\n",
       "  <tbody>\n",
       "    <tr>\n",
       "      <td>ind_5</td>\n",
       "      <td>6167.0</td>\n",
       "      <td>-0.803146</td>\n",
       "      <td>23.624403</td>\n",
       "      <td>-131.000000</td>\n",
       "      <td>-14.000000</td>\n",
       "      <td>0.000000</td>\n",
       "      <td>13.000000</td>\n",
       "      <td>76.000000</td>\n",
       "    </tr>\n",
       "    <tr>\n",
       "      <td>ind_6</td>\n",
       "      <td>6167.0</td>\n",
       "      <td>-0.803470</td>\n",
       "      <td>23.624144</td>\n",
       "      <td>-131.000000</td>\n",
       "      <td>-14.000000</td>\n",
       "      <td>0.000000</td>\n",
       "      <td>13.000000</td>\n",
       "      <td>76.000000</td>\n",
       "    </tr>\n",
       "    <tr>\n",
       "      <td>ind_8</td>\n",
       "      <td>6167.0</td>\n",
       "      <td>48.388890</td>\n",
       "      <td>36.388526</td>\n",
       "      <td>0.000000</td>\n",
       "      <td>14.285714</td>\n",
       "      <td>50.000000</td>\n",
       "      <td>85.714286</td>\n",
       "      <td>100.000000</td>\n",
       "    </tr>\n",
       "    <tr>\n",
       "      <td>ind_9</td>\n",
       "      <td>6167.0</td>\n",
       "      <td>48.289282</td>\n",
       "      <td>36.478009</td>\n",
       "      <td>0.000000</td>\n",
       "      <td>14.285714</td>\n",
       "      <td>50.000000</td>\n",
       "      <td>85.714286</td>\n",
       "      <td>100.000000</td>\n",
       "    </tr>\n",
       "    <tr>\n",
       "      <td>ind_10</td>\n",
       "      <td>6167.0</td>\n",
       "      <td>0.099609</td>\n",
       "      <td>60.414625</td>\n",
       "      <td>-100.000000</td>\n",
       "      <td>-50.000000</td>\n",
       "      <td>0.000000</td>\n",
       "      <td>57.142857</td>\n",
       "      <td>100.000000</td>\n",
       "    </tr>\n",
       "    <tr>\n",
       "      <td>...</td>\n",
       "      <td>...</td>\n",
       "      <td>...</td>\n",
       "      <td>...</td>\n",
       "      <td>...</td>\n",
       "      <td>...</td>\n",
       "      <td>...</td>\n",
       "      <td>...</td>\n",
       "      <td>...</td>\n",
       "    </tr>\n",
       "    <tr>\n",
       "      <td>ind_426</td>\n",
       "      <td>6167.0</td>\n",
       "      <td>0.498188</td>\n",
       "      <td>0.228547</td>\n",
       "      <td>0.000000</td>\n",
       "      <td>0.323783</td>\n",
       "      <td>0.495192</td>\n",
       "      <td>0.675730</td>\n",
       "      <td>1.000000</td>\n",
       "    </tr>\n",
       "    <tr>\n",
       "      <td>ind_428</td>\n",
       "      <td>6167.0</td>\n",
       "      <td>0.490174</td>\n",
       "      <td>0.150483</td>\n",
       "      <td>0.083530</td>\n",
       "      <td>0.379894</td>\n",
       "      <td>0.487078</td>\n",
       "      <td>0.601508</td>\n",
       "      <td>0.868534</td>\n",
       "    </tr>\n",
       "    <tr>\n",
       "      <td>20_target</td>\n",
       "      <td>6167.0</td>\n",
       "      <td>-0.057102</td>\n",
       "      <td>14.834497</td>\n",
       "      <td>-15.780588</td>\n",
       "      <td>-15.350354</td>\n",
       "      <td>0.000000</td>\n",
       "      <td>15.385945</td>\n",
       "      <td>15.768767</td>\n",
       "    </tr>\n",
       "    <tr>\n",
       "      <td>50_target</td>\n",
       "      <td>6167.0</td>\n",
       "      <td>-2.906358</td>\n",
       "      <td>34.559778</td>\n",
       "      <td>-37.142889</td>\n",
       "      <td>-36.208094</td>\n",
       "      <td>-34.267756</td>\n",
       "      <td>35.879524</td>\n",
       "      <td>37.038694</td>\n",
       "    </tr>\n",
       "    <tr>\n",
       "      <td>90_target</td>\n",
       "      <td>6167.0</td>\n",
       "      <td>-3.315072</td>\n",
       "      <td>36.841541</td>\n",
       "      <td>-38.573858</td>\n",
       "      <td>-37.695273</td>\n",
       "      <td>-35.788391</td>\n",
       "      <td>37.521892</td>\n",
       "      <td>38.465649</td>\n",
       "    </tr>\n",
       "  </tbody>\n",
       "</table>\n",
       "<p>133 rows × 8 columns</p>\n",
       "</div>"
      ],
      "text/plain": [
       "            count       mean        std         min        25%        50%  \\\n",
       "ind_5      6167.0  -0.803146  23.624403 -131.000000 -14.000000   0.000000   \n",
       "ind_6      6167.0  -0.803470  23.624144 -131.000000 -14.000000   0.000000   \n",
       "ind_8      6167.0  48.388890  36.388526    0.000000  14.285714  50.000000   \n",
       "ind_9      6167.0  48.289282  36.478009    0.000000  14.285714  50.000000   \n",
       "ind_10     6167.0   0.099609  60.414625 -100.000000 -50.000000   0.000000   \n",
       "...           ...        ...        ...         ...        ...        ...   \n",
       "ind_426    6167.0   0.498188   0.228547    0.000000   0.323783   0.495192   \n",
       "ind_428    6167.0   0.490174   0.150483    0.083530   0.379894   0.487078   \n",
       "20_target  6167.0  -0.057102  14.834497  -15.780588 -15.350354   0.000000   \n",
       "50_target  6167.0  -2.906358  34.559778  -37.142889 -36.208094 -34.267756   \n",
       "90_target  6167.0  -3.315072  36.841541  -38.573858 -37.695273 -35.788391   \n",
       "\n",
       "                 75%         max  \n",
       "ind_5      13.000000   76.000000  \n",
       "ind_6      13.000000   76.000000  \n",
       "ind_8      85.714286  100.000000  \n",
       "ind_9      85.714286  100.000000  \n",
       "ind_10     57.142857  100.000000  \n",
       "...              ...         ...  \n",
       "ind_426     0.675730    1.000000  \n",
       "ind_428     0.601508    0.868534  \n",
       "20_target  15.385945   15.768767  \n",
       "50_target  35.879524   37.038694  \n",
       "90_target  37.521892   38.465649  \n",
       "\n",
       "[133 rows x 8 columns]"
      ]
     },
     "execution_count": 367,
     "metadata": {},
     "output_type": "execute_result"
    }
   ],
   "source": [
    "df.describe().T"
   ]
  },
  {
   "cell_type": "code",
   "execution_count": 368,
   "metadata": {},
   "outputs": [
    {
     "name": "stdout",
     "output_type": "stream",
     "text": [
      "<class 'pandas.core.frame.DataFrame'>\n",
      "RangeIndex: 6167 entries, 0 to 6166\n",
      "Columns: 136 entries, ind_5 to 90_target\n",
      "dtypes: float64(88), int64(45), object(3)\n",
      "memory usage: 6.4+ MB\n"
     ]
    }
   ],
   "source": [
    "df.info()"
   ]
  },
  {
   "cell_type": "code",
   "execution_count": 369,
   "metadata": {},
   "outputs": [
    {
     "data": {
      "text/plain": [
       "Index(['ind_109', 'ind_420', 'ind_422'], dtype='object')"
      ]
     },
     "execution_count": 369,
     "metadata": {},
     "output_type": "execute_result"
    }
   ],
   "source": [
    "df.select_dtypes(include='object').columns"
   ]
  },
  {
   "cell_type": "code",
   "execution_count": 370,
   "metadata": {},
   "outputs": [
    {
     "data": {
      "text/plain": [
       "array(['GREEN', 'RED'], dtype=object)"
      ]
     },
     "execution_count": 370,
     "metadata": {},
     "output_type": "execute_result"
    }
   ],
   "source": [
    "df['ind_109'].unique()"
   ]
  },
  {
   "cell_type": "code",
   "execution_count": 371,
   "metadata": {},
   "outputs": [
    {
     "name": "stdout",
     "output_type": "stream",
     "text": [
      "0       0\n",
      "1       0\n",
      "2       0\n",
      "3       0\n",
      "4       0\n",
      "       ..\n",
      "6162    1\n",
      "6163    1\n",
      "6164    0\n",
      "6165    0\n",
      "6166    0\n",
      "Name: ind_109, Length: 6167, dtype: int32\n"
     ]
    }
   ],
   "source": [
    "from sklearn import preprocessing\n",
    "label_encoder = preprocessing.LabelEncoder()\n",
    "df['ind_109']= label_encoder.fit_transform(df['ind_109']) \n",
    "print(df['ind_109'])"
   ]
  },
  {
   "cell_type": "code",
   "execution_count": 372,
   "metadata": {},
   "outputs": [
    {
     "data": {
      "image/png": "[encoded data removed]",
      "text/plain": [
       "<Figure size 432x288 with 1 Axes>"
      ]
     },
     "metadata": {},
     "output_type": "display_data"
    }
   ],
   "source": [
    "labels = df['ind_109'].astype('category').cat.categories.tolist()\n",
    "counts = df['ind_109'].value_counts()\n",
    "sizes = [counts[var_cat] for var_cat in labels]\n",
    "fig1, ax1 = plt.subplots()\n",
    "ax1.pie(sizes, labels=labels, autopct='%1.1f%%', shadow=True) #autopct is show the % on plot\n",
    "ax1.axis('equal')\n",
    "plt.show()"
   ]
  },
  {
   "cell_type": "code",
   "execution_count": 373,
   "metadata": {},
   "outputs": [
    {
     "name": "stdout",
     "output_type": "stream",
     "text": [
      "?       1041\n",
      "28        37\n",
      "45        35\n",
      "39        33\n",
      "29        33\n",
      "        ... \n",
      "-303       1\n",
      "270        1\n",
      "-308       1\n",
      "-310       1\n",
      "-117       1\n",
      "Name: ind_420, Length: 582, dtype: int64\n"
     ]
    }
   ],
   "source": [
    "print(df['ind_420'].value_counts())"
   ]
  },
  {
   "cell_type": "code",
   "execution_count": 374,
   "metadata": {},
   "outputs": [
    {
     "name": "stdout",
     "output_type": "stream",
     "text": [
      "?       1041\n",
      "-211      33\n",
      "-125      31\n",
      "-200      30\n",
      "-212      28\n",
      "        ... \n",
      "-500       1\n",
      "-496       1\n",
      "-484       1\n",
      "-482       1\n",
      "-509       1\n",
      "Name: ind_422, Length: 573, dtype: int64\n"
     ]
    }
   ],
   "source": [
    "print(df['ind_422'].value_counts())"
   ]
  },
  {
   "cell_type": "code",
   "execution_count": 375,
   "metadata": {},
   "outputs": [
    {
     "name": "stdout",
     "output_type": "stream",
     "text": [
      "582\n"
     ]
    }
   ],
   "source": [
    "print(df['ind_420'].value_counts().count())"
   ]
  },
  {
   "cell_type": "code",
   "execution_count": 376,
   "metadata": {},
   "outputs": [
    {
     "name": "stdout",
     "output_type": "stream",
     "text": [
      "573\n"
     ]
    }
   ],
   "source": [
    "print(df['ind_422'].value_counts().count())"
   ]
  },
  {
   "cell_type": "code",
   "execution_count": 377,
   "metadata": {},
   "outputs": [
    {
     "data": {
      "image/png": "[encoded data removed]",
      "text/plain": [
       "<Figure size 432x288 with 1 Axes>"
      ]
     },
     "metadata": {},
     "output_type": "display_data"
    }
   ],
   "source": [
    "labels = df['ind_422'].astype('category').cat.categories.tolist()\n",
    "counts = df['ind_422'].value_counts()\n",
    "sizes = [counts[var_cat] for var_cat in labels]\n",
    "fig1, ax1 = plt.subplots()\n",
    "ax1.pie(sizes, labels=labels, autopct='%1.1f%%', shadow=True) #autopct is show the % on plot\n",
    "ax1.axis('equal')\n",
    "plt.show()"
   ]
  },
  {
   "cell_type": "code",
   "execution_count": 378,
   "metadata": {},
   "outputs": [
    {
     "data": {
      "image/png": "[encoded data removed]",
      "text/plain": [
       "<Figure size 432x288 with 1 Axes>"
      ]
     },
     "metadata": {},
     "output_type": "display_data"
    }
   ],
   "source": [
    "labels = df['ind_420'].astype('category').cat.categories.tolist()\n",
    "counts = df['ind_420'].value_counts()\n",
    "sizes = [counts[var_cat] for var_cat in labels]\n",
    "fig1, ax1 = plt.subplots()\n",
    "ax1.pie(sizes, labels=labels, autopct='%1.1f%%', shadow=True) #autopct is show the % on plot\n",
    "ax1.axis('equal')\n",
    "plt.show()"
   ]
  },
  {
   "cell_type": "code",
   "execution_count": 379,
   "metadata": {},
   "outputs": [],
   "source": [
    "df = df.replace('?',np.NaN)"
   ]
  },
  {
   "cell_type": "code",
   "execution_count": 380,
   "metadata": {},
   "outputs": [
    {
     "data": {
      "text/plain": [
       "ind_422      1041\n",
       "ind_420      1041\n",
       "90_target       0\n",
       "ind_50          0\n",
       "ind_61          0\n",
       "             ... \n",
       "ind_309         0\n",
       "ind_310         0\n",
       "ind_311         0\n",
       "ind_313         0\n",
       "ind_5           0\n",
       "Length: 136, dtype: int64"
      ]
     },
     "execution_count": 380,
     "metadata": {},
     "output_type": "execute_result"
    }
   ],
   "source": [
    "df.isnull().sum().sort_values(ascending=False)"
   ]
  },
  {
   "cell_type": "code",
   "execution_count": 381,
   "metadata": {},
   "outputs": [
    {
     "data": {
      "text/plain": [
       "True"
      ]
     },
     "execution_count": 381,
     "metadata": {},
     "output_type": "execute_result"
    }
   ],
   "source": [
    "df.isnull().values.any()"
   ]
  },
  {
   "cell_type": "code",
   "execution_count": 148,
   "metadata": {},
   "outputs": [
    {
     "data": {
      "text/html": [
       "<div>\n",
       "<style scoped>\n",
       "    .dataframe tbody tr th:only-of-type {\n",
       "        vertical-align: middle;\n",
       "    }\n",
       "\n",
       "    .dataframe tbody tr th {\n",
       "        vertical-align: top;\n",
       "    }\n",
       "\n",
       "    .dataframe thead th {\n",
       "        text-align: right;\n",
       "    }\n",
       "</style>\n",
       "<table border=\"1\" class=\"dataframe\">\n",
       "  <thead>\n",
       "    <tr style=\"text-align: right;\">\n",
       "      <th></th>\n",
       "      <th>ind_5</th>\n",
       "      <th>ind_6</th>\n",
       "      <th>ind_8</th>\n",
       "      <th>ind_9</th>\n",
       "      <th>ind_10</th>\n",
       "      <th>ind_12</th>\n",
       "      <th>ind_13</th>\n",
       "      <th>ind_14</th>\n",
       "      <th>ind_15</th>\n",
       "      <th>ind_16</th>\n",
       "      <th>...</th>\n",
       "      <th>ind_420_8</th>\n",
       "      <th>ind_420_9</th>\n",
       "      <th>ind_420_10</th>\n",
       "      <th>ind_422</th>\n",
       "      <th>ind_424</th>\n",
       "      <th>ind_426</th>\n",
       "      <th>ind_428</th>\n",
       "      <th>20_target</th>\n",
       "      <th>50_target</th>\n",
       "      <th>90_target</th>\n",
       "    </tr>\n",
       "  </thead>\n",
       "  <tbody>\n",
       "    <tr>\n",
       "      <td>0</td>\n",
       "      <td>19</td>\n",
       "      <td>17</td>\n",
       "      <td>100.0</td>\n",
       "      <td>85.714286</td>\n",
       "      <td>14.285714</td>\n",
       "      <td>72.363515</td>\n",
       "      <td>60.808814</td>\n",
       "      <td>23.80</td>\n",
       "      <td>17.62</td>\n",
       "      <td>11.73</td>\n",
       "      <td>...</td>\n",
       "      <td>0</td>\n",
       "      <td>0</td>\n",
       "      <td>1</td>\n",
       "      <td>-353.0</td>\n",
       "      <td>1.0</td>\n",
       "      <td>0.498547</td>\n",
       "      <td>0.701906</td>\n",
       "      <td>15.135802</td>\n",
       "      <td>35.625252</td>\n",
       "      <td>36.997753</td>\n",
       "    </tr>\n",
       "    <tr>\n",
       "      <td>1</td>\n",
       "      <td>24</td>\n",
       "      <td>19</td>\n",
       "      <td>100.0</td>\n",
       "      <td>78.571429</td>\n",
       "      <td>21.428571</td>\n",
       "      <td>74.275883</td>\n",
       "      <td>64.366798</td>\n",
       "      <td>11.45</td>\n",
       "      <td>18.16</td>\n",
       "      <td>12.22</td>\n",
       "      <td>...</td>\n",
       "      <td>0</td>\n",
       "      <td>1</td>\n",
       "      <td>0</td>\n",
       "      <td>-359.0</td>\n",
       "      <td>1.0</td>\n",
       "      <td>0.537088</td>\n",
       "      <td>0.690833</td>\n",
       "      <td>15.143348</td>\n",
       "      <td>35.643013</td>\n",
       "      <td>37.016198</td>\n",
       "    </tr>\n",
       "    <tr>\n",
       "      <td>2</td>\n",
       "      <td>30</td>\n",
       "      <td>24</td>\n",
       "      <td>100.0</td>\n",
       "      <td>71.428571</td>\n",
       "      <td>28.571429</td>\n",
       "      <td>75.140402</td>\n",
       "      <td>65.915803</td>\n",
       "      <td>8.75</td>\n",
       "      <td>17.86</td>\n",
       "      <td>12.28</td>\n",
       "      <td>...</td>\n",
       "      <td>0</td>\n",
       "      <td>1</td>\n",
       "      <td>1</td>\n",
       "      <td>-362.0</td>\n",
       "      <td>1.0</td>\n",
       "      <td>0.615169</td>\n",
       "      <td>0.693040</td>\n",
       "      <td>15.146870</td>\n",
       "      <td>35.651301</td>\n",
       "      <td>-37.024805</td>\n",
       "    </tr>\n",
       "    <tr>\n",
       "      <td>3</td>\n",
       "      <td>37</td>\n",
       "      <td>30</td>\n",
       "      <td>100.0</td>\n",
       "      <td>64.285714</td>\n",
       "      <td>35.714286</td>\n",
       "      <td>76.677846</td>\n",
       "      <td>68.584234</td>\n",
       "      <td>7.80</td>\n",
       "      <td>14.76</td>\n",
       "      <td>12.61</td>\n",
       "      <td>...</td>\n",
       "      <td>1</td>\n",
       "      <td>0</td>\n",
       "      <td>0</td>\n",
       "      <td>-367.0</td>\n",
       "      <td>1.0</td>\n",
       "      <td>0.661517</td>\n",
       "      <td>0.673418</td>\n",
       "      <td>15.153283</td>\n",
       "      <td>0.000000</td>\n",
       "      <td>-37.040483</td>\n",
       "    </tr>\n",
       "    <tr>\n",
       "      <td>4</td>\n",
       "      <td>41</td>\n",
       "      <td>37</td>\n",
       "      <td>100.0</td>\n",
       "      <td>57.142857</td>\n",
       "      <td>42.857143</td>\n",
       "      <td>81.603007</td>\n",
       "      <td>76.455495</td>\n",
       "      <td>14.90</td>\n",
       "      <td>11.92</td>\n",
       "      <td>14.25</td>\n",
       "      <td>...</td>\n",
       "      <td>1</td>\n",
       "      <td>0</td>\n",
       "      <td>1</td>\n",
       "      <td>-388.0</td>\n",
       "      <td>1.0</td>\n",
       "      <td>0.747204</td>\n",
       "      <td>0.700522</td>\n",
       "      <td>-15.179065</td>\n",
       "      <td>-35.727079</td>\n",
       "      <td>-37.103503</td>\n",
       "    </tr>\n",
       "  </tbody>\n",
       "</table>\n",
       "<p>5 rows × 146 columns</p>\n",
       "</div>"
      ],
      "text/plain": [
       "   ind_5  ind_6  ind_8      ind_9     ind_10     ind_12     ind_13  ind_14  \\\n",
       "0     19     17  100.0  85.714286  14.285714  72.363515  60.808814   23.80   \n",
       "1     24     19  100.0  78.571429  21.428571  74.275883  64.366798   11.45   \n",
       "2     30     24  100.0  71.428571  28.571429  75.140402  65.915803    8.75   \n",
       "3     37     30  100.0  64.285714  35.714286  76.677846  68.584234    7.80   \n",
       "4     41     37  100.0  57.142857  42.857143  81.603007  76.455495   14.90   \n",
       "\n",
       "   ind_15  ind_16  ...  ind_420_8  ind_420_9  ind_420_10  ind_422  ind_424  \\\n",
       "0   17.62   11.73  ...          0          0           1   -353.0      1.0   \n",
       "1   18.16   12.22  ...          0          1           0   -359.0      1.0   \n",
       "2   17.86   12.28  ...          0          1           1   -362.0      1.0   \n",
       "3   14.76   12.61  ...          1          0           0   -367.0      1.0   \n",
       "4   11.92   14.25  ...          1          0           1   -388.0      1.0   \n",
       "\n",
       "    ind_426   ind_428  20_target  50_target  90_target  \n",
       "0  0.498547  0.701906  15.135802  35.625252  36.997753  \n",
       "1  0.537088  0.690833  15.143348  35.643013  37.016198  \n",
       "2  0.615169  0.693040  15.146870  35.651301 -37.024805  \n",
       "3  0.661517  0.673418  15.153283   0.000000 -37.040483  \n",
       "4  0.747204  0.700522 -15.179065 -35.727079 -37.103503  \n",
       "\n",
       "[5 rows x 146 columns]"
      ]
     },
     "execution_count": 148,
     "metadata": {},
     "output_type": "execute_result"
    }
   ],
   "source": [
    "dfbi = df.copy()\n",
    "\n",
    "import category_encoders as ce\n",
    "\n",
    "encoder = ce.BinaryEncoder(cols=['ind_420'])\n",
    "df_binary = encoder.fit_transform(dfbi)\n",
    "\n",
    "df_binary.head()"
   ]
  },
  {
   "cell_type": "code",
   "execution_count": 382,
   "metadata": {},
   "outputs": [
    {
     "data": {
      "text/plain": [
       "ind_422      1041\n",
       "ind_420      1041\n",
       "90_target       0\n",
       "ind_50          0\n",
       "ind_61          0\n",
       "             ... \n",
       "ind_309         0\n",
       "ind_310         0\n",
       "ind_311         0\n",
       "ind_313         0\n",
       "ind_5           0\n",
       "Length: 136, dtype: int64"
      ]
     },
     "execution_count": 382,
     "metadata": {},
     "output_type": "execute_result"
    }
   ],
   "source": [
    "dfbi.isnull().sum().sort_values(ascending=False)"
   ]
  },
  {
   "cell_type": "code",
   "execution_count": 254,
   "metadata": {},
   "outputs": [],
   "source": [
    "#Hiç bir değişkenin p-value>0.05 değil\n",
    "for i in range (len(dataorj.columns)):\n",
    "    if (dataorj.dtypes[i]!=object):   \n",
    "        stat,p = shapiro(dataorj.iloc[:,i])\n",
    "        if (p>0.05):\n",
    "            print (\"{} column's P value is: {}\".format(dataorj.columns[i],p))"
   ]
  },
  {
   "cell_type": "code",
   "execution_count": 383,
   "metadata": {},
   "outputs": [],
   "source": [
    "data=df.copy()\n",
    "del data['20_target']\n",
    "del data['50_target']\n",
    "del data['90_target']\n",
    "del data['ind_422']\n",
    "del data['ind_420']\n",
    "del data['90_target']\n",
    "corr = data.corr()"
   ]
  },
  {
   "cell_type": "code",
   "execution_count": 384,
   "metadata": {},
   "outputs": [
    {
     "data": {
      "text/plain": [
       "<matplotlib.axes._subplots.AxesSubplot at 0x1e606336488>"
      ]
     },
     "execution_count": 384,
     "metadata": {},
     "output_type": "execute_result"
    },
    {
     "data": {
      "image/png": "[encoded data removed]",
      "text/plain": [
       "<Figure size 432x288 with 2 Axes>"
      ]
     },
     "metadata": {},
     "output_type": "display_data"
    }
   ],
   "source": [
    "sns.heatmap(corr)"
   ]
  },
  {
   "cell_type": "code",
   "execution_count": 385,
   "metadata": {},
   "outputs": [],
   "source": [
    "##datadan korelasyonları 0.90 üzeri olan columnları çıkardık features için\n",
    "corr_matrix = data.corr().abs()\n",
    "\n",
    "upper = corr_matrix.where(np.triu(np.ones(corr_matrix.shape), k=1).astype(np.bool))\n",
    "\n",
    "to_drop = [column for column in upper.columns if any(upper[column] > 0.90)]"
   ]
  },
  {
   "cell_type": "code",
   "execution_count": 386,
   "metadata": {},
   "outputs": [],
   "source": [
    "X= data.drop(data[to_drop], axis=1)"
   ]
  },
  {
   "cell_type": "code",
   "execution_count": 387,
   "metadata": {},
   "outputs": [
    {
     "data": {
      "text/html": [
       "<div>\n",
       "<style scoped>\n",
       "    .dataframe tbody tr th:only-of-type {\n",
       "        vertical-align: middle;\n",
       "    }\n",
       "\n",
       "    .dataframe tbody tr th {\n",
       "        vertical-align: top;\n",
       "    }\n",
       "\n",
       "    .dataframe thead th {\n",
       "        text-align: right;\n",
       "    }\n",
       "</style>\n",
       "<table border=\"1\" class=\"dataframe\">\n",
       "  <thead>\n",
       "    <tr style=\"text-align: right;\">\n",
       "      <th></th>\n",
       "      <th>ind_5</th>\n",
       "      <th>ind_8</th>\n",
       "      <th>ind_9</th>\n",
       "      <th>ind_10</th>\n",
       "      <th>ind_12</th>\n",
       "      <th>ind_14</th>\n",
       "      <th>ind_15</th>\n",
       "      <th>ind_16</th>\n",
       "      <th>ind_18</th>\n",
       "      <th>ind_22</th>\n",
       "      <th>...</th>\n",
       "      <th>ind_349</th>\n",
       "      <th>ind_352</th>\n",
       "      <th>ind_397</th>\n",
       "      <th>ind_399</th>\n",
       "      <th>ind_403</th>\n",
       "      <th>ind_412</th>\n",
       "      <th>ind_416</th>\n",
       "      <th>ind_424</th>\n",
       "      <th>ind_426</th>\n",
       "      <th>ind_428</th>\n",
       "    </tr>\n",
       "  </thead>\n",
       "  <tbody>\n",
       "    <tr>\n",
       "      <td>0</td>\n",
       "      <td>19</td>\n",
       "      <td>100.000000</td>\n",
       "      <td>85.714286</td>\n",
       "      <td>14.285714</td>\n",
       "      <td>72.363515</td>\n",
       "      <td>23.80</td>\n",
       "      <td>17.62</td>\n",
       "      <td>11.73</td>\n",
       "      <td>9.1100</td>\n",
       "      <td>1</td>\n",
       "      <td>...</td>\n",
       "      <td>0.0</td>\n",
       "      <td>0.0</td>\n",
       "      <td>-26.386973</td>\n",
       "      <td>-0.003323</td>\n",
       "      <td>0.045130</td>\n",
       "      <td>0.002371</td>\n",
       "      <td>-49.6</td>\n",
       "      <td>1.000000</td>\n",
       "      <td>0.498547</td>\n",
       "      <td>0.701906</td>\n",
       "    </tr>\n",
       "    <tr>\n",
       "      <td>1</td>\n",
       "      <td>24</td>\n",
       "      <td>100.000000</td>\n",
       "      <td>78.571429</td>\n",
       "      <td>21.428571</td>\n",
       "      <td>74.275883</td>\n",
       "      <td>11.45</td>\n",
       "      <td>18.16</td>\n",
       "      <td>12.22</td>\n",
       "      <td>9.2225</td>\n",
       "      <td>1</td>\n",
       "      <td>...</td>\n",
       "      <td>0.0</td>\n",
       "      <td>0.0</td>\n",
       "      <td>-26.085949</td>\n",
       "      <td>-0.000476</td>\n",
       "      <td>0.035314</td>\n",
       "      <td>0.003074</td>\n",
       "      <td>-55.6</td>\n",
       "      <td>1.000000</td>\n",
       "      <td>0.537088</td>\n",
       "      <td>0.690833</td>\n",
       "    </tr>\n",
       "    <tr>\n",
       "      <td>2</td>\n",
       "      <td>30</td>\n",
       "      <td>100.000000</td>\n",
       "      <td>71.428571</td>\n",
       "      <td>28.571429</td>\n",
       "      <td>75.140402</td>\n",
       "      <td>8.75</td>\n",
       "      <td>17.86</td>\n",
       "      <td>12.28</td>\n",
       "      <td>9.3125</td>\n",
       "      <td>-1</td>\n",
       "      <td>...</td>\n",
       "      <td>0.0</td>\n",
       "      <td>0.0</td>\n",
       "      <td>-23.250410</td>\n",
       "      <td>-0.000309</td>\n",
       "      <td>0.005860</td>\n",
       "      <td>0.003561</td>\n",
       "      <td>-58.4</td>\n",
       "      <td>1.000000</td>\n",
       "      <td>0.615169</td>\n",
       "      <td>0.693040</td>\n",
       "    </tr>\n",
       "    <tr>\n",
       "      <td>3</td>\n",
       "      <td>37</td>\n",
       "      <td>100.000000</td>\n",
       "      <td>64.285714</td>\n",
       "      <td>35.714286</td>\n",
       "      <td>76.677846</td>\n",
       "      <td>7.80</td>\n",
       "      <td>14.76</td>\n",
       "      <td>12.61</td>\n",
       "      <td>9.4150</td>\n",
       "      <td>0</td>\n",
       "      <td>...</td>\n",
       "      <td>0.0</td>\n",
       "      <td>0.0</td>\n",
       "      <td>-19.499975</td>\n",
       "      <td>0.001137</td>\n",
       "      <td>-0.018252</td>\n",
       "      <td>0.004366</td>\n",
       "      <td>-61.8</td>\n",
       "      <td>1.000000</td>\n",
       "      <td>0.661517</td>\n",
       "      <td>0.673418</td>\n",
       "    </tr>\n",
       "    <tr>\n",
       "      <td>4</td>\n",
       "      <td>41</td>\n",
       "      <td>100.000000</td>\n",
       "      <td>57.142857</td>\n",
       "      <td>42.857143</td>\n",
       "      <td>81.603007</td>\n",
       "      <td>14.90</td>\n",
       "      <td>11.92</td>\n",
       "      <td>14.25</td>\n",
       "      <td>9.8925</td>\n",
       "      <td>10</td>\n",
       "      <td>...</td>\n",
       "      <td>0.0</td>\n",
       "      <td>0.0</td>\n",
       "      <td>-25.348270</td>\n",
       "      <td>0.001552</td>\n",
       "      <td>-0.007183</td>\n",
       "      <td>0.004198</td>\n",
       "      <td>-79.8</td>\n",
       "      <td>1.000000</td>\n",
       "      <td>0.747204</td>\n",
       "      <td>0.700522</td>\n",
       "    </tr>\n",
       "    <tr>\n",
       "      <td>...</td>\n",
       "      <td>...</td>\n",
       "      <td>...</td>\n",
       "      <td>...</td>\n",
       "      <td>...</td>\n",
       "      <td>...</td>\n",
       "      <td>...</td>\n",
       "      <td>...</td>\n",
       "      <td>...</td>\n",
       "      <td>...</td>\n",
       "      <td>...</td>\n",
       "      <td>...</td>\n",
       "      <td>...</td>\n",
       "      <td>...</td>\n",
       "      <td>...</td>\n",
       "      <td>...</td>\n",
       "      <td>...</td>\n",
       "      <td>...</td>\n",
       "      <td>...</td>\n",
       "      <td>...</td>\n",
       "      <td>...</td>\n",
       "      <td>...</td>\n",
       "    </tr>\n",
       "    <tr>\n",
       "      <td>6162</td>\n",
       "      <td>27</td>\n",
       "      <td>57.142857</td>\n",
       "      <td>28.571429</td>\n",
       "      <td>28.571429</td>\n",
       "      <td>60.010531</td>\n",
       "      <td>9.70</td>\n",
       "      <td>9.38</td>\n",
       "      <td>13.66</td>\n",
       "      <td>16.2175</td>\n",
       "      <td>-19</td>\n",
       "      <td>...</td>\n",
       "      <td>0.0</td>\n",
       "      <td>0.0</td>\n",
       "      <td>3.500000</td>\n",
       "      <td>0.003911</td>\n",
       "      <td>-0.006418</td>\n",
       "      <td>0.004633</td>\n",
       "      <td>-28.2</td>\n",
       "      <td>0.270270</td>\n",
       "      <td>0.840000</td>\n",
       "      <td>0.600846</td>\n",
       "    </tr>\n",
       "    <tr>\n",
       "      <td>6163</td>\n",
       "      <td>22</td>\n",
       "      <td>50.000000</td>\n",
       "      <td>21.428571</td>\n",
       "      <td>28.571429</td>\n",
       "      <td>60.209998</td>\n",
       "      <td>7.65</td>\n",
       "      <td>8.84</td>\n",
       "      <td>11.79</td>\n",
       "      <td>16.1175</td>\n",
       "      <td>-19</td>\n",
       "      <td>...</td>\n",
       "      <td>0.0</td>\n",
       "      <td>0.0</td>\n",
       "      <td>-2.250000</td>\n",
       "      <td>0.002819</td>\n",
       "      <td>-0.009019</td>\n",
       "      <td>0.008511</td>\n",
       "      <td>-28.6</td>\n",
       "      <td>0.000000</td>\n",
       "      <td>0.737470</td>\n",
       "      <td>0.527673</td>\n",
       "    </tr>\n",
       "    <tr>\n",
       "      <td>6164</td>\n",
       "      <td>19</td>\n",
       "      <td>42.857143</td>\n",
       "      <td>14.285714</td>\n",
       "      <td>28.571429</td>\n",
       "      <td>64.329611</td>\n",
       "      <td>8.95</td>\n",
       "      <td>9.06</td>\n",
       "      <td>10.30</td>\n",
       "      <td>16.3125</td>\n",
       "      <td>-13</td>\n",
       "      <td>...</td>\n",
       "      <td>0.0</td>\n",
       "      <td>0.0</td>\n",
       "      <td>-4.500000</td>\n",
       "      <td>0.001559</td>\n",
       "      <td>-0.004306</td>\n",
       "      <td>0.008848</td>\n",
       "      <td>-37.2</td>\n",
       "      <td>0.769231</td>\n",
       "      <td>0.632107</td>\n",
       "      <td>0.551759</td>\n",
       "    </tr>\n",
       "    <tr>\n",
       "      <td>6165</td>\n",
       "      <td>19</td>\n",
       "      <td>100.000000</td>\n",
       "      <td>7.142857</td>\n",
       "      <td>92.857143</td>\n",
       "      <td>69.027764</td>\n",
       "      <td>13.55</td>\n",
       "      <td>10.36</td>\n",
       "      <td>10.55</td>\n",
       "      <td>16.4200</td>\n",
       "      <td>-5</td>\n",
       "      <td>...</td>\n",
       "      <td>0.0</td>\n",
       "      <td>0.0</td>\n",
       "      <td>-5.850000</td>\n",
       "      <td>-0.000038</td>\n",
       "      <td>0.012664</td>\n",
       "      <td>0.008940</td>\n",
       "      <td>-48.9</td>\n",
       "      <td>1.000000</td>\n",
       "      <td>0.733010</td>\n",
       "      <td>0.591584</td>\n",
       "    </tr>\n",
       "    <tr>\n",
       "      <td>6166</td>\n",
       "      <td>19</td>\n",
       "      <td>92.857143</td>\n",
       "      <td>0.000000</td>\n",
       "      <td>92.857143</td>\n",
       "      <td>65.157180</td>\n",
       "      <td>11.45</td>\n",
       "      <td>10.16</td>\n",
       "      <td>9.68</td>\n",
       "      <td>16.4500</td>\n",
       "      <td>-11</td>\n",
       "      <td>...</td>\n",
       "      <td>0.0</td>\n",
       "      <td>0.0</td>\n",
       "      <td>1.200000</td>\n",
       "      <td>-0.000230</td>\n",
       "      <td>0.024146</td>\n",
       "      <td>0.008685</td>\n",
       "      <td>-44.0</td>\n",
       "      <td>1.000000</td>\n",
       "      <td>0.687500</td>\n",
       "      <td>0.593936</td>\n",
       "    </tr>\n",
       "  </tbody>\n",
       "</table>\n",
       "<p>6167 rows × 74 columns</p>\n",
       "</div>"
      ],
      "text/plain": [
       "      ind_5       ind_8      ind_9     ind_10     ind_12  ind_14  ind_15  \\\n",
       "0        19  100.000000  85.714286  14.285714  72.363515   23.80   17.62   \n",
       "1        24  100.000000  78.571429  21.428571  74.275883   11.45   18.16   \n",
       "2        30  100.000000  71.428571  28.571429  75.140402    8.75   17.86   \n",
       "3        37  100.000000  64.285714  35.714286  76.677846    7.80   14.76   \n",
       "4        41  100.000000  57.142857  42.857143  81.603007   14.90   11.92   \n",
       "...     ...         ...        ...        ...        ...     ...     ...   \n",
       "6162     27   57.142857  28.571429  28.571429  60.010531    9.70    9.38   \n",
       "6163     22   50.000000  21.428571  28.571429  60.209998    7.65    8.84   \n",
       "6164     19   42.857143  14.285714  28.571429  64.329611    8.95    9.06   \n",
       "6165     19  100.000000   7.142857  92.857143  69.027764   13.55   10.36   \n",
       "6166     19   92.857143   0.000000  92.857143  65.157180   11.45   10.16   \n",
       "\n",
       "      ind_16   ind_18  ind_22  ...  ind_349  ind_352    ind_397   ind_399  \\\n",
       "0      11.73   9.1100       1  ...      0.0      0.0 -26.386973 -0.003323   \n",
       "1      12.22   9.2225       1  ...      0.0      0.0 -26.085949 -0.000476   \n",
       "2      12.28   9.3125      -1  ...      0.0      0.0 -23.250410 -0.000309   \n",
       "3      12.61   9.4150       0  ...      0.0      0.0 -19.499975  0.001137   \n",
       "4      14.25   9.8925      10  ...      0.0      0.0 -25.348270  0.001552   \n",
       "...      ...      ...     ...  ...      ...      ...        ...       ...   \n",
       "6162   13.66  16.2175     -19  ...      0.0      0.0   3.500000  0.003911   \n",
       "6163   11.79  16.1175     -19  ...      0.0      0.0  -2.250000  0.002819   \n",
       "6164   10.30  16.3125     -13  ...      0.0      0.0  -4.500000  0.001559   \n",
       "6165   10.55  16.4200      -5  ...      0.0      0.0  -5.850000 -0.000038   \n",
       "6166    9.68  16.4500     -11  ...      0.0      0.0   1.200000 -0.000230   \n",
       "\n",
       "       ind_403   ind_412  ind_416   ind_424   ind_426   ind_428  \n",
       "0     0.045130  0.002371    -49.6  1.000000  0.498547  0.701906  \n",
       "1     0.035314  0.003074    -55.6  1.000000  0.537088  0.690833  \n",
       "2     0.005860  0.003561    -58.4  1.000000  0.615169  0.693040  \n",
       "3    -0.018252  0.004366    -61.8  1.000000  0.661517  0.673418  \n",
       "4    -0.007183  0.004198    -79.8  1.000000  0.747204  0.700522  \n",
       "...        ...       ...      ...       ...       ...       ...  \n",
       "6162 -0.006418  0.004633    -28.2  0.270270  0.840000  0.600846  \n",
       "6163 -0.009019  0.008511    -28.6  0.000000  0.737470  0.527673  \n",
       "6164 -0.004306  0.008848    -37.2  0.769231  0.632107  0.551759  \n",
       "6165  0.012664  0.008940    -48.9  1.000000  0.733010  0.591584  \n",
       "6166  0.024146  0.008685    -44.0  1.000000  0.687500  0.593936  \n",
       "\n",
       "[6167 rows x 74 columns]"
      ]
     },
     "execution_count": 387,
     "metadata": {},
     "output_type": "execute_result"
    }
   ],
   "source": [
    "X"
   ]
  },
  {
   "cell_type": "code",
   "execution_count": 388,
   "metadata": {},
   "outputs": [
    {
     "data": {
      "text/plain": [
       "array([[-1.34000000e-05,  9.79800280e+01,  9.89055629e+01,\n",
       "         0.00000000e+00,  0.00000000e+00],\n",
       "       [-1.34000000e-05,  9.79323188e+01,  9.88596269e+01,\n",
       "         0.00000000e+00,  0.00000000e+00],\n",
       "       [-1.34000000e-05,  9.79106643e+01,  9.88399908e+01,\n",
       "         0.00000000e+00,  0.00000000e+00],\n",
       "       ...,\n",
       "       [-8.13000000e-06,  9.87651542e+01,  9.89671474e+01,\n",
       "         0.00000000e+00,  0.00000000e+00],\n",
       "       [-8.13000000e-06,  9.86669839e+01,  9.88715018e+01,\n",
       "         0.00000000e+00,  0.00000000e+00],\n",
       "       [-8.13000000e-06,  9.87090611e+01,  9.89163928e+01,\n",
       "         0.00000000e+00,  0.00000000e+00]])"
      ]
     },
     "execution_count": 388,
     "metadata": {},
     "output_type": "execute_result"
    }
   ],
   "source": [
    "from sklearn.datasets import load_digits\n",
    "from sklearn.feature_selection import SelectKBest, chi2\n",
    "from sklearn.feature_selection import f_classif\n",
    "k_best = SelectKBest(f_classif, k=5)\n",
    "k_best.fit_transform(X, y)"
   ]
  },
  {
   "cell_type": "code",
   "execution_count": 389,
   "metadata": {},
   "outputs": [
    {
     "data": {
      "text/plain": [
       "array([1.10324865e-034, 5.55161137e-006, 3.25204740e-005, 6.86185809e-007,\n",
       "       1.20251049e-017, 1.00443902e-006, 3.79158615e-012, 1.03300006e-014,\n",
       "       3.34516744e-025, 3.79754524e-019, 3.94766284e-026, 6.21377544e-013,\n",
       "       1.61346734e-017, 3.89301269e-011, 5.59308444e-002, 1.74024369e-002,\n",
       "       1.88932623e-002, 2.22659732e-024, 1.72354093e-009, 4.31643634e-009,\n",
       "       1.73909157e-008, 7.88525981e-006, 3.16866760e-006, 2.41367247e-004,\n",
       "       6.60737945e-004, 3.11691780e-014, 6.08451940e-015, 3.59624892e-021,\n",
       "       1.75961001e-074, 1.34189010e-059, 7.92102294e-016, 2.61054802e-001,\n",
       "       5.23480379e-006, 9.51673400e-005, 6.02863293e-005, 4.49021942e-010,\n",
       "       1.72848039e-007, 7.45789765e-005, 4.42317398e-010, 5.02436078e-004,\n",
       "       2.30124112e-003, 7.42442043e-003, 3.67381417e-003, 1.33245043e-005,\n",
       "       8.87058493e-055, 1.28327193e-016, 2.26583166e-029, 3.08654186e-027,\n",
       "       2.29122220e-014, 1.38209232e-158, 1.46304792e-056, 1.67133810e-102,\n",
       "       2.31230870e-014, 9.29262652e-123, 1.13817207e-072, 2.72519756e-033,\n",
       "       1.93845482e-008, 1.89829598e-016, 1.82889501e-008, 2.69554295e-003,\n",
       "       5.24667611e-011, 3.08524542e-060, 2.49149329e-008, 2.02217244e-033,\n",
       "       0.00000000e+000, 0.00000000e+000, 3.51424407e-013, 4.34031640e-017,\n",
       "       2.38042467e-004, 8.08046082e-021, 6.30967415e-027, 9.25135765e-002,\n",
       "       6.60435547e-007, 7.14671424e-028])"
      ]
     },
     "execution_count": 389,
     "metadata": {},
     "output_type": "execute_result"
    }
   ],
   "source": [
    "k_best.pvalues_"
   ]
  },
  {
   "cell_type": "code",
   "execution_count": 390,
   "metadata": {},
   "outputs": [],
   "source": [
    "p_values = pd.DataFrame({'column': X.columns, 'p_value':k_best.pvalues_}).sort_values('p_value')"
   ]
  },
  {
   "cell_type": "code",
   "execution_count": 391,
   "metadata": {},
   "outputs": [
    {
     "data": {
      "text/html": [
       "<div>\n",
       "<style scoped>\n",
       "    .dataframe tbody tr th:only-of-type {\n",
       "        vertical-align: middle;\n",
       "    }\n",
       "\n",
       "    .dataframe tbody tr th {\n",
       "        vertical-align: top;\n",
       "    }\n",
       "\n",
       "    .dataframe thead th {\n",
       "        text-align: right;\n",
       "    }\n",
       "</style>\n",
       "<table border=\"1\" class=\"dataframe\">\n",
       "  <thead>\n",
       "    <tr style=\"text-align: right;\">\n",
       "      <th></th>\n",
       "      <th>column</th>\n",
       "      <th>p_value</th>\n",
       "    </tr>\n",
       "  </thead>\n",
       "  <tbody>\n",
       "    <tr>\n",
       "      <td>65</td>\n",
       "      <td>ind_352</td>\n",
       "      <td>0.000000e+00</td>\n",
       "    </tr>\n",
       "    <tr>\n",
       "      <td>64</td>\n",
       "      <td>ind_349</td>\n",
       "      <td>0.000000e+00</td>\n",
       "    </tr>\n",
       "    <tr>\n",
       "      <td>49</td>\n",
       "      <td>ind_309</td>\n",
       "      <td>1.382092e-158</td>\n",
       "    </tr>\n",
       "    <tr>\n",
       "      <td>53</td>\n",
       "      <td>ind_316</td>\n",
       "      <td>9.292627e-123</td>\n",
       "    </tr>\n",
       "    <tr>\n",
       "      <td>51</td>\n",
       "      <td>ind_311</td>\n",
       "      <td>1.671338e-102</td>\n",
       "    </tr>\n",
       "  </tbody>\n",
       "</table>\n",
       "</div>"
      ],
      "text/plain": [
       "     column        p_value\n",
       "65  ind_352   0.000000e+00\n",
       "64  ind_349   0.000000e+00\n",
       "49  ind_309  1.382092e-158\n",
       "53  ind_316  9.292627e-123\n",
       "51  ind_311  1.671338e-102"
      ]
     },
     "execution_count": 391,
     "metadata": {},
     "output_type": "execute_result"
    }
   ],
   "source": [
    "p_values.head()\n"
   ]
  },
  {
   "cell_type": "code",
   "execution_count": 392,
   "metadata": {},
   "outputs": [
    {
     "data": {
      "text/html": [
       "<div>\n",
       "<style scoped>\n",
       "    .dataframe tbody tr th:only-of-type {\n",
       "        vertical-align: middle;\n",
       "    }\n",
       "\n",
       "    .dataframe tbody tr th {\n",
       "        vertical-align: top;\n",
       "    }\n",
       "\n",
       "    .dataframe thead th {\n",
       "        text-align: right;\n",
       "    }\n",
       "</style>\n",
       "<table border=\"1\" class=\"dataframe\">\n",
       "  <thead>\n",
       "    <tr style=\"text-align: right;\">\n",
       "      <th></th>\n",
       "      <th>column</th>\n",
       "      <th>p_value</th>\n",
       "    </tr>\n",
       "  </thead>\n",
       "  <tbody>\n",
       "    <tr>\n",
       "      <td>14</td>\n",
       "      <td>ind_28</td>\n",
       "      <td>0.055931</td>\n",
       "    </tr>\n",
       "    <tr>\n",
       "      <td>71</td>\n",
       "      <td>ind_424</td>\n",
       "      <td>0.092514</td>\n",
       "    </tr>\n",
       "    <tr>\n",
       "      <td>31</td>\n",
       "      <td>ind_109</td>\n",
       "      <td>0.261055</td>\n",
       "    </tr>\n",
       "  </tbody>\n",
       "</table>\n",
       "</div>"
      ],
      "text/plain": [
       "     column   p_value\n",
       "14   ind_28  0.055931\n",
       "71  ind_424  0.092514\n",
       "31  ind_109  0.261055"
      ]
     },
     "execution_count": 392,
     "metadata": {},
     "output_type": "execute_result"
    }
   ],
   "source": [
    " p_values[p_values['p_value'] >= 0.05]"
   ]
  },
  {
   "cell_type": "code",
   "execution_count": 393,
   "metadata": {},
   "outputs": [],
   "source": [
    "del X['ind_28']\n",
    "del X['ind_424']\n",
    "del X['ind_109']"
   ]
  },
  {
   "cell_type": "code",
   "execution_count": 394,
   "metadata": {},
   "outputs": [],
   "source": [
    "y=df['90_target']"
   ]
  },
  {
   "cell_type": "code",
   "execution_count": 457,
   "metadata": {},
   "outputs": [
    {
     "data": {
      "text/plain": [
       "<matplotlib.axes._subplots.AxesSubplot at 0x1e606e06148>"
      ]
     },
     "execution_count": 457,
     "metadata": {},
     "output_type": "execute_result"
    },
    {
     "data": {
      "image/png": "[encoded data removed]",
      "text/plain": [
       "<Figure size 1080x720 with 1 Axes>"
      ]
     },
     "metadata": {},
     "output_type": "display_data"
    }
   ],
   "source": [
    "plt.figure(figsize=(15,10))\n",
    "sns.distplot(df[\"90_target\"], hist=True, color=\"b\")"
   ]
  },
  {
   "cell_type": "code",
   "execution_count": 395,
   "metadata": {},
   "outputs": [
    {
     "data": {
      "text/plain": [
       "90_target  ind_18     0.140877\n",
       "           ind_17     0.129277\n",
       "           ind_412    0.124265\n",
       "           ind_332    0.115002\n",
       "           ind_16     0.108077\n",
       "                        ...   \n",
       "           ind_168    0.001107\n",
       "           ind_404    0.001059\n",
       "           ind_403    0.001059\n",
       "           ind_88     0.000599\n",
       "           ind_188    0.000393\n",
       "Length: 131, dtype: float64"
      ]
     },
     "execution_count": 395,
     "metadata": {},
     "output_type": "execute_result"
    }
   ],
   "source": [
    "##target ve diğer değişkenler arasında korelansyonu sıralaması\n",
    "corr1 = pd.concat([y, data], axis=1, keys=['y', 'data']).corr().loc['data', 'y']\n",
    "c1 = corr1.abs().unstack()\n",
    "c1.sort_values(ascending = False)"
   ]
  },
  {
   "cell_type": "code",
   "execution_count": 396,
   "metadata": {},
   "outputs": [],
   "source": [
    "##target ve diğer değişkenler arasında korelansyonu en yüksek olanlar(131 column)\n",
    "c1.sort_values(ascending=True, inplace=True)\n",
    "columns_above_1 = [(col1, col2) for col1, col2 in c1.index if c1[col1,col2] > 0.1 and col1 != col2]"
   ]
  },
  {
   "cell_type": "code",
   "execution_count": 397,
   "metadata": {},
   "outputs": [
    {
     "data": {
      "text/plain": [
       "[('90_target', 'ind_324'),\n",
       " ('90_target', 'ind_16'),\n",
       " ('90_target', 'ind_332'),\n",
       " ('90_target', 'ind_412'),\n",
       " ('90_target', 'ind_17'),\n",
       " ('90_target', 'ind_18')]"
      ]
     },
     "execution_count": 397,
     "metadata": {},
     "output_type": "execute_result"
    }
   ],
   "source": [
    "columns_above_1"
   ]
  },
  {
   "cell_type": "code",
   "execution_count": 398,
   "metadata": {},
   "outputs": [
    {
     "data": {
      "text/plain": [
       "90_target  ind_18     0.140877\n",
       "           ind_412    0.124265\n",
       "           ind_332    0.115002\n",
       "           ind_16     0.108077\n",
       "           ind_324    0.103707\n",
       "                        ...   \n",
       "           ind_134    0.001875\n",
       "           ind_168    0.001107\n",
       "           ind_403    0.001059\n",
       "           ind_88     0.000599\n",
       "           ind_188    0.000393\n",
       "Length: 71, dtype: float64"
      ]
     },
     "execution_count": 398,
     "metadata": {},
     "output_type": "execute_result"
    }
   ],
   "source": [
    "##target ve features arasında korelansyonu sıralaması(74 column)\n",
    "corr2 = pd.concat([y, X], axis=1, keys=['y', 'X']).corr().loc['X', 'y']\n",
    "c2 = corr2.abs().unstack()\n",
    "c2.sort_values(ascending = False)"
   ]
  },
  {
   "cell_type": "code",
   "execution_count": 399,
   "metadata": {},
   "outputs": [],
   "source": [
    "##target ve features arasında korelansyonu en yüksek olanlar(74 column)\n",
    "c2.sort_values(ascending=True, inplace=True)\n",
    "columns_above_2 = [(col1, col2) for col1, col2 in c1.index if c1[col1,col2] > 0.1 and col1 != col2]"
   ]
  },
  {
   "cell_type": "code",
   "execution_count": 400,
   "metadata": {},
   "outputs": [
    {
     "data": {
      "text/plain": [
       "[('90_target', 'ind_324'),\n",
       " ('90_target', 'ind_16'),\n",
       " ('90_target', 'ind_332'),\n",
       " ('90_target', 'ind_412'),\n",
       " ('90_target', 'ind_17'),\n",
       " ('90_target', 'ind_18')]"
      ]
     },
     "execution_count": 400,
     "metadata": {},
     "output_type": "execute_result"
    }
   ],
   "source": [
    "columns_above_2 "
   ]
  },
  {
   "cell_type": "code",
   "execution_count": 401,
   "metadata": {},
   "outputs": [
    {
     "data": {
      "image/png": "[encoded data removed]",
      "text/plain": [
       "<Figure size 432x288 with 1 Axes>"
      ]
     },
     "metadata": {},
     "output_type": "display_data"
    }
   ],
   "source": [
    "import scipy.stats as stats\n",
    "import pylab\n",
    "stats.probplot(df[\"ind_16\"], dist =\"norm\", plot = pylab)\n",
    "pylab.show()"
   ]
  },
  {
   "cell_type": "code",
   "execution_count": 402,
   "metadata": {},
   "outputs": [
    {
     "data": {
      "image/png": "[encoded data removed]",
      "text/plain": [
       "<Figure size 432x288 with 1 Axes>"
      ]
     },
     "metadata": {},
     "output_type": "display_data"
    }
   ],
   "source": [
    "import scipy.stats as stats\n",
    "import pylab\n",
    "stats.probplot(df[\"ind_17\"], dist =\"norm\", plot = pylab)\n",
    "pylab.show()"
   ]
  },
  {
   "cell_type": "code",
   "execution_count": 403,
   "metadata": {},
   "outputs": [
    {
     "data": {
      "image/png": "[encoded data removed]",
      "text/plain": [
       "<Figure size 432x288 with 1 Axes>"
      ]
     },
     "metadata": {},
     "output_type": "display_data"
    }
   ],
   "source": [
    "import scipy.stats as stats\n",
    "import pylab\n",
    "stats.probplot(df[\"ind_324\"], dist =\"norm\", plot = pylab)\n",
    "pylab.show()"
   ]
  },
  {
   "cell_type": "code",
   "execution_count": 404,
   "metadata": {},
   "outputs": [
    {
     "data": {
      "image/png": "[encoded data removed]",
      "text/plain": [
       "<Figure size 432x288 with 1 Axes>"
      ]
     },
     "metadata": {},
     "output_type": "display_data"
    }
   ],
   "source": [
    "import scipy.stats as stats\n",
    "import pylab\n",
    "stats.probplot(df[\"ind_18\"], dist =\"norm\", plot = pylab)\n",
    "pylab.show()"
   ]
  },
  {
   "cell_type": "code",
   "execution_count": 405,
   "metadata": {},
   "outputs": [
    {
     "data": {
      "image/png": "[encoded data removed]",
      "text/plain": [
       "<Figure size 432x288 with 1 Axes>"
      ]
     },
     "metadata": {},
     "output_type": "display_data"
    }
   ],
   "source": [
    "import scipy.stats as stats\n",
    "import pylab\n",
    "stats.probplot(df[\"ind_332\"], dist =\"norm\", plot = pylab)\n",
    "pylab.show()"
   ]
  },
  {
   "cell_type": "code",
   "execution_count": 406,
   "metadata": {},
   "outputs": [
    {
     "data": {
      "image/png": "[encoded data removed]",
      "text/plain": [
       "<Figure size 432x288 with 1 Axes>"
      ]
     },
     "metadata": {},
     "output_type": "display_data"
    }
   ],
   "source": [
    "import scipy.stats as stats\n",
    "import pylab\n",
    "stats.probplot(df[\"ind_412\"], dist =\"norm\", plot = pylab)\n",
    "pylab.show()"
   ]
  },
  {
   "cell_type": "code",
   "execution_count": 407,
   "metadata": {},
   "outputs": [],
   "source": [
    "X_train, X_test, y_train, y_test = train_test_split(X,y,test_size=0.2, random_state=2)"
   ]
  },
  {
   "cell_type": "code",
   "execution_count": 408,
   "metadata": {},
   "outputs": [],
   "source": [
    "from sklearn.linear_model import LinearRegression\n",
    "regresyon = LinearRegression()"
   ]
  },
  {
   "cell_type": "code",
   "execution_count": 409,
   "metadata": {},
   "outputs": [
    {
     "data": {
      "text/plain": [
       "LinearRegression(copy_X=True, fit_intercept=True, n_jobs=None, normalize=False)"
      ]
     },
     "execution_count": 409,
     "metadata": {},
     "output_type": "execute_result"
    }
   ],
   "source": [
    "regresyon.fit(X_train, y_train)"
   ]
  },
  {
   "cell_type": "code",
   "execution_count": 410,
   "metadata": {},
   "outputs": [
    {
     "data": {
      "text/plain": [
       "array([ 8.35883954e-01, -3.45984810e+08,  3.45984810e+08,  3.45984810e+08,\n",
       "        5.60962402e-02,  4.91642565e-02, -2.67808062e-01,  7.80194871e-01,\n",
       "        1.55811597e+00, -3.00540417e-01, -2.53768608e-01, -1.18449864e+06,\n",
       "       -1.18264732e+06,  2.36627108e+06, -1.89837515e-02,  2.02207267e-03,\n",
       "        3.11803222e-02, -1.71068162e-02, -1.17532238e+00,  1.32642232e-01,\n",
       "        3.11990837e-01, -3.99346501e-02, -2.74996096e-01,  8.30653794e-02,\n",
       "        1.64137334e+00, -1.87453009e-01,  1.94466881e-01,  7.37635695e+00,\n",
       "        1.44396521e-01,  6.16760749e+02, -5.95196545e-01,  1.65611152e-02,\n",
       "        1.65228017e-01, -3.33259143e-01,  2.75228789e-01, -6.53114170e-03,\n",
       "        2.68734396e-02,  3.55441173e-01, -2.76903924e-01, -1.66393667e-02,\n",
       "       -1.11801922e-02,  9.43715955e-01, -9.46565723e+01, -1.07089221e+01,\n",
       "        2.15054750e-02,  1.77711544e+04,  2.99504623e-02,  1.22321306e+04,\n",
       "       -1.87294238e-02, -6.42370433e-03, -2.47260263e+00,  6.10220730e-02,\n",
       "       -4.32792902e-02, -1.79833713e+04, -2.54423916e-02, -2.55835573e+00,\n",
       "        1.37320817e-01,  2.17687253e+04,  7.19300570e+00, -7.76995644e+00,\n",
       "        1.64745896e+04,  2.50927206e+01, -7.72713445e+04, -2.99891949e-01,\n",
       "       -1.39854376e-01, -6.30040096e+02,  1.58645321e+02,  9.44208462e+02,\n",
       "        1.34824680e-01, -3.08529731e-01, -5.16675194e+01])"
      ]
     },
     "execution_count": 410,
     "metadata": {},
     "output_type": "execute_result"
    }
   ],
   "source": [
    "regresyon.coef_  ##her bir features için m değeri"
   ]
  },
  {
   "cell_type": "code",
   "execution_count": 411,
   "metadata": {},
   "outputs": [
    {
     "data": {
      "text/plain": [
       "-4.401718074056573"
      ]
     },
     "execution_count": 411,
     "metadata": {},
     "output_type": "execute_result"
    }
   ],
   "source": [
    "regresyon.intercept_  #b"
   ]
  },
  {
   "cell_type": "code",
   "execution_count": 412,
   "metadata": {},
   "outputs": [
    {
     "data": {
      "text/plain": [
       "0.09528056286177489"
      ]
     },
     "execution_count": 412,
     "metadata": {},
     "output_type": "execute_result"
    }
   ],
   "source": [
    "regresyon.score(X,y) \n",
    "##x ve y leri tahmin ettiğinde modelin ne kadar doğru olduğunu belirtiyor en yuksek olanı secmeliyiz (r square)"
   ]
  },
  {
   "cell_type": "code",
   "execution_count": 413,
   "metadata": {},
   "outputs": [
    {
     "data": {
      "text/plain": [
       "array([-1.68594209, -1.86557201, -6.97817957, -4.7076194 , -5.49935036,\n",
       "       -7.69223416, -5.51752865, -5.53936775, -2.54657525, -5.11914839])"
      ]
     },
     "execution_count": 413,
     "metadata": {},
     "output_type": "execute_result"
    }
   ],
   "source": [
    "regresyon.predict(X)[0:10] \n",
    "#ilk 10 model için prediction gercekleştir modelin içine keni xlerimi koyarak yleri bul tahmin edilmiş y değerleri"
   ]
  },
  {
   "cell_type": "code",
   "execution_count": 414,
   "metadata": {},
   "outputs": [
    {
     "data": {
      "text/plain": [
       "0   -0.814197\n",
       "1   -0.303884\n",
       "2   -3.532784\n",
       "3   -2.453176\n",
       "4   -5.664003\n",
       "dtype: float64"
      ]
     },
     "execution_count": 414,
     "metadata": {},
     "output_type": "execute_result"
    }
   ],
   "source": [
    "modelstat = lm.fit()\n",
    "modelstat.summary()\n",
    "modelstat.fittedvalues[0:5] ##yukarıdakiyle aynı çıktı  mı?"
   ]
  },
  {
   "cell_type": "code",
   "execution_count": 415,
   "metadata": {},
   "outputs": [],
   "source": [
    "##modelin sonuçları minsuare error\n",
    "from sklearn.metrics import mean_squared_error, r2_score\n",
    "lm = smf.ols(\"y ~ X\", df)\n",
    "model = lm.fit()\n",
    "model.summary()\n",
    "mse = mean_squared_error(y, model.fittedvalues)"
   ]
  },
  {
   "cell_type": "code",
   "execution_count": 416,
   "metadata": {},
   "outputs": [
    {
     "data": {
      "text/plain": [
       "1223.5708208187082"
      ]
     },
     "execution_count": 416,
     "metadata": {},
     "output_type": "execute_result"
    }
   ],
   "source": [
    "mse ##tahmin hatası"
   ]
  },
  {
   "cell_type": "code",
   "execution_count": 417,
   "metadata": {},
   "outputs": [
    {
     "data": {
      "text/plain": [
       "34.97957719611128"
      ]
     },
     "execution_count": 417,
     "metadata": {},
     "output_type": "execute_result"
    }
   ],
   "source": [
    "import numpy as np\n",
    "rmse = np.sqrt(mse)\n",
    "rmse"
   ]
  },
  {
   "cell_type": "code",
   "execution_count": 418,
   "metadata": {},
   "outputs": [
    {
     "data": {
      "text/plain": [
       "array([-1.68594209, -1.86557201, -6.97817957, -4.7076194 , -5.49935036,\n",
       "       -7.69223416, -5.51752865, -5.53936775, -2.54657525, -5.11914839])"
      ]
     },
     "execution_count": 418,
     "metadata": {},
     "output_type": "execute_result"
    }
   ],
   "source": [
    "regresyon.predict(X)[0:10]"
   ]
  },
  {
   "cell_type": "code",
   "execution_count": 419,
   "metadata": {},
   "outputs": [
    {
     "data": {
      "text/html": [
       "<div>\n",
       "<style scoped>\n",
       "    .dataframe tbody tr th:only-of-type {\n",
       "        vertical-align: middle;\n",
       "    }\n",
       "\n",
       "    .dataframe tbody tr th {\n",
       "        vertical-align: top;\n",
       "    }\n",
       "\n",
       "    .dataframe thead th {\n",
       "        text-align: right;\n",
       "    }\n",
       "</style>\n",
       "<table border=\"1\" class=\"dataframe\">\n",
       "  <thead>\n",
       "    <tr style=\"text-align: right;\">\n",
       "      <th></th>\n",
       "      <th>gercek_y</th>\n",
       "      <th>tahmin_y</th>\n",
       "    </tr>\n",
       "  </thead>\n",
       "  <tbody>\n",
       "    <tr>\n",
       "      <td>0</td>\n",
       "      <td>36.997753</td>\n",
       "      <td>-0.814214</td>\n",
       "    </tr>\n",
       "    <tr>\n",
       "      <td>1</td>\n",
       "      <td>37.016198</td>\n",
       "      <td>-0.303906</td>\n",
       "    </tr>\n",
       "    <tr>\n",
       "      <td>2</td>\n",
       "      <td>-37.024805</td>\n",
       "      <td>-3.532814</td>\n",
       "    </tr>\n",
       "    <tr>\n",
       "      <td>3</td>\n",
       "      <td>-37.040483</td>\n",
       "      <td>-2.453209</td>\n",
       "    </tr>\n",
       "    <tr>\n",
       "      <td>4</td>\n",
       "      <td>-37.103503</td>\n",
       "      <td>-5.664025</td>\n",
       "    </tr>\n",
       "    <tr>\n",
       "      <td>5</td>\n",
       "      <td>-37.098277</td>\n",
       "      <td>-9.046497</td>\n",
       "    </tr>\n",
       "    <tr>\n",
       "      <td>6</td>\n",
       "      <td>-37.096740</td>\n",
       "      <td>-7.922687</td>\n",
       "    </tr>\n",
       "    <tr>\n",
       "      <td>7</td>\n",
       "      <td>-37.088440</td>\n",
       "      <td>-7.954316</td>\n",
       "    </tr>\n",
       "    <tr>\n",
       "      <td>8</td>\n",
       "      <td>-37.069073</td>\n",
       "      <td>-4.064616</td>\n",
       "    </tr>\n",
       "    <tr>\n",
       "      <td>9</td>\n",
       "      <td>-37.074913</td>\n",
       "      <td>-6.985398</td>\n",
       "    </tr>\n",
       "  </tbody>\n",
       "</table>\n",
       "</div>"
      ],
      "text/plain": [
       "    gercek_y  tahmin_y\n",
       "0  36.997753 -0.814214\n",
       "1  37.016198 -0.303906\n",
       "2 -37.024805 -3.532814\n",
       "3 -37.040483 -2.453209\n",
       "4 -37.103503 -5.664025\n",
       "5 -37.098277 -9.046497\n",
       "6 -37.096740 -7.922687\n",
       "7 -37.088440 -7.954316\n",
       "8 -37.069073 -4.064616\n",
       "9 -37.074913 -6.985398"
      ]
     },
     "execution_count": 419,
     "metadata": {},
     "output_type": "execute_result"
    }
   ],
   "source": [
    "k_t= pd.DataFrame({\"gercek_y\": y[0:10], \"tahmin_y\": reg.predict(X)[0:10]})\n",
    "k_t"
   ]
  },
  {
   "cell_type": "code",
   "execution_count": 420,
   "metadata": {},
   "outputs": [
    {
     "data": {
      "text/html": [
       "<div>\n",
       "<style scoped>\n",
       "    .dataframe tbody tr th:only-of-type {\n",
       "        vertical-align: middle;\n",
       "    }\n",
       "\n",
       "    .dataframe tbody tr th {\n",
       "        vertical-align: top;\n",
       "    }\n",
       "\n",
       "    .dataframe thead th {\n",
       "        text-align: right;\n",
       "    }\n",
       "</style>\n",
       "<table border=\"1\" class=\"dataframe\">\n",
       "  <thead>\n",
       "    <tr style=\"text-align: right;\">\n",
       "      <th></th>\n",
       "      <th>gercek_y</th>\n",
       "      <th>tahmin_y</th>\n",
       "      <th>hata</th>\n",
       "    </tr>\n",
       "  </thead>\n",
       "  <tbody>\n",
       "    <tr>\n",
       "      <td>0</td>\n",
       "      <td>36.997753</td>\n",
       "      <td>-0.814214</td>\n",
       "      <td>37.811966</td>\n",
       "    </tr>\n",
       "    <tr>\n",
       "      <td>1</td>\n",
       "      <td>37.016198</td>\n",
       "      <td>-0.303906</td>\n",
       "      <td>37.320104</td>\n",
       "    </tr>\n",
       "    <tr>\n",
       "      <td>2</td>\n",
       "      <td>-37.024805</td>\n",
       "      <td>-3.532814</td>\n",
       "      <td>-33.491991</td>\n",
       "    </tr>\n",
       "    <tr>\n",
       "      <td>3</td>\n",
       "      <td>-37.040483</td>\n",
       "      <td>-2.453209</td>\n",
       "      <td>-34.587275</td>\n",
       "    </tr>\n",
       "    <tr>\n",
       "      <td>4</td>\n",
       "      <td>-37.103503</td>\n",
       "      <td>-5.664025</td>\n",
       "      <td>-31.439478</td>\n",
       "    </tr>\n",
       "    <tr>\n",
       "      <td>5</td>\n",
       "      <td>-37.098277</td>\n",
       "      <td>-9.046497</td>\n",
       "      <td>-28.051780</td>\n",
       "    </tr>\n",
       "    <tr>\n",
       "      <td>6</td>\n",
       "      <td>-37.096740</td>\n",
       "      <td>-7.922687</td>\n",
       "      <td>-29.174053</td>\n",
       "    </tr>\n",
       "    <tr>\n",
       "      <td>7</td>\n",
       "      <td>-37.088440</td>\n",
       "      <td>-7.954316</td>\n",
       "      <td>-29.134123</td>\n",
       "    </tr>\n",
       "    <tr>\n",
       "      <td>8</td>\n",
       "      <td>-37.069073</td>\n",
       "      <td>-4.064616</td>\n",
       "      <td>-33.004456</td>\n",
       "    </tr>\n",
       "    <tr>\n",
       "      <td>9</td>\n",
       "      <td>-37.074913</td>\n",
       "      <td>-6.985398</td>\n",
       "      <td>-30.089515</td>\n",
       "    </tr>\n",
       "  </tbody>\n",
       "</table>\n",
       "</div>"
      ],
      "text/plain": [
       "    gercek_y  tahmin_y       hata\n",
       "0  36.997753 -0.814214  37.811966\n",
       "1  37.016198 -0.303906  37.320104\n",
       "2 -37.024805 -3.532814 -33.491991\n",
       "3 -37.040483 -2.453209 -34.587275\n",
       "4 -37.103503 -5.664025 -31.439478\n",
       "5 -37.098277 -9.046497 -28.051780\n",
       "6 -37.096740 -7.922687 -29.174053\n",
       "7 -37.088440 -7.954316 -29.134123\n",
       "8 -37.069073 -4.064616 -33.004456\n",
       "9 -37.074913 -6.985398 -30.089515"
      ]
     },
     "execution_count": 420,
     "metadata": {},
     "output_type": "execute_result"
    }
   ],
   "source": [
    "k_t[\"hata\"] = k_t[\"gercek_y\"] - k_t[\"tahmin_y\"] ## gercek y ve tahmin y arasındaki hata\n",
    "k_t"
   ]
  },
  {
   "cell_type": "code",
   "execution_count": 421,
   "metadata": {},
   "outputs": [
    {
     "data": {
      "text/html": [
       "<div>\n",
       "<style scoped>\n",
       "    .dataframe tbody tr th:only-of-type {\n",
       "        vertical-align: middle;\n",
       "    }\n",
       "\n",
       "    .dataframe tbody tr th {\n",
       "        vertical-align: top;\n",
       "    }\n",
       "\n",
       "    .dataframe thead th {\n",
       "        text-align: right;\n",
       "    }\n",
       "</style>\n",
       "<table border=\"1\" class=\"dataframe\">\n",
       "  <thead>\n",
       "    <tr style=\"text-align: right;\">\n",
       "      <th></th>\n",
       "      <th>gercek_y</th>\n",
       "      <th>tahmin_y</th>\n",
       "      <th>hata</th>\n",
       "      <th>hata_kare</th>\n",
       "    </tr>\n",
       "  </thead>\n",
       "  <tbody>\n",
       "    <tr>\n",
       "      <td>0</td>\n",
       "      <td>36.997753</td>\n",
       "      <td>-0.814214</td>\n",
       "      <td>37.811966</td>\n",
       "      <td>1429.744797</td>\n",
       "    </tr>\n",
       "    <tr>\n",
       "      <td>1</td>\n",
       "      <td>37.016198</td>\n",
       "      <td>-0.303906</td>\n",
       "      <td>37.320104</td>\n",
       "      <td>1392.790144</td>\n",
       "    </tr>\n",
       "    <tr>\n",
       "      <td>2</td>\n",
       "      <td>-37.024805</td>\n",
       "      <td>-3.532814</td>\n",
       "      <td>-33.491991</td>\n",
       "      <td>1121.713475</td>\n",
       "    </tr>\n",
       "    <tr>\n",
       "      <td>3</td>\n",
       "      <td>-37.040483</td>\n",
       "      <td>-2.453209</td>\n",
       "      <td>-34.587275</td>\n",
       "      <td>1196.279563</td>\n",
       "    </tr>\n",
       "    <tr>\n",
       "      <td>4</td>\n",
       "      <td>-37.103503</td>\n",
       "      <td>-5.664025</td>\n",
       "      <td>-31.439478</td>\n",
       "      <td>988.440774</td>\n",
       "    </tr>\n",
       "    <tr>\n",
       "      <td>5</td>\n",
       "      <td>-37.098277</td>\n",
       "      <td>-9.046497</td>\n",
       "      <td>-28.051780</td>\n",
       "      <td>786.902337</td>\n",
       "    </tr>\n",
       "    <tr>\n",
       "      <td>6</td>\n",
       "      <td>-37.096740</td>\n",
       "      <td>-7.922687</td>\n",
       "      <td>-29.174053</td>\n",
       "      <td>851.125355</td>\n",
       "    </tr>\n",
       "    <tr>\n",
       "      <td>7</td>\n",
       "      <td>-37.088440</td>\n",
       "      <td>-7.954316</td>\n",
       "      <td>-29.134123</td>\n",
       "      <td>848.797133</td>\n",
       "    </tr>\n",
       "    <tr>\n",
       "      <td>8</td>\n",
       "      <td>-37.069073</td>\n",
       "      <td>-4.064616</td>\n",
       "      <td>-33.004456</td>\n",
       "      <td>1089.294148</td>\n",
       "    </tr>\n",
       "    <tr>\n",
       "      <td>9</td>\n",
       "      <td>-37.074913</td>\n",
       "      <td>-6.985398</td>\n",
       "      <td>-30.089515</td>\n",
       "      <td>905.378920</td>\n",
       "    </tr>\n",
       "  </tbody>\n",
       "</table>\n",
       "</div>"
      ],
      "text/plain": [
       "    gercek_y  tahmin_y       hata    hata_kare\n",
       "0  36.997753 -0.814214  37.811966  1429.744797\n",
       "1  37.016198 -0.303906  37.320104  1392.790144\n",
       "2 -37.024805 -3.532814 -33.491991  1121.713475\n",
       "3 -37.040483 -2.453209 -34.587275  1196.279563\n",
       "4 -37.103503 -5.664025 -31.439478   988.440774\n",
       "5 -37.098277 -9.046497 -28.051780   786.902337\n",
       "6 -37.096740 -7.922687 -29.174053   851.125355\n",
       "7 -37.088440 -7.954316 -29.134123   848.797133\n",
       "8 -37.069073 -4.064616 -33.004456  1089.294148\n",
       "9 -37.074913 -6.985398 -30.089515   905.378920"
      ]
     },
     "execution_count": 421,
     "metadata": {},
     "output_type": "execute_result"
    }
   ],
   "source": [
    "k_t[\"hata_kare\"] = k_t[\"hata\"]**2 ##hataların kareleri (pozitif etkisini görmek için yaoıyoruz) her bir noktayı tahmin eder\n",
    "k_t"
   ]
  },
  {
   "cell_type": "code",
   "execution_count": 422,
   "metadata": {},
   "outputs": [
    {
     "data": {
      "text/plain": [
       "10610.46664519369"
      ]
     },
     "execution_count": 422,
     "metadata": {},
     "output_type": "execute_result"
    }
   ],
   "source": [
    "np.sum(k_t[\"hata_kare\"])"
   ]
  },
  {
   "cell_type": "code",
   "execution_count": 423,
   "metadata": {},
   "outputs": [
    {
     "data": {
      "text/plain": [
       "1061.046664519369"
      ]
     },
     "execution_count": 423,
     "metadata": {},
     "output_type": "execute_result"
    }
   ],
   "source": [
    "np.mean(k_t[\"hata_kare\"])"
   ]
  },
  {
   "cell_type": "code",
   "execution_count": 424,
   "metadata": {},
   "outputs": [
    {
     "data": {
      "text/plain": [
       "34.97957719611128"
      ]
     },
     "execution_count": 424,
     "metadata": {},
     "output_type": "execute_result"
    }
   ],
   "source": [
    "##hata kaerler ortalamasını OLSden aldık. MSE çıktı yani buradan\n",
    "rmse"
   ]
  },
  {
   "cell_type": "code",
   "execution_count": 425,
   "metadata": {},
   "outputs": [
    {
     "data": {
      "text/plain": [
       "[<matplotlib.lines.Line2D at 0x1e5cdd15408>]"
      ]
     },
     "execution_count": 425,
     "metadata": {},
     "output_type": "execute_result"
    },
    {
     "data": {
      "image/png": "[encoded data removed]",
      "text/plain": [
       "<Figure size 432x288 with 1 Axes>"
      ]
     },
     "metadata": {},
     "output_type": "display_data"
    }
   ],
   "source": [
    "plt.plot(model.resid)"
   ]
  },
  {
   "cell_type": "code",
   "execution_count": 426,
   "metadata": {},
   "outputs": [],
   "source": [
    "from sklearn.metrics import r2_score\n",
    "score = r2_score(y_test,y_pred)"
   ]
  },
  {
   "cell_type": "code",
   "execution_count": 427,
   "metadata": {},
   "outputs": [
    {
     "data": {
      "text/plain": [
       "0.07407531346002294"
      ]
     },
     "execution_count": 427,
     "metadata": {},
     "output_type": "execute_result"
    }
   ],
   "source": [
    "score"
   ]
  },
  {
   "cell_type": "code",
   "execution_count": 428,
   "metadata": {},
   "outputs": [
    {
     "data": {
      "text/plain": [
       "0   -0.814197\n",
       "1   -0.303884\n",
       "2   -3.532784\n",
       "3   -2.453176\n",
       "4   -5.664003\n",
       "5   -9.046484\n",
       "6   -7.922676\n",
       "7   -7.954351\n",
       "8   -4.064638\n",
       "9   -6.985420\n",
       "dtype: float64"
      ]
     },
     "execution_count": 428,
     "metadata": {},
     "output_type": "execute_result"
    }
   ],
   "source": [
    "model.predict(X)[0:10] \n"
   ]
  },
  {
   "cell_type": "code",
   "execution_count": 429,
   "metadata": {},
   "outputs": [
    {
     "data": {
      "text/plain": [
       "0   -0.814197\n",
       "1   -0.303884\n",
       "2   -3.532784\n",
       "3   -2.453176\n",
       "4   -5.664003\n",
       "dtype: float64"
      ]
     },
     "execution_count": 429,
     "metadata": {},
     "output_type": "execute_result"
    }
   ],
   "source": [
    "modelstat = lm.fit()\n",
    "modelstat.summary()\n",
    "modelstat.fittedvalues[0:5]"
   ]
  },
  {
   "cell_type": "code",
   "execution_count": 430,
   "metadata": {},
   "outputs": [
    {
     "data": {
      "text/plain": [
       "0   -0.814197\n",
       "1   -0.303884\n",
       "2   -3.532784\n",
       "3   -2.453176\n",
       "4   -5.664003\n",
       "dtype: float64"
      ]
     },
     "execution_count": 430,
     "metadata": {},
     "output_type": "execute_result"
    }
   ],
   "source": [
    "model.fittedvalues[0:5]  ##fitted y"
   ]
  },
  {
   "cell_type": "code",
   "execution_count": 431,
   "metadata": {},
   "outputs": [
    {
     "data": {
      "text/plain": [
       "0    36.997753\n",
       "1    37.016198\n",
       "2   -37.024805\n",
       "3   -37.040483\n",
       "4   -37.103503\n",
       "Name: 90_target, dtype: float64"
      ]
     },
     "execution_count": 431,
     "metadata": {},
     "output_type": "execute_result"
    }
   ],
   "source": [
    "y[0:5] ##gercek y"
   ]
  },
  {
   "cell_type": "code",
   "execution_count": 432,
   "metadata": {},
   "outputs": [
    {
     "data": {
      "text/plain": [
       "0.09528056286177489"
      ]
     },
     "execution_count": 432,
     "metadata": {},
     "output_type": "execute_result"
    }
   ],
   "source": [
    "regresyon.score(X,y) \n",
    "##x ve y leri tahmin ettiğinde modelin ne kadar doğru olduğunu belirtiyor en yuksek olanı secmeliyiz (r square)"
   ]
  },
  {
   "cell_type": "code",
   "execution_count": 433,
   "metadata": {},
   "outputs": [
    {
     "data": {
      "text/html": [
       "<table class=\"simpletable\">\n",
       "<caption>OLS Regression Results</caption>\n",
       "<tr>\n",
       "  <th>Dep. Variable:</th>        <td>90_target</td>    <th>  R-squared (uncentered):</th>      <td>   0.106</td> \n",
       "</tr>\n",
       "<tr>\n",
       "  <th>Model:</th>                   <td>OLS</td>       <th>  Adj. R-squared (uncentered):</th> <td>   0.095</td> \n",
       "</tr>\n",
       "<tr>\n",
       "  <th>Method:</th>             <td>Least Squares</td>  <th>  F-statistic:       </th>          <td>   10.14</td> \n",
       "</tr>\n",
       "<tr>\n",
       "  <th>Date:</th>             <td>Thu, 23 Jul 2020</td> <th>  Prob (F-statistic):</th>          <td>4.41e-101</td>\n",
       "</tr>\n",
       "<tr>\n",
       "  <th>Time:</th>                 <td>17:50:14</td>     <th>  Log-Likelihood:    </th>          <td> -30673.</td> \n",
       "</tr>\n",
       "<tr>\n",
       "  <th>No. Observations:</th>      <td>  6167</td>      <th>  AIC:               </th>          <td>6.149e+04</td>\n",
       "</tr>\n",
       "<tr>\n",
       "  <th>Df Residuals:</th>          <td>  6096</td>      <th>  BIC:               </th>          <td>6.197e+04</td>\n",
       "</tr>\n",
       "<tr>\n",
       "  <th>Df Model:</th>              <td>    71</td>      <th>                     </th>              <td> </td>    \n",
       "</tr>\n",
       "<tr>\n",
       "  <th>Covariance Type:</th>      <td>nonrobust</td>    <th>                     </th>              <td> </td>    \n",
       "</tr>\n",
       "</table>\n",
       "<table class=\"simpletable\">\n",
       "<tr>\n",
       "     <td></td>        <th>coef</th>     <th>std err</th>      <th>t</th>      <th>P>|t|</th>  <th>[0.025</th>    <th>0.975]</th>  \n",
       "</tr>\n",
       "<tr>\n",
       "  <th>ind_5</th>   <td>    0.8572</td> <td>    0.287</td> <td>    2.989</td> <td> 0.003</td> <td>    0.295</td> <td>    1.419</td>\n",
       "</tr>\n",
       "<tr>\n",
       "  <th>ind_8</th>   <td>-2.951e+08</td> <td> 1.27e+08</td> <td>   -2.328</td> <td> 0.020</td> <td>-5.44e+08</td> <td>-4.66e+07</td>\n",
       "</tr>\n",
       "<tr>\n",
       "  <th>ind_9</th>   <td> 2.951e+08</td> <td> 1.27e+08</td> <td>    2.328</td> <td> 0.020</td> <td> 4.66e+07</td> <td> 5.44e+08</td>\n",
       "</tr>\n",
       "<tr>\n",
       "  <th>ind_10</th>  <td> 2.951e+08</td> <td> 1.27e+08</td> <td>    2.328</td> <td> 0.020</td> <td> 4.66e+07</td> <td> 5.44e+08</td>\n",
       "</tr>\n",
       "<tr>\n",
       "  <th>ind_12</th>  <td>   -0.1111</td> <td>    0.207</td> <td>   -0.537</td> <td> 0.591</td> <td>   -0.517</td> <td>    0.295</td>\n",
       "</tr>\n",
       "<tr>\n",
       "  <th>ind_14</th>  <td>    0.0258</td> <td>    0.149</td> <td>    0.173</td> <td> 0.863</td> <td>   -0.266</td> <td>    0.318</td>\n",
       "</tr>\n",
       "<tr>\n",
       "  <th>ind_15</th>  <td>   -0.1637</td> <td>    0.229</td> <td>   -0.715</td> <td> 0.475</td> <td>   -0.613</td> <td>    0.285</td>\n",
       "</tr>\n",
       "<tr>\n",
       "  <th>ind_16</th>  <td>    0.8213</td> <td>    0.249</td> <td>    3.295</td> <td> 0.001</td> <td>    0.333</td> <td>    1.310</td>\n",
       "</tr>\n",
       "<tr>\n",
       "  <th>ind_18</th>  <td>    1.5648</td> <td>    0.234</td> <td>    6.680</td> <td> 0.000</td> <td>    1.106</td> <td>    2.024</td>\n",
       "</tr>\n",
       "<tr>\n",
       "  <th>ind_22</th>  <td>   -0.3567</td> <td>    0.197</td> <td>   -1.815</td> <td> 0.070</td> <td>   -0.742</td> <td>    0.029</td>\n",
       "</tr>\n",
       "<tr>\n",
       "  <th>ind_23</th>  <td>   -0.3540</td> <td>    0.198</td> <td>   -1.788</td> <td> 0.074</td> <td>   -0.742</td> <td>    0.034</td>\n",
       "</tr>\n",
       "<tr>\n",
       "  <th>ind_25</th>  <td> -7.26e+05</td> <td> 9.73e+05</td> <td>   -0.746</td> <td> 0.456</td> <td>-2.63e+06</td> <td> 1.18e+06</td>\n",
       "</tr>\n",
       "<tr>\n",
       "  <th>ind_26</th>  <td>-7.245e+05</td> <td> 9.73e+05</td> <td>   -0.745</td> <td> 0.457</td> <td>-2.63e+06</td> <td> 1.18e+06</td>\n",
       "</tr>\n",
       "<tr>\n",
       "  <th>ind_27</th>  <td> 1.448e+06</td> <td> 1.95e+06</td> <td>    0.744</td> <td> 0.457</td> <td>-2.37e+06</td> <td> 5.26e+06</td>\n",
       "</tr>\n",
       "<tr>\n",
       "  <th>ind_29</th>  <td>   -0.0206</td> <td>    0.014</td> <td>   -1.428</td> <td> 0.153</td> <td>   -0.049</td> <td>    0.008</td>\n",
       "</tr>\n",
       "<tr>\n",
       "  <th>ind_30</th>  <td>   -0.0076</td> <td>    0.014</td> <td>   -0.534</td> <td> 0.593</td> <td>   -0.035</td> <td>    0.020</td>\n",
       "</tr>\n",
       "<tr>\n",
       "  <th>ind_36</th>  <td>    0.0406</td> <td>    0.010</td> <td>    4.025</td> <td> 0.000</td> <td>    0.021</td> <td>    0.060</td>\n",
       "</tr>\n",
       "<tr>\n",
       "  <th>ind_39</th>  <td>    0.0010</td> <td>    0.044</td> <td>    0.022</td> <td> 0.982</td> <td>   -0.085</td> <td>    0.087</td>\n",
       "</tr>\n",
       "<tr>\n",
       "  <th>ind_40</th>  <td>   -1.8522</td> <td>    0.874</td> <td>   -2.120</td> <td> 0.034</td> <td>   -3.565</td> <td>   -0.140</td>\n",
       "</tr>\n",
       "<tr>\n",
       "  <th>ind_42</th>  <td>    0.1999</td> <td>    0.286</td> <td>    0.699</td> <td> 0.484</td> <td>   -0.360</td> <td>    0.760</td>\n",
       "</tr>\n",
       "<tr>\n",
       "  <th>ind_43</th>  <td>    0.2767</td> <td>    0.226</td> <td>    1.226</td> <td> 0.220</td> <td>   -0.166</td> <td>    0.719</td>\n",
       "</tr>\n",
       "<tr>\n",
       "  <th>ind_44</th>  <td>    0.0775</td> <td>    0.178</td> <td>    0.435</td> <td> 0.664</td> <td>   -0.272</td> <td>    0.427</td>\n",
       "</tr>\n",
       "<tr>\n",
       "  <th>ind_52</th>  <td>   -0.4051</td> <td>    0.280</td> <td>   -1.449</td> <td> 0.147</td> <td>   -0.953</td> <td>    0.143</td>\n",
       "</tr>\n",
       "<tr>\n",
       "  <th>ind_56</th>  <td>    0.0871</td> <td>    0.100</td> <td>    0.875</td> <td> 0.382</td> <td>   -0.108</td> <td>    0.282</td>\n",
       "</tr>\n",
       "<tr>\n",
       "  <th>ind_58</th>  <td>    1.2410</td> <td>    1.076</td> <td>    1.153</td> <td> 0.249</td> <td>   -0.868</td> <td>    3.350</td>\n",
       "</tr>\n",
       "<tr>\n",
       "  <th>ind_62</th>  <td>   -0.2991</td> <td>    0.083</td> <td>   -3.613</td> <td> 0.000</td> <td>   -0.461</td> <td>   -0.137</td>\n",
       "</tr>\n",
       "<tr>\n",
       "  <th>ind_71</th>  <td>    0.1896</td> <td>    0.076</td> <td>    2.506</td> <td> 0.012</td> <td>    0.041</td> <td>    0.338</td>\n",
       "</tr>\n",
       "<tr>\n",
       "  <th>ind_82</th>  <td>    6.9841</td> <td>    0.990</td> <td>    7.056</td> <td> 0.000</td> <td>    5.044</td> <td>    8.924</td>\n",
       "</tr>\n",
       "<tr>\n",
       "  <th>ind_83</th>  <td>    0.1237</td> <td>    0.065</td> <td>    1.906</td> <td> 0.057</td> <td>   -0.003</td> <td>    0.251</td>\n",
       "</tr>\n",
       "<tr>\n",
       "  <th>ind_88</th>  <td>  378.6549</td> <td> 1125.741</td> <td>    0.336</td> <td> 0.737</td> <td>-1828.195</td> <td> 2585.505</td>\n",
       "</tr>\n",
       "<tr>\n",
       "  <th>ind_116</th> <td>   -0.6573</td> <td>    0.342</td> <td>   -1.923</td> <td> 0.055</td> <td>   -1.327</td> <td>    0.013</td>\n",
       "</tr>\n",
       "<tr>\n",
       "  <th>ind_134</th> <td>    0.0362</td> <td>    0.127</td> <td>    0.285</td> <td> 0.776</td> <td>   -0.213</td> <td>    0.285</td>\n",
       "</tr>\n",
       "<tr>\n",
       "  <th>ind_147</th> <td>    0.1261</td> <td>    0.162</td> <td>    0.779</td> <td> 0.436</td> <td>   -0.191</td> <td>    0.443</td>\n",
       "</tr>\n",
       "<tr>\n",
       "  <th>ind_164</th> <td>   -0.4514</td> <td>    0.169</td> <td>   -2.674</td> <td> 0.008</td> <td>   -0.782</td> <td>   -0.120</td>\n",
       "</tr>\n",
       "<tr>\n",
       "  <th>ind_168</th> <td>    0.2265</td> <td>    0.092</td> <td>    2.475</td> <td> 0.013</td> <td>    0.047</td> <td>    0.406</td>\n",
       "</tr>\n",
       "<tr>\n",
       "  <th>ind_172</th> <td>   -0.0021</td> <td>    0.037</td> <td>   -0.057</td> <td> 0.955</td> <td>   -0.075</td> <td>    0.071</td>\n",
       "</tr>\n",
       "<tr>\n",
       "  <th>ind_176</th> <td>    0.0477</td> <td>    0.031</td> <td>    1.551</td> <td> 0.121</td> <td>   -0.013</td> <td>    0.108</td>\n",
       "</tr>\n",
       "<tr>\n",
       "  <th>ind_179</th> <td>    0.2940</td> <td>    0.221</td> <td>    1.329</td> <td> 0.184</td> <td>   -0.140</td> <td>    0.728</td>\n",
       "</tr>\n",
       "<tr>\n",
       "  <th>ind_181</th> <td>   -0.1858</td> <td>    0.275</td> <td>   -0.677</td> <td> 0.499</td> <td>   -0.724</td> <td>    0.352</td>\n",
       "</tr>\n",
       "<tr>\n",
       "  <th>ind_188</th> <td>    0.0003</td> <td>    0.048</td> <td>    0.006</td> <td> 0.995</td> <td>   -0.094</td> <td>    0.094</td>\n",
       "</tr>\n",
       "<tr>\n",
       "  <th>ind_212</th> <td>    0.0167</td> <td>    0.039</td> <td>    0.431</td> <td> 0.666</td> <td>   -0.059</td> <td>    0.093</td>\n",
       "</tr>\n",
       "<tr>\n",
       "  <th>ind_217</th> <td>    1.0352</td> <td>    0.542</td> <td>    1.908</td> <td> 0.056</td> <td>   -0.028</td> <td>    2.098</td>\n",
       "</tr>\n",
       "<tr>\n",
       "  <th>ind_225</th> <td> -105.2755</td> <td>   51.239</td> <td>   -2.055</td> <td> 0.040</td> <td> -205.723</td> <td>   -4.828</td>\n",
       "</tr>\n",
       "<tr>\n",
       "  <th>ind_228</th> <td>   -8.8026</td> <td>    3.391</td> <td>   -2.596</td> <td> 0.009</td> <td>  -15.450</td> <td>   -2.155</td>\n",
       "</tr>\n",
       "<tr>\n",
       "  <th>ind_237</th> <td>    0.0236</td> <td>    0.017</td> <td>    1.355</td> <td> 0.175</td> <td>   -0.011</td> <td>    0.058</td>\n",
       "</tr>\n",
       "<tr>\n",
       "  <th>ind_239</th> <td> 1.945e+04</td> <td> 4256.631</td> <td>    4.569</td> <td> 0.000</td> <td> 1.11e+04</td> <td> 2.78e+04</td>\n",
       "</tr>\n",
       "<tr>\n",
       "  <th>ind_241</th> <td>    0.0125</td> <td>    0.023</td> <td>    0.556</td> <td> 0.578</td> <td>   -0.032</td> <td>    0.057</td>\n",
       "</tr>\n",
       "<tr>\n",
       "  <th>ind_309</th> <td> 8032.3783</td> <td> 8438.572</td> <td>    0.952</td> <td> 0.341</td> <td>-8510.203</td> <td> 2.46e+04</td>\n",
       "</tr>\n",
       "<tr>\n",
       "  <th>ind_310</th> <td>   -0.3679</td> <td>    1.234</td> <td>   -0.298</td> <td> 0.766</td> <td>   -2.787</td> <td>    2.051</td>\n",
       "</tr>\n",
       "<tr>\n",
       "  <th>ind_311</th> <td>   -0.0410</td> <td>    0.029</td> <td>   -1.434</td> <td> 0.152</td> <td>   -0.097</td> <td>    0.015</td>\n",
       "</tr>\n",
       "<tr>\n",
       "  <th>ind_315</th> <td>   -1.2095</td> <td>    0.783</td> <td>   -1.545</td> <td> 0.122</td> <td>   -2.744</td> <td>    0.325</td>\n",
       "</tr>\n",
       "<tr>\n",
       "  <th>ind_316</th> <td>    0.0707</td> <td>    0.019</td> <td>    3.720</td> <td> 0.000</td> <td>    0.033</td> <td>    0.108</td>\n",
       "</tr>\n",
       "<tr>\n",
       "  <th>ind_321</th> <td>   -0.0347</td> <td>    0.016</td> <td>   -2.168</td> <td> 0.030</td> <td>   -0.066</td> <td>   -0.003</td>\n",
       "</tr>\n",
       "<tr>\n",
       "  <th>ind_324</th> <td>-2.296e+04</td> <td> 5170.853</td> <td>   -4.441</td> <td> 0.000</td> <td>-3.31e+04</td> <td>-1.28e+04</td>\n",
       "</tr>\n",
       "<tr>\n",
       "  <th>ind_327</th> <td>   -0.0391</td> <td>    0.018</td> <td>   -2.156</td> <td> 0.031</td> <td>   -0.075</td> <td>   -0.004</td>\n",
       "</tr>\n",
       "<tr>\n",
       "  <th>ind_330</th> <td>   -1.6060</td> <td>    1.835</td> <td>   -0.875</td> <td> 0.382</td> <td>   -5.204</td> <td>    1.992</td>\n",
       "</tr>\n",
       "<tr>\n",
       "  <th>ind_332</th> <td>    0.1412</td> <td>    0.025</td> <td>    5.728</td> <td> 0.000</td> <td>    0.093</td> <td>    0.189</td>\n",
       "</tr>\n",
       "<tr>\n",
       "  <th>ind_334</th> <td> 2.982e+04</td> <td> 1.35e+04</td> <td>    2.209</td> <td> 0.027</td> <td> 3351.357</td> <td> 5.63e+04</td>\n",
       "</tr>\n",
       "<tr>\n",
       "  <th>ind_338</th> <td>    7.7212</td> <td>    2.910</td> <td>    2.653</td> <td> 0.008</td> <td>    2.016</td> <td>   13.426</td>\n",
       "</tr>\n",
       "<tr>\n",
       "  <th>ind_340</th> <td>   -6.4634</td> <td>    6.248</td> <td>   -1.034</td> <td> 0.301</td> <td>  -18.712</td> <td>    5.785</td>\n",
       "</tr>\n",
       "<tr>\n",
       "  <th>ind_344</th> <td> 8642.4989</td> <td> 1.71e+04</td> <td>    0.507</td> <td> 0.612</td> <td>-2.48e+04</td> <td> 4.21e+04</td>\n",
       "</tr>\n",
       "<tr>\n",
       "  <th>ind_345</th> <td>   30.4776</td> <td>   15.924</td> <td>    1.914</td> <td> 0.056</td> <td>   -0.739</td> <td>   61.694</td>\n",
       "</tr>\n",
       "<tr>\n",
       "  <th>ind_349</th> <td>-8.651e+04</td> <td> 3.22e+04</td> <td>   -2.683</td> <td> 0.007</td> <td> -1.5e+05</td> <td>-2.33e+04</td>\n",
       "</tr>\n",
       "<tr>\n",
       "  <th>ind_352</th> <td>   -0.2669</td> <td>    0.228</td> <td>   -1.169</td> <td> 0.242</td> <td>   -0.714</td> <td>    0.181</td>\n",
       "</tr>\n",
       "<tr>\n",
       "  <th>ind_397</th> <td>   -0.2355</td> <td>    0.145</td> <td>   -1.621</td> <td> 0.105</td> <td>   -0.520</td> <td>    0.049</td>\n",
       "</tr>\n",
       "<tr>\n",
       "  <th>ind_399</th> <td> -450.3077</td> <td>  813.689</td> <td>   -0.553</td> <td> 0.580</td> <td>-2045.425</td> <td> 1144.810</td>\n",
       "</tr>\n",
       "<tr>\n",
       "  <th>ind_403</th> <td>  101.4229</td> <td>   93.663</td> <td>    1.083</td> <td> 0.279</td> <td>  -82.189</td> <td>  285.035</td>\n",
       "</tr>\n",
       "<tr>\n",
       "  <th>ind_412</th> <td>  929.0272</td> <td>  114.449</td> <td>    8.117</td> <td> 0.000</td> <td>  704.667</td> <td> 1153.387</td>\n",
       "</tr>\n",
       "<tr>\n",
       "  <th>ind_416</th> <td>    0.1436</td> <td>    0.033</td> <td>    4.306</td> <td> 0.000</td> <td>    0.078</td> <td>    0.209</td>\n",
       "</tr>\n",
       "<tr>\n",
       "  <th>ind_426</th> <td>    0.6406</td> <td>    4.911</td> <td>    0.130</td> <td> 0.896</td> <td>   -8.988</td> <td>   10.269</td>\n",
       "</tr>\n",
       "<tr>\n",
       "  <th>ind_428</th> <td>  -40.1759</td> <td>    8.848</td> <td>   -4.541</td> <td> 0.000</td> <td>  -57.522</td> <td>  -22.830</td>\n",
       "</tr>\n",
       "</table>\n",
       "<table class=\"simpletable\">\n",
       "<tr>\n",
       "  <th>Omnibus:</th>       <td>31138.703</td> <th>  Durbin-Watson:     </th> <td>   0.334</td> \n",
       "</tr>\n",
       "<tr>\n",
       "  <th>Prob(Omnibus):</th>  <td> 0.000</td>   <th>  Jarque-Bera (JB):  </th> <td> 681.099</td> \n",
       "</tr>\n",
       "<tr>\n",
       "  <th>Skew:</th>           <td> 0.163</td>   <th>  Prob(JB):          </th> <td>1.26e-148</td>\n",
       "</tr>\n",
       "<tr>\n",
       "  <th>Kurtosis:</th>       <td> 1.405</td>   <th>  Cond. No.          </th> <td>1.11e+11</td> \n",
       "</tr>\n",
       "</table><br/><br/>Warnings:<br/>[1] Standard Errors assume that the covariance matrix of the errors is correctly specified.<br/>[2] The smallest eigenvalue is 2.57e-14. This might indicate that there are<br/>strong multicollinearity problems or that the design matrix is singular."
      ],
      "text/plain": [
       "<class 'statsmodels.iolib.summary.Summary'>\n",
       "\"\"\"\n",
       "                                 OLS Regression Results                                \n",
       "=======================================================================================\n",
       "Dep. Variable:              90_target   R-squared (uncentered):                   0.106\n",
       "Model:                            OLS   Adj. R-squared (uncentered):              0.095\n",
       "Method:                 Least Squares   F-statistic:                              10.14\n",
       "Date:                Thu, 23 Jul 2020   Prob (F-statistic):                   4.41e-101\n",
       "Time:                        17:50:14   Log-Likelihood:                         -30673.\n",
       "No. Observations:                6167   AIC:                                  6.149e+04\n",
       "Df Residuals:                    6096   BIC:                                  6.197e+04\n",
       "Df Model:                          71                                                  \n",
       "Covariance Type:            nonrobust                                                  \n",
       "==============================================================================\n",
       "                 coef    std err          t      P>|t|      [0.025      0.975]\n",
       "------------------------------------------------------------------------------\n",
       "ind_5          0.8572      0.287      2.989      0.003       0.295       1.419\n",
       "ind_8      -2.951e+08   1.27e+08     -2.328      0.020   -5.44e+08   -4.66e+07\n",
       "ind_9       2.951e+08   1.27e+08      2.328      0.020    4.66e+07    5.44e+08\n",
       "ind_10      2.951e+08   1.27e+08      2.328      0.020    4.66e+07    5.44e+08\n",
       "ind_12        -0.1111      0.207     -0.537      0.591      -0.517       0.295\n",
       "ind_14         0.0258      0.149      0.173      0.863      -0.266       0.318\n",
       "ind_15        -0.1637      0.229     -0.715      0.475      -0.613       0.285\n",
       "ind_16         0.8213      0.249      3.295      0.001       0.333       1.310\n",
       "ind_18         1.5648      0.234      6.680      0.000       1.106       2.024\n",
       "ind_22        -0.3567      0.197     -1.815      0.070      -0.742       0.029\n",
       "ind_23        -0.3540      0.198     -1.788      0.074      -0.742       0.034\n",
       "ind_25      -7.26e+05   9.73e+05     -0.746      0.456   -2.63e+06    1.18e+06\n",
       "ind_26     -7.245e+05   9.73e+05     -0.745      0.457   -2.63e+06    1.18e+06\n",
       "ind_27      1.448e+06   1.95e+06      0.744      0.457   -2.37e+06    5.26e+06\n",
       "ind_29        -0.0206      0.014     -1.428      0.153      -0.049       0.008\n",
       "ind_30        -0.0076      0.014     -0.534      0.593      -0.035       0.020\n",
       "ind_36         0.0406      0.010      4.025      0.000       0.021       0.060\n",
       "ind_39         0.0010      0.044      0.022      0.982      -0.085       0.087\n",
       "ind_40        -1.8522      0.874     -2.120      0.034      -3.565      -0.140\n",
       "ind_42         0.1999      0.286      0.699      0.484      -0.360       0.760\n",
       "ind_43         0.2767      0.226      1.226      0.220      -0.166       0.719\n",
       "ind_44         0.0775      0.178      0.435      0.664      -0.272       0.427\n",
       "ind_52        -0.4051      0.280     -1.449      0.147      -0.953       0.143\n",
       "ind_56         0.0871      0.100      0.875      0.382      -0.108       0.282\n",
       "ind_58         1.2410      1.076      1.153      0.249      -0.868       3.350\n",
       "ind_62        -0.2991      0.083     -3.613      0.000      -0.461      -0.137\n",
       "ind_71         0.1896      0.076      2.506      0.012       0.041       0.338\n",
       "ind_82         6.9841      0.990      7.056      0.000       5.044       8.924\n",
       "ind_83         0.1237      0.065      1.906      0.057      -0.003       0.251\n",
       "ind_88       378.6549   1125.741      0.336      0.737   -1828.195    2585.505\n",
       "ind_116       -0.6573      0.342     -1.923      0.055      -1.327       0.013\n",
       "ind_134        0.0362      0.127      0.285      0.776      -0.213       0.285\n",
       "ind_147        0.1261      0.162      0.779      0.436      -0.191       0.443\n",
       "ind_164       -0.4514      0.169     -2.674      0.008      -0.782      -0.120\n",
       "ind_168        0.2265      0.092      2.475      0.013       0.047       0.406\n",
       "ind_172       -0.0021      0.037     -0.057      0.955      -0.075       0.071\n",
       "ind_176        0.0477      0.031      1.551      0.121      -0.013       0.108\n",
       "ind_179        0.2940      0.221      1.329      0.184      -0.140       0.728\n",
       "ind_181       -0.1858      0.275     -0.677      0.499      -0.724       0.352\n",
       "ind_188        0.0003      0.048      0.006      0.995      -0.094       0.094\n",
       "ind_212        0.0167      0.039      0.431      0.666      -0.059       0.093\n",
       "ind_217        1.0352      0.542      1.908      0.056      -0.028       2.098\n",
       "ind_225     -105.2755     51.239     -2.055      0.040    -205.723      -4.828\n",
       "ind_228       -8.8026      3.391     -2.596      0.009     -15.450      -2.155\n",
       "ind_237        0.0236      0.017      1.355      0.175      -0.011       0.058\n",
       "ind_239     1.945e+04   4256.631      4.569      0.000    1.11e+04    2.78e+04\n",
       "ind_241        0.0125      0.023      0.556      0.578      -0.032       0.057\n",
       "ind_309     8032.3783   8438.572      0.952      0.341   -8510.203    2.46e+04\n",
       "ind_310       -0.3679      1.234     -0.298      0.766      -2.787       2.051\n",
       "ind_311       -0.0410      0.029     -1.434      0.152      -0.097       0.015\n",
       "ind_315       -1.2095      0.783     -1.545      0.122      -2.744       0.325\n",
       "ind_316        0.0707      0.019      3.720      0.000       0.033       0.108\n",
       "ind_321       -0.0347      0.016     -2.168      0.030      -0.066      -0.003\n",
       "ind_324    -2.296e+04   5170.853     -4.441      0.000   -3.31e+04   -1.28e+04\n",
       "ind_327       -0.0391      0.018     -2.156      0.031      -0.075      -0.004\n",
       "ind_330       -1.6060      1.835     -0.875      0.382      -5.204       1.992\n",
       "ind_332        0.1412      0.025      5.728      0.000       0.093       0.189\n",
       "ind_334     2.982e+04   1.35e+04      2.209      0.027    3351.357    5.63e+04\n",
       "ind_338        7.7212      2.910      2.653      0.008       2.016      13.426\n",
       "ind_340       -6.4634      6.248     -1.034      0.301     -18.712       5.785\n",
       "ind_344     8642.4989   1.71e+04      0.507      0.612   -2.48e+04    4.21e+04\n",
       "ind_345       30.4776     15.924      1.914      0.056      -0.739      61.694\n",
       "ind_349    -8.651e+04   3.22e+04     -2.683      0.007    -1.5e+05   -2.33e+04\n",
       "ind_352       -0.2669      0.228     -1.169      0.242      -0.714       0.181\n",
       "ind_397       -0.2355      0.145     -1.621      0.105      -0.520       0.049\n",
       "ind_399     -450.3077    813.689     -0.553      0.580   -2045.425    1144.810\n",
       "ind_403      101.4229     93.663      1.083      0.279     -82.189     285.035\n",
       "ind_412      929.0272    114.449      8.117      0.000     704.667    1153.387\n",
       "ind_416        0.1436      0.033      4.306      0.000       0.078       0.209\n",
       "ind_426        0.6406      4.911      0.130      0.896      -8.988      10.269\n",
       "ind_428      -40.1759      8.848     -4.541      0.000     -57.522     -22.830\n",
       "==============================================================================\n",
       "Omnibus:                    31138.703   Durbin-Watson:                   0.334\n",
       "Prob(Omnibus):                  0.000   Jarque-Bera (JB):              681.099\n",
       "Skew:                           0.163   Prob(JB):                    1.26e-148\n",
       "Kurtosis:                       1.405   Cond. No.                     1.11e+11\n",
       "==============================================================================\n",
       "\n",
       "Warnings:\n",
       "[1] Standard Errors assume that the covariance matrix of the errors is correctly specified.\n",
       "[2] The smallest eigenvalue is 2.57e-14. This might indicate that there are\n",
       "strong multicollinearity problems or that the design matrix is singular.\n",
       "\"\"\""
      ]
     },
     "execution_count": 433,
     "metadata": {},
     "output_type": "execute_result"
    }
   ],
   "source": [
    "import statsmodels.api as sm\n",
    "lm = sm.OLS(y, X)\n",
    "model = lm.fit()  ##lm diye fonksiyon yaratıp fit ile model kurulumunu gerçekleştirdik\n",
    "model.summary()"
   ]
  },
  {
   "cell_type": "code",
   "execution_count": 434,
   "metadata": {},
   "outputs": [],
   "source": [
    "# resid lere geliyoruz\n",
    "# nasıl bir error dağılımı var hesaplamamız lazım"
   ]
  },
  {
   "cell_type": "code",
   "execution_count": 435,
   "metadata": {},
   "outputs": [
    {
     "data": {
      "text/html": [
       "<table class=\"simpletable\">\n",
       "<caption>OLS Regression Results</caption>\n",
       "<tr>\n",
       "  <th>Dep. Variable:</th>            <td>y</td>        <th>  R-squared:         </th> <td>   0.098</td> \n",
       "</tr>\n",
       "<tr>\n",
       "  <th>Model:</th>                   <td>OLS</td>       <th>  Adj. R-squared:    </th> <td>   0.088</td> \n",
       "</tr>\n",
       "<tr>\n",
       "  <th>Method:</th>             <td>Least Squares</td>  <th>  F-statistic:       </th> <td>   9.367</td> \n",
       "</tr>\n",
       "<tr>\n",
       "  <th>Date:</th>             <td>Thu, 23 Jul 2020</td> <th>  Prob (F-statistic):</th> <td>1.91e-91</td> \n",
       "</tr>\n",
       "<tr>\n",
       "  <th>Time:</th>                 <td>17:50:15</td>     <th>  Log-Likelihood:    </th> <td> -30673.</td> \n",
       "</tr>\n",
       "<tr>\n",
       "  <th>No. Observations:</th>      <td>  6167</td>      <th>  AIC:               </th> <td>6.149e+04</td>\n",
       "</tr>\n",
       "<tr>\n",
       "  <th>Df Residuals:</th>          <td>  6095</td>      <th>  BIC:               </th> <td>6.197e+04</td>\n",
       "</tr>\n",
       "<tr>\n",
       "  <th>Df Model:</th>              <td>    71</td>      <th>                     </th>     <td> </td>    \n",
       "</tr>\n",
       "<tr>\n",
       "  <th>Covariance Type:</th>      <td>nonrobust</td>    <th>                     </th>     <td> </td>    \n",
       "</tr>\n",
       "</table>\n",
       "<table class=\"simpletable\">\n",
       "<tr>\n",
       "      <td></td>         <th>coef</th>     <th>std err</th>      <th>t</th>      <th>P>|t|</th>  <th>[0.025</th>    <th>0.975]</th>  \n",
       "</tr>\n",
       "<tr>\n",
       "  <th>Intercept</th> <td>    0.4412</td> <td>   11.834</td> <td>    0.037</td> <td> 0.970</td> <td>  -22.758</td> <td>   23.641</td>\n",
       "</tr>\n",
       "<tr>\n",
       "  <th>X[0]</th>      <td>    0.8593</td> <td>    0.292</td> <td>    2.939</td> <td> 0.003</td> <td>    0.286</td> <td>    1.432</td>\n",
       "</tr>\n",
       "<tr>\n",
       "  <th>X[1]</th>      <td>-2.951e+08</td> <td> 1.27e+08</td> <td>   -2.328</td> <td> 0.020</td> <td>-5.44e+08</td> <td>-4.66e+07</td>\n",
       "</tr>\n",
       "<tr>\n",
       "  <th>X[2]</th>      <td> 2.951e+08</td> <td> 1.27e+08</td> <td>    2.328</td> <td> 0.020</td> <td> 4.66e+07</td> <td> 5.44e+08</td>\n",
       "</tr>\n",
       "<tr>\n",
       "  <th>X[3]</th>      <td> 2.951e+08</td> <td> 1.27e+08</td> <td>    2.328</td> <td> 0.020</td> <td> 4.66e+07</td> <td> 5.44e+08</td>\n",
       "</tr>\n",
       "<tr>\n",
       "  <th>X[4]</th>      <td>   -0.1172</td> <td>    0.264</td> <td>   -0.444</td> <td> 0.657</td> <td>   -0.634</td> <td>    0.400</td>\n",
       "</tr>\n",
       "<tr>\n",
       "  <th>X[5]</th>      <td>    0.0256</td> <td>    0.149</td> <td>    0.172</td> <td> 0.864</td> <td>   -0.267</td> <td>    0.318</td>\n",
       "</tr>\n",
       "<tr>\n",
       "  <th>X[6]</th>      <td>   -0.1635</td> <td>    0.229</td> <td>   -0.713</td> <td> 0.476</td> <td>   -0.613</td> <td>    0.286</td>\n",
       "</tr>\n",
       "<tr>\n",
       "  <th>X[7]</th>      <td>    0.8211</td> <td>    0.249</td> <td>    3.294</td> <td> 0.001</td> <td>    0.332</td> <td>    1.310</td>\n",
       "</tr>\n",
       "<tr>\n",
       "  <th>X[8]</th>      <td>    1.5630</td> <td>    0.240</td> <td>    6.521</td> <td> 0.000</td> <td>    1.093</td> <td>    2.033</td>\n",
       "</tr>\n",
       "<tr>\n",
       "  <th>X[9]</th>      <td>   -0.3582</td> <td>    0.201</td> <td>   -1.782</td> <td> 0.075</td> <td>   -0.752</td> <td>    0.036</td>\n",
       "</tr>\n",
       "<tr>\n",
       "  <th>X[10]</th>     <td>   -0.3556</td> <td>    0.203</td> <td>   -1.754</td> <td> 0.080</td> <td>   -0.753</td> <td>    0.042</td>\n",
       "</tr>\n",
       "<tr>\n",
       "  <th>X[11]</th>     <td>-7.259e+05</td> <td> 9.73e+05</td> <td>   -0.746</td> <td> 0.456</td> <td>-2.63e+06</td> <td> 1.18e+06</td>\n",
       "</tr>\n",
       "<tr>\n",
       "  <th>X[12]</th>     <td>-7.245e+05</td> <td> 9.73e+05</td> <td>   -0.744</td> <td> 0.457</td> <td>-2.63e+06</td> <td> 1.18e+06</td>\n",
       "</tr>\n",
       "<tr>\n",
       "  <th>X[13]</th>     <td> 1.448e+06</td> <td> 1.95e+06</td> <td>    0.744</td> <td> 0.457</td> <td>-2.37e+06</td> <td> 5.26e+06</td>\n",
       "</tr>\n",
       "<tr>\n",
       "  <th>X[14]</th>     <td>   -0.0206</td> <td>    0.014</td> <td>   -1.428</td> <td> 0.153</td> <td>   -0.049</td> <td>    0.008</td>\n",
       "</tr>\n",
       "<tr>\n",
       "  <th>X[15]</th>     <td>   -0.0074</td> <td>    0.015</td> <td>   -0.508</td> <td> 0.612</td> <td>   -0.036</td> <td>    0.021</td>\n",
       "</tr>\n",
       "<tr>\n",
       "  <th>X[16]</th>     <td>    0.0408</td> <td>    0.011</td> <td>    3.768</td> <td> 0.000</td> <td>    0.020</td> <td>    0.062</td>\n",
       "</tr>\n",
       "<tr>\n",
       "  <th>X[17]</th>     <td>    0.0017</td> <td>    0.048</td> <td>    0.035</td> <td> 0.972</td> <td>   -0.092</td> <td>    0.095</td>\n",
       "</tr>\n",
       "<tr>\n",
       "  <th>X[18]</th>     <td>   -1.8621</td> <td>    0.914</td> <td>   -2.038</td> <td> 0.042</td> <td>   -3.653</td> <td>   -0.071</td>\n",
       "</tr>\n",
       "<tr>\n",
       "  <th>X[19]</th>     <td>    0.1978</td> <td>    0.291</td> <td>    0.679</td> <td> 0.497</td> <td>   -0.373</td> <td>    0.769</td>\n",
       "</tr>\n",
       "<tr>\n",
       "  <th>X[20]</th>     <td>    0.2759</td> <td>    0.227</td> <td>    1.215</td> <td> 0.224</td> <td>   -0.169</td> <td>    0.721</td>\n",
       "</tr>\n",
       "<tr>\n",
       "  <th>X[21]</th>     <td>    0.0773</td> <td>    0.178</td> <td>    0.433</td> <td> 0.665</td> <td>   -0.273</td> <td>    0.427</td>\n",
       "</tr>\n",
       "<tr>\n",
       "  <th>X[22]</th>     <td>   -0.4057</td> <td>    0.280</td> <td>   -1.449</td> <td> 0.147</td> <td>   -0.955</td> <td>    0.143</td>\n",
       "</tr>\n",
       "<tr>\n",
       "  <th>X[23]</th>     <td>    0.0869</td> <td>    0.100</td> <td>    0.870</td> <td> 0.384</td> <td>   -0.109</td> <td>    0.283</td>\n",
       "</tr>\n",
       "<tr>\n",
       "  <th>X[24]</th>     <td>    1.2369</td> <td>    1.082</td> <td>    1.143</td> <td> 0.253</td> <td>   -0.884</td> <td>    3.357</td>\n",
       "</tr>\n",
       "<tr>\n",
       "  <th>X[25]</th>     <td>   -0.2989</td> <td>    0.083</td> <td>   -3.606</td> <td> 0.000</td> <td>   -0.461</td> <td>   -0.136</td>\n",
       "</tr>\n",
       "<tr>\n",
       "  <th>X[26]</th>     <td>    0.1897</td> <td>    0.076</td> <td>    2.505</td> <td> 0.012</td> <td>    0.041</td> <td>    0.338</td>\n",
       "</tr>\n",
       "<tr>\n",
       "  <th>X[27]</th>     <td>    6.9821</td> <td>    0.991</td> <td>    7.044</td> <td> 0.000</td> <td>    5.039</td> <td>    8.925</td>\n",
       "</tr>\n",
       "<tr>\n",
       "  <th>X[28]</th>     <td>    0.1236</td> <td>    0.065</td> <td>    1.902</td> <td> 0.057</td> <td>   -0.004</td> <td>    0.251</td>\n",
       "</tr>\n",
       "<tr>\n",
       "  <th>X[29]</th>     <td>  380.5431</td> <td> 1126.970</td> <td>    0.338</td> <td> 0.736</td> <td>-1828.717</td> <td> 2589.803</td>\n",
       "</tr>\n",
       "<tr>\n",
       "  <th>X[30]</th>     <td>   -0.6584</td> <td>    0.343</td> <td>   -1.920</td> <td> 0.055</td> <td>   -1.331</td> <td>    0.014</td>\n",
       "</tr>\n",
       "<tr>\n",
       "  <th>X[31]</th>     <td>    0.0359</td> <td>    0.127</td> <td>    0.282</td> <td> 0.778</td> <td>   -0.214</td> <td>    0.285</td>\n",
       "</tr>\n",
       "<tr>\n",
       "  <th>X[32]</th>     <td>    0.1266</td> <td>    0.162</td> <td>    0.779</td> <td> 0.436</td> <td>   -0.192</td> <td>    0.445</td>\n",
       "</tr>\n",
       "<tr>\n",
       "  <th>X[33]</th>     <td>   -0.4524</td> <td>    0.171</td> <td>   -2.649</td> <td> 0.008</td> <td>   -0.787</td> <td>   -0.118</td>\n",
       "</tr>\n",
       "<tr>\n",
       "  <th>X[34]</th>     <td>    0.2267</td> <td>    0.092</td> <td>    2.472</td> <td> 0.013</td> <td>    0.047</td> <td>    0.406</td>\n",
       "</tr>\n",
       "<tr>\n",
       "  <th>X[35]</th>     <td>   -0.0022</td> <td>    0.037</td> <td>   -0.059</td> <td> 0.953</td> <td>   -0.076</td> <td>    0.071</td>\n",
       "</tr>\n",
       "<tr>\n",
       "  <th>X[36]</th>     <td>    0.0478</td> <td>    0.031</td> <td>    1.551</td> <td> 0.121</td> <td>   -0.013</td> <td>    0.108</td>\n",
       "</tr>\n",
       "<tr>\n",
       "  <th>X[37]</th>     <td>    0.2943</td> <td>    0.221</td> <td>    1.330</td> <td> 0.184</td> <td>   -0.140</td> <td>    0.728</td>\n",
       "</tr>\n",
       "<tr>\n",
       "  <th>X[38]</th>     <td>   -0.1854</td> <td>    0.275</td> <td>   -0.675</td> <td> 0.500</td> <td>   -0.724</td> <td>    0.353</td>\n",
       "</tr>\n",
       "<tr>\n",
       "  <th>X[39]</th>     <td> 9.793e-05</td> <td>    0.048</td> <td>    0.002</td> <td> 0.998</td> <td>   -0.094</td> <td>    0.095</td>\n",
       "</tr>\n",
       "<tr>\n",
       "  <th>X[40]</th>     <td>    0.0166</td> <td>    0.039</td> <td>    0.424</td> <td> 0.671</td> <td>   -0.060</td> <td>    0.093</td>\n",
       "</tr>\n",
       "<tr>\n",
       "  <th>X[41]</th>     <td>    1.0351</td> <td>    0.542</td> <td>    1.908</td> <td> 0.056</td> <td>   -0.028</td> <td>    2.099</td>\n",
       "</tr>\n",
       "<tr>\n",
       "  <th>X[42]</th>     <td> -105.1838</td> <td>   51.302</td> <td>   -2.050</td> <td> 0.040</td> <td> -205.755</td> <td>   -4.613</td>\n",
       "</tr>\n",
       "<tr>\n",
       "  <th>X[43]</th>     <td>   -8.8349</td> <td>    3.500</td> <td>   -2.524</td> <td> 0.012</td> <td>  -15.697</td> <td>   -1.973</td>\n",
       "</tr>\n",
       "<tr>\n",
       "  <th>X[44]</th>     <td>    0.0236</td> <td>    0.017</td> <td>    1.356</td> <td> 0.175</td> <td>   -0.011</td> <td>    0.058</td>\n",
       "</tr>\n",
       "<tr>\n",
       "  <th>X[45]</th>     <td> 1.947e+04</td> <td> 4298.981</td> <td>    4.529</td> <td> 0.000</td> <td>  1.1e+04</td> <td> 2.79e+04</td>\n",
       "</tr>\n",
       "<tr>\n",
       "  <th>X[46]</th>     <td>    0.0124</td> <td>    0.023</td> <td>    0.545</td> <td> 0.586</td> <td>   -0.032</td> <td>    0.057</td>\n",
       "</tr>\n",
       "<tr>\n",
       "  <th>X[47]</th>     <td> 8014.5600</td> <td> 8452.892</td> <td>    0.948</td> <td> 0.343</td> <td>-8556.095</td> <td> 2.46e+04</td>\n",
       "</tr>\n",
       "<tr>\n",
       "  <th>X[48]</th>     <td>   -0.3621</td> <td>    1.244</td> <td>   -0.291</td> <td> 0.771</td> <td>   -2.801</td> <td>    2.077</td>\n",
       "</tr>\n",
       "<tr>\n",
       "  <th>X[49]</th>     <td>   -0.0412</td> <td>    0.029</td> <td>   -1.408</td> <td> 0.159</td> <td>   -0.099</td> <td>    0.016</td>\n",
       "</tr>\n",
       "<tr>\n",
       "  <th>X[50]</th>     <td>   -1.2092</td> <td>    0.783</td> <td>   -1.544</td> <td> 0.123</td> <td>   -2.744</td> <td>    0.326</td>\n",
       "</tr>\n",
       "<tr>\n",
       "  <th>X[51]</th>     <td>    0.0707</td> <td>    0.019</td> <td>    3.714</td> <td> 0.000</td> <td>    0.033</td> <td>    0.108</td>\n",
       "</tr>\n",
       "<tr>\n",
       "  <th>X[52]</th>     <td>   -0.0347</td> <td>    0.016</td> <td>   -2.166</td> <td> 0.030</td> <td>   -0.066</td> <td>   -0.003</td>\n",
       "</tr>\n",
       "<tr>\n",
       "  <th>X[53]</th>     <td>-2.296e+04</td> <td> 5171.298</td> <td>   -4.441</td> <td> 0.000</td> <td>-3.31e+04</td> <td>-1.28e+04</td>\n",
       "</tr>\n",
       "<tr>\n",
       "  <th>X[54]</th>     <td>   -0.0390</td> <td>    0.018</td> <td>   -2.154</td> <td> 0.031</td> <td>   -0.075</td> <td>   -0.004</td>\n",
       "</tr>\n",
       "<tr>\n",
       "  <th>X[55]</th>     <td>   -1.6073</td> <td>    1.836</td> <td>   -0.876</td> <td> 0.381</td> <td>   -5.206</td> <td>    1.991</td>\n",
       "</tr>\n",
       "<tr>\n",
       "  <th>X[56]</th>     <td>    0.1411</td> <td>    0.025</td> <td>    5.710</td> <td> 0.000</td> <td>    0.093</td> <td>    0.190</td>\n",
       "</tr>\n",
       "<tr>\n",
       "  <th>X[57]</th>     <td> 2.983e+04</td> <td> 1.35e+04</td> <td>    2.209</td> <td> 0.027</td> <td> 3353.074</td> <td> 5.63e+04</td>\n",
       "</tr>\n",
       "<tr>\n",
       "  <th>X[58]</th>     <td>    7.7198</td> <td>    2.911</td> <td>    2.652</td> <td> 0.008</td> <td>    2.014</td> <td>   13.426</td>\n",
       "</tr>\n",
       "<tr>\n",
       "  <th>X[59]</th>     <td>   -6.4588</td> <td>    6.250</td> <td>   -1.033</td> <td> 0.301</td> <td>  -18.710</td> <td>    5.793</td>\n",
       "</tr>\n",
       "<tr>\n",
       "  <th>X[60]</th>     <td> 8660.7236</td> <td> 1.71e+04</td> <td>    0.507</td> <td> 0.612</td> <td>-2.48e+04</td> <td> 4.21e+04</td>\n",
       "</tr>\n",
       "<tr>\n",
       "  <th>X[61]</th>     <td>   30.4782</td> <td>   15.925</td> <td>    1.914</td> <td> 0.056</td> <td>   -0.741</td> <td>   61.698</td>\n",
       "</tr>\n",
       "<tr>\n",
       "  <th>X[62]</th>     <td>-8.645e+04</td> <td> 3.23e+04</td> <td>   -2.678</td> <td> 0.007</td> <td> -1.5e+05</td> <td>-2.32e+04</td>\n",
       "</tr>\n",
       "<tr>\n",
       "  <th>X[63]</th>     <td>   -0.2666</td> <td>    0.228</td> <td>   -1.167</td> <td> 0.243</td> <td>   -0.714</td> <td>    0.181</td>\n",
       "</tr>\n",
       "<tr>\n",
       "  <th>X[64]</th>     <td>   -0.2355</td> <td>    0.145</td> <td>   -1.621</td> <td> 0.105</td> <td>   -0.520</td> <td>    0.049</td>\n",
       "</tr>\n",
       "<tr>\n",
       "  <th>X[65]</th>     <td> -447.6023</td> <td>  816.982</td> <td>   -0.548</td> <td> 0.584</td> <td>-2049.176</td> <td> 1153.971</td>\n",
       "</tr>\n",
       "<tr>\n",
       "  <th>X[66]</th>     <td>  101.4830</td> <td>   93.684</td> <td>    1.083</td> <td> 0.279</td> <td>  -82.172</td> <td>  285.138</td>\n",
       "</tr>\n",
       "<tr>\n",
       "  <th>X[67]</th>     <td>  929.4382</td> <td>  114.987</td> <td>    8.083</td> <td> 0.000</td> <td>  704.022</td> <td> 1154.854</td>\n",
       "</tr>\n",
       "<tr>\n",
       "  <th>X[68]</th>     <td>    0.1435</td> <td>    0.033</td> <td>    4.287</td> <td> 0.000</td> <td>    0.078</td> <td>    0.209</td>\n",
       "</tr>\n",
       "<tr>\n",
       "  <th>X[69]</th>     <td>    0.6280</td> <td>    4.924</td> <td>    0.128</td> <td> 0.899</td> <td>   -9.024</td> <td>   10.280</td>\n",
       "</tr>\n",
       "<tr>\n",
       "  <th>X[70]</th>     <td>  -40.1835</td> <td>    8.851</td> <td>   -4.540</td> <td> 0.000</td> <td>  -57.535</td> <td>  -22.832</td>\n",
       "</tr>\n",
       "</table>\n",
       "<table class=\"simpletable\">\n",
       "<tr>\n",
       "  <th>Omnibus:</th>       <td>31141.434</td> <th>  Durbin-Watson:     </th> <td>   0.334</td> \n",
       "</tr>\n",
       "<tr>\n",
       "  <th>Prob(Omnibus):</th>  <td> 0.000</td>   <th>  Jarque-Bera (JB):  </th> <td> 681.062</td> \n",
       "</tr>\n",
       "<tr>\n",
       "  <th>Skew:</th>           <td> 0.163</td>   <th>  Prob(JB):          </th> <td>1.29e-148</td>\n",
       "</tr>\n",
       "<tr>\n",
       "  <th>Kurtosis:</th>       <td> 1.405</td>   <th>  Cond. No.          </th> <td>1.11e+11</td> \n",
       "</tr>\n",
       "</table><br/><br/>Warnings:<br/>[1] Standard Errors assume that the covariance matrix of the errors is correctly specified.<br/>[2] The smallest eigenvalue is 2.57e-14. This might indicate that there are<br/>strong multicollinearity problems or that the design matrix is singular."
      ],
      "text/plain": [
       "<class 'statsmodels.iolib.summary.Summary'>\n",
       "\"\"\"\n",
       "                            OLS Regression Results                            \n",
       "==============================================================================\n",
       "Dep. Variable:                      y   R-squared:                       0.098\n",
       "Model:                            OLS   Adj. R-squared:                  0.088\n",
       "Method:                 Least Squares   F-statistic:                     9.367\n",
       "Date:                Thu, 23 Jul 2020   Prob (F-statistic):           1.91e-91\n",
       "Time:                        17:50:15   Log-Likelihood:                -30673.\n",
       "No. Observations:                6167   AIC:                         6.149e+04\n",
       "Df Residuals:                    6095   BIC:                         6.197e+04\n",
       "Df Model:                          71                                         \n",
       "Covariance Type:            nonrobust                                         \n",
       "==============================================================================\n",
       "                 coef    std err          t      P>|t|      [0.025      0.975]\n",
       "------------------------------------------------------------------------------\n",
       "Intercept      0.4412     11.834      0.037      0.970     -22.758      23.641\n",
       "X[0]           0.8593      0.292      2.939      0.003       0.286       1.432\n",
       "X[1]       -2.951e+08   1.27e+08     -2.328      0.020   -5.44e+08   -4.66e+07\n",
       "X[2]        2.951e+08   1.27e+08      2.328      0.020    4.66e+07    5.44e+08\n",
       "X[3]        2.951e+08   1.27e+08      2.328      0.020    4.66e+07    5.44e+08\n",
       "X[4]          -0.1172      0.264     -0.444      0.657      -0.634       0.400\n",
       "X[5]           0.0256      0.149      0.172      0.864      -0.267       0.318\n",
       "X[6]          -0.1635      0.229     -0.713      0.476      -0.613       0.286\n",
       "X[7]           0.8211      0.249      3.294      0.001       0.332       1.310\n",
       "X[8]           1.5630      0.240      6.521      0.000       1.093       2.033\n",
       "X[9]          -0.3582      0.201     -1.782      0.075      -0.752       0.036\n",
       "X[10]         -0.3556      0.203     -1.754      0.080      -0.753       0.042\n",
       "X[11]      -7.259e+05   9.73e+05     -0.746      0.456   -2.63e+06    1.18e+06\n",
       "X[12]      -7.245e+05   9.73e+05     -0.744      0.457   -2.63e+06    1.18e+06\n",
       "X[13]       1.448e+06   1.95e+06      0.744      0.457   -2.37e+06    5.26e+06\n",
       "X[14]         -0.0206      0.014     -1.428      0.153      -0.049       0.008\n",
       "X[15]         -0.0074      0.015     -0.508      0.612      -0.036       0.021\n",
       "X[16]          0.0408      0.011      3.768      0.000       0.020       0.062\n",
       "X[17]          0.0017      0.048      0.035      0.972      -0.092       0.095\n",
       "X[18]         -1.8621      0.914     -2.038      0.042      -3.653      -0.071\n",
       "X[19]          0.1978      0.291      0.679      0.497      -0.373       0.769\n",
       "X[20]          0.2759      0.227      1.215      0.224      -0.169       0.721\n",
       "X[21]          0.0773      0.178      0.433      0.665      -0.273       0.427\n",
       "X[22]         -0.4057      0.280     -1.449      0.147      -0.955       0.143\n",
       "X[23]          0.0869      0.100      0.870      0.384      -0.109       0.283\n",
       "X[24]          1.2369      1.082      1.143      0.253      -0.884       3.357\n",
       "X[25]         -0.2989      0.083     -3.606      0.000      -0.461      -0.136\n",
       "X[26]          0.1897      0.076      2.505      0.012       0.041       0.338\n",
       "X[27]          6.9821      0.991      7.044      0.000       5.039       8.925\n",
       "X[28]          0.1236      0.065      1.902      0.057      -0.004       0.251\n",
       "X[29]        380.5431   1126.970      0.338      0.736   -1828.717    2589.803\n",
       "X[30]         -0.6584      0.343     -1.920      0.055      -1.331       0.014\n",
       "X[31]          0.0359      0.127      0.282      0.778      -0.214       0.285\n",
       "X[32]          0.1266      0.162      0.779      0.436      -0.192       0.445\n",
       "X[33]         -0.4524      0.171     -2.649      0.008      -0.787      -0.118\n",
       "X[34]          0.2267      0.092      2.472      0.013       0.047       0.406\n",
       "X[35]         -0.0022      0.037     -0.059      0.953      -0.076       0.071\n",
       "X[36]          0.0478      0.031      1.551      0.121      -0.013       0.108\n",
       "X[37]          0.2943      0.221      1.330      0.184      -0.140       0.728\n",
       "X[38]         -0.1854      0.275     -0.675      0.500      -0.724       0.353\n",
       "X[39]       9.793e-05      0.048      0.002      0.998      -0.094       0.095\n",
       "X[40]          0.0166      0.039      0.424      0.671      -0.060       0.093\n",
       "X[41]          1.0351      0.542      1.908      0.056      -0.028       2.099\n",
       "X[42]       -105.1838     51.302     -2.050      0.040    -205.755      -4.613\n",
       "X[43]         -8.8349      3.500     -2.524      0.012     -15.697      -1.973\n",
       "X[44]          0.0236      0.017      1.356      0.175      -0.011       0.058\n",
       "X[45]       1.947e+04   4298.981      4.529      0.000     1.1e+04    2.79e+04\n",
       "X[46]          0.0124      0.023      0.545      0.586      -0.032       0.057\n",
       "X[47]       8014.5600   8452.892      0.948      0.343   -8556.095    2.46e+04\n",
       "X[48]         -0.3621      1.244     -0.291      0.771      -2.801       2.077\n",
       "X[49]         -0.0412      0.029     -1.408      0.159      -0.099       0.016\n",
       "X[50]         -1.2092      0.783     -1.544      0.123      -2.744       0.326\n",
       "X[51]          0.0707      0.019      3.714      0.000       0.033       0.108\n",
       "X[52]         -0.0347      0.016     -2.166      0.030      -0.066      -0.003\n",
       "X[53]      -2.296e+04   5171.298     -4.441      0.000   -3.31e+04   -1.28e+04\n",
       "X[54]         -0.0390      0.018     -2.154      0.031      -0.075      -0.004\n",
       "X[55]         -1.6073      1.836     -0.876      0.381      -5.206       1.991\n",
       "X[56]          0.1411      0.025      5.710      0.000       0.093       0.190\n",
       "X[57]       2.983e+04   1.35e+04      2.209      0.027    3353.074    5.63e+04\n",
       "X[58]          7.7198      2.911      2.652      0.008       2.014      13.426\n",
       "X[59]         -6.4588      6.250     -1.033      0.301     -18.710       5.793\n",
       "X[60]       8660.7236   1.71e+04      0.507      0.612   -2.48e+04    4.21e+04\n",
       "X[61]         30.4782     15.925      1.914      0.056      -0.741      61.698\n",
       "X[62]      -8.645e+04   3.23e+04     -2.678      0.007    -1.5e+05   -2.32e+04\n",
       "X[63]         -0.2666      0.228     -1.167      0.243      -0.714       0.181\n",
       "X[64]         -0.2355      0.145     -1.621      0.105      -0.520       0.049\n",
       "X[65]       -447.6023    816.982     -0.548      0.584   -2049.176    1153.971\n",
       "X[66]        101.4830     93.684      1.083      0.279     -82.172     285.138\n",
       "X[67]        929.4382    114.987      8.083      0.000     704.022    1154.854\n",
       "X[68]          0.1435      0.033      4.287      0.000       0.078       0.209\n",
       "X[69]          0.6280      4.924      0.128      0.899      -9.024      10.280\n",
       "X[70]        -40.1835      8.851     -4.540      0.000     -57.535     -22.832\n",
       "==============================================================================\n",
       "Omnibus:                    31141.434   Durbin-Watson:                   0.334\n",
       "Prob(Omnibus):                  0.000   Jarque-Bera (JB):              681.062\n",
       "Skew:                           0.163   Prob(JB):                    1.29e-148\n",
       "Kurtosis:                       1.405   Cond. No.                     1.11e+11\n",
       "==============================================================================\n",
       "\n",
       "Warnings:\n",
       "[1] Standard Errors assume that the covariance matrix of the errors is correctly specified.\n",
       "[2] The smallest eigenvalue is 2.57e-14. This might indicate that there are\n",
       "strong multicollinearity problems or that the design matrix is singular.\n",
       "\"\"\""
      ]
     },
     "execution_count": 435,
     "metadata": {},
     "output_type": "execute_result"
    }
   ],
   "source": [
    "import statsmodels.formula.api as smf\n",
    "lm = smf.ols(\"y ~ X\", df)## bana y'yi X ile açıkla diğer değişkenleri de bunun yanına getirirken artı ile ekle ya da tvnin 2 katıyla açıkla vb.\n",
    "model = lm.fit()\n",
    "model.summary()"
   ]
  },
  {
   "cell_type": "code",
   "execution_count": 436,
   "metadata": {},
   "outputs": [
    {
     "data": {
      "text/plain": [
       "<statsmodels.stats.outliers_influence.OLSInfluence at 0x1e5c3015788>"
      ]
     },
     "execution_count": 436,
     "metadata": {},
     "output_type": "execute_result"
    }
   ],
   "source": [
    "influence = model.get_influence()\n",
    "influence"
   ]
  },
  {
   "cell_type": "code",
   "execution_count": 437,
   "metadata": {},
   "outputs": [],
   "source": [
    "resid_student = influence.resid_studentized_external"
   ]
  },
  {
   "cell_type": "code",
   "execution_count": 438,
   "metadata": {},
   "outputs": [
    {
     "name": "stdout",
     "output_type": "stream",
     "text": [
      "Leverage vs studentized residuals\n"
     ]
    },
    {
     "data": {
      "text/plain": [
       "<matplotlib.axes._subplots.AxesSubplot at 0x1e5f62164c8>"
      ]
     },
     "execution_count": 438,
     "metadata": {},
     "output_type": "execute_result"
    },
    {
     "data": {
      "image/png": "[encoded data removed]",
      "text/plain": [
       "<Figure size 432x288 with 1 Axes>"
      ]
     },
     "metadata": {},
     "output_type": "display_data"
    }
   ],
   "source": [
    "(cooks, p) =influence.cooks_distance\n",
    "(dffits,p) = influence.dffits\n",
    "leverage = influence.hat_matrix_diag\n",
    "print(\"Leverage vs studentized residuals\")\n",
    "sns.regplot(leverage , model.resid_pearson , fit_reg = False)\n",
    "\n",
    "# olması gerekenle kendi hatalarımzla karşılaştırıyoruz"
   ]
  },
  {
   "cell_type": "code",
   "execution_count": 439,
   "metadata": {},
   "outputs": [],
   "source": [
    "# errorlar normal dağılacak\n",
    "# uzak noktalar erors outliers\n",
    "# errorlarım normal dağılımdan geliyor mu diye test yapalım şimdide"
   ]
  },
  {
   "cell_type": "code",
   "execution_count": 441,
   "metadata": {},
   "outputs": [
    {
     "data": {
      "image/png": "[encoded data removed]",
      "text/plain": [
       "<Figure size 432x288 with 1 Axes>"
      ]
     },
     "metadata": {},
     "output_type": "display_data"
    },
    {
     "data": {
      "image/png": "[encoded data removed]",
      "text/plain": [
       "<Figure size 432x288 with 1 Axes>"
      ]
     },
     "metadata": {},
     "output_type": "display_data"
    }
   ],
   "source": [
    "hwres = pd.concat([df , pd.Series(model.resid, name = 'resid'), pd.Series(model.predict(), name = \"predict\")], axis = 1)\n",
    "\n",
    "sns.kdeplot(np.array(hwres.resid), bw=10)\n",
    "sns.distplot(np.array(hwres.resid), hist=False)\n",
    "\n",
    "sm.qqplot(hwres.resid)\n",
    "plt.show()"
   ]
  },
  {
   "cell_type": "code",
   "execution_count": 443,
   "metadata": {},
   "outputs": [
    {
     "data": {
      "text/plain": [
       "<matplotlib.axes._subplots.AxesSubplot at 0x1e5f66cd788>"
      ]
     },
     "execution_count": 443,
     "metadata": {},
     "output_type": "execute_result"
    },
    {
     "data": {
      "image/png": "[encoded data removed]",
      "text/plain": [
       "<Figure size 432x288 with 1 Axes>"
      ]
     },
     "metadata": {},
     "output_type": "display_data"
    }
   ],
   "source": [
    "sns.distplot(np.array(hwres.resid), hist=False)"
   ]
  },
  {
   "cell_type": "code",
   "execution_count": 444,
   "metadata": {},
   "outputs": [
    {
     "data": {
      "image/png": "[encoded data removed]",
      "text/plain": [
       "<Figure size 432x288 with 1 Axes>"
      ]
     },
     "metadata": {},
     "output_type": "display_data"
    }
   ],
   "source": [
    "import pylab\n",
    "stats.probplot(hwres.resid, dist=\"norm\", plot=pylab)\n",
    "pylab.show()"
   ]
  },
  {
   "cell_type": "code",
   "execution_count": 446,
   "metadata": {},
   "outputs": [
    {
     "data": {
      "image/png": "[encoded data removed]",
      "text/plain": [
       "<Figure size 432x288 with 1 Axes>"
      ]
     },
     "metadata": {},
     "output_type": "display_data"
    },
    {
     "name": "stdout",
     "output_type": "stream",
     "text": [
      "Hatalar Normal (Gaussian) Dağılımdan gelmemektedir (reject H0)\n"
     ]
    },
    {
     "name": "stderr",
     "output_type": "stream",
     "text": [
      "C:\\Users\\lenovo\\Anaconda3\\lib\\site-packages\\scipy\\stats\\morestats.py:1660: UserWarning: p-value may not be accurate for N > 5000.\n",
      "  warnings.warn(\"p-value may not be accurate for N > 5000.\")\n"
     ]
    }
   ],
   "source": [
    "# benim hatalarım normal dağılımdan geliyor mu gelmiyor mu ? \n",
    "import pylab\n",
    "stats.probplot(hwres.resid, dist=\"norm\", plot=pylab)\n",
    "pylab.show()\n",
    "from scipy.stats import shapiro\n",
    "\n",
    "stat, p =shapiro(hwres.resid)\n",
    "alpha = 0.05\n",
    "if p > alpha:\n",
    "    print('Hatalar Normal (Gaussian) Dağılımdan gelmektedir (Fail to Reject H0)')\n",
    "else:\n",
    "    print('Hatalar Normal (Gaussian) Dağılımdan gelmemektedir (reject H0)')\n",
    "    "
   ]
  },
  {
   "cell_type": "code",
   "execution_count": 447,
   "metadata": {},
   "outputs": [
    {
     "data": {
      "text/plain": [
       "<matplotlib.collections.PathCollection at 0x1e5fb127a88>"
      ]
     },
     "execution_count": 447,
     "metadata": {},
     "output_type": "execute_result"
    },
    {
     "data": {
      "image/png": "[encoded data removed]",
      "text/plain": [
       "<Figure size 432x288 with 1 Axes>"
      ]
     },
     "metadata": {},
     "output_type": "display_data"
    }
   ],
   "source": [
    "resid = model.resid\n",
    "plt.scatter(model.predict(), resid)"
   ]
  },
  {
   "cell_type": "code",
   "execution_count": 448,
   "metadata": {},
   "outputs": [
    {
     "data": {
      "text/html": [
       "<table class=\"simpletable\">\n",
       "<caption>OLS Regression Results</caption>\n",
       "<tr>\n",
       "  <th>Dep. Variable:</th>            <td>y</td>        <th>  R-squared:         </th> <td>   0.098</td> \n",
       "</tr>\n",
       "<tr>\n",
       "  <th>Model:</th>                   <td>OLS</td>       <th>  Adj. R-squared:    </th> <td>   0.088</td> \n",
       "</tr>\n",
       "<tr>\n",
       "  <th>Method:</th>             <td>Least Squares</td>  <th>  F-statistic:       </th> <td>   9.367</td> \n",
       "</tr>\n",
       "<tr>\n",
       "  <th>Date:</th>             <td>Thu, 23 Jul 2020</td> <th>  Prob (F-statistic):</th> <td>1.91e-91</td> \n",
       "</tr>\n",
       "<tr>\n",
       "  <th>Time:</th>                 <td>17:58:55</td>     <th>  Log-Likelihood:    </th> <td> -30673.</td> \n",
       "</tr>\n",
       "<tr>\n",
       "  <th>No. Observations:</th>      <td>  6167</td>      <th>  AIC:               </th> <td>6.149e+04</td>\n",
       "</tr>\n",
       "<tr>\n",
       "  <th>Df Residuals:</th>          <td>  6095</td>      <th>  BIC:               </th> <td>6.197e+04</td>\n",
       "</tr>\n",
       "<tr>\n",
       "  <th>Df Model:</th>              <td>    71</td>      <th>                     </th>     <td> </td>    \n",
       "</tr>\n",
       "<tr>\n",
       "  <th>Covariance Type:</th>      <td>nonrobust</td>    <th>                     </th>     <td> </td>    \n",
       "</tr>\n",
       "</table>\n",
       "<table class=\"simpletable\">\n",
       "<tr>\n",
       "      <td></td>         <th>coef</th>     <th>std err</th>      <th>t</th>      <th>P>|t|</th>  <th>[0.025</th>    <th>0.975]</th>  \n",
       "</tr>\n",
       "<tr>\n",
       "  <th>Intercept</th> <td>    0.4412</td> <td>   11.834</td> <td>    0.037</td> <td> 0.970</td> <td>  -22.758</td> <td>   23.641</td>\n",
       "</tr>\n",
       "<tr>\n",
       "  <th>X[0]</th>      <td>    0.8593</td> <td>    0.292</td> <td>    2.939</td> <td> 0.003</td> <td>    0.286</td> <td>    1.432</td>\n",
       "</tr>\n",
       "<tr>\n",
       "  <th>X[1]</th>      <td>-2.951e+08</td> <td> 1.27e+08</td> <td>   -2.328</td> <td> 0.020</td> <td>-5.44e+08</td> <td>-4.66e+07</td>\n",
       "</tr>\n",
       "<tr>\n",
       "  <th>X[2]</th>      <td> 2.951e+08</td> <td> 1.27e+08</td> <td>    2.328</td> <td> 0.020</td> <td> 4.66e+07</td> <td> 5.44e+08</td>\n",
       "</tr>\n",
       "<tr>\n",
       "  <th>X[3]</th>      <td> 2.951e+08</td> <td> 1.27e+08</td> <td>    2.328</td> <td> 0.020</td> <td> 4.66e+07</td> <td> 5.44e+08</td>\n",
       "</tr>\n",
       "<tr>\n",
       "  <th>X[4]</th>      <td>   -0.1172</td> <td>    0.264</td> <td>   -0.444</td> <td> 0.657</td> <td>   -0.634</td> <td>    0.400</td>\n",
       "</tr>\n",
       "<tr>\n",
       "  <th>X[5]</th>      <td>    0.0256</td> <td>    0.149</td> <td>    0.172</td> <td> 0.864</td> <td>   -0.267</td> <td>    0.318</td>\n",
       "</tr>\n",
       "<tr>\n",
       "  <th>X[6]</th>      <td>   -0.1635</td> <td>    0.229</td> <td>   -0.713</td> <td> 0.476</td> <td>   -0.613</td> <td>    0.286</td>\n",
       "</tr>\n",
       "<tr>\n",
       "  <th>X[7]</th>      <td>    0.8211</td> <td>    0.249</td> <td>    3.294</td> <td> 0.001</td> <td>    0.332</td> <td>    1.310</td>\n",
       "</tr>\n",
       "<tr>\n",
       "  <th>X[8]</th>      <td>    1.5630</td> <td>    0.240</td> <td>    6.521</td> <td> 0.000</td> <td>    1.093</td> <td>    2.033</td>\n",
       "</tr>\n",
       "<tr>\n",
       "  <th>X[9]</th>      <td>   -0.3582</td> <td>    0.201</td> <td>   -1.782</td> <td> 0.075</td> <td>   -0.752</td> <td>    0.036</td>\n",
       "</tr>\n",
       "<tr>\n",
       "  <th>X[10]</th>     <td>   -0.3556</td> <td>    0.203</td> <td>   -1.754</td> <td> 0.080</td> <td>   -0.753</td> <td>    0.042</td>\n",
       "</tr>\n",
       "<tr>\n",
       "  <th>X[11]</th>     <td>-7.259e+05</td> <td> 9.73e+05</td> <td>   -0.746</td> <td> 0.456</td> <td>-2.63e+06</td> <td> 1.18e+06</td>\n",
       "</tr>\n",
       "<tr>\n",
       "  <th>X[12]</th>     <td>-7.245e+05</td> <td> 9.73e+05</td> <td>   -0.744</td> <td> 0.457</td> <td>-2.63e+06</td> <td> 1.18e+06</td>\n",
       "</tr>\n",
       "<tr>\n",
       "  <th>X[13]</th>     <td> 1.448e+06</td> <td> 1.95e+06</td> <td>    0.744</td> <td> 0.457</td> <td>-2.37e+06</td> <td> 5.26e+06</td>\n",
       "</tr>\n",
       "<tr>\n",
       "  <th>X[14]</th>     <td>   -0.0206</td> <td>    0.014</td> <td>   -1.428</td> <td> 0.153</td> <td>   -0.049</td> <td>    0.008</td>\n",
       "</tr>\n",
       "<tr>\n",
       "  <th>X[15]</th>     <td>   -0.0074</td> <td>    0.015</td> <td>   -0.508</td> <td> 0.612</td> <td>   -0.036</td> <td>    0.021</td>\n",
       "</tr>\n",
       "<tr>\n",
       "  <th>X[16]</th>     <td>    0.0408</td> <td>    0.011</td> <td>    3.768</td> <td> 0.000</td> <td>    0.020</td> <td>    0.062</td>\n",
       "</tr>\n",
       "<tr>\n",
       "  <th>X[17]</th>     <td>    0.0017</td> <td>    0.048</td> <td>    0.035</td> <td> 0.972</td> <td>   -0.092</td> <td>    0.095</td>\n",
       "</tr>\n",
       "<tr>\n",
       "  <th>X[18]</th>     <td>   -1.8621</td> <td>    0.914</td> <td>   -2.038</td> <td> 0.042</td> <td>   -3.653</td> <td>   -0.071</td>\n",
       "</tr>\n",
       "<tr>\n",
       "  <th>X[19]</th>     <td>    0.1978</td> <td>    0.291</td> <td>    0.679</td> <td> 0.497</td> <td>   -0.373</td> <td>    0.769</td>\n",
       "</tr>\n",
       "<tr>\n",
       "  <th>X[20]</th>     <td>    0.2759</td> <td>    0.227</td> <td>    1.215</td> <td> 0.224</td> <td>   -0.169</td> <td>    0.721</td>\n",
       "</tr>\n",
       "<tr>\n",
       "  <th>X[21]</th>     <td>    0.0773</td> <td>    0.178</td> <td>    0.433</td> <td> 0.665</td> <td>   -0.273</td> <td>    0.427</td>\n",
       "</tr>\n",
       "<tr>\n",
       "  <th>X[22]</th>     <td>   -0.4057</td> <td>    0.280</td> <td>   -1.449</td> <td> 0.147</td> <td>   -0.955</td> <td>    0.143</td>\n",
       "</tr>\n",
       "<tr>\n",
       "  <th>X[23]</th>     <td>    0.0869</td> <td>    0.100</td> <td>    0.870</td> <td> 0.384</td> <td>   -0.109</td> <td>    0.283</td>\n",
       "</tr>\n",
       "<tr>\n",
       "  <th>X[24]</th>     <td>    1.2369</td> <td>    1.082</td> <td>    1.143</td> <td> 0.253</td> <td>   -0.884</td> <td>    3.357</td>\n",
       "</tr>\n",
       "<tr>\n",
       "  <th>X[25]</th>     <td>   -0.2989</td> <td>    0.083</td> <td>   -3.606</td> <td> 0.000</td> <td>   -0.461</td> <td>   -0.136</td>\n",
       "</tr>\n",
       "<tr>\n",
       "  <th>X[26]</th>     <td>    0.1897</td> <td>    0.076</td> <td>    2.505</td> <td> 0.012</td> <td>    0.041</td> <td>    0.338</td>\n",
       "</tr>\n",
       "<tr>\n",
       "  <th>X[27]</th>     <td>    6.9821</td> <td>    0.991</td> <td>    7.044</td> <td> 0.000</td> <td>    5.039</td> <td>    8.925</td>\n",
       "</tr>\n",
       "<tr>\n",
       "  <th>X[28]</th>     <td>    0.1236</td> <td>    0.065</td> <td>    1.902</td> <td> 0.057</td> <td>   -0.004</td> <td>    0.251</td>\n",
       "</tr>\n",
       "<tr>\n",
       "  <th>X[29]</th>     <td>  380.5431</td> <td> 1126.970</td> <td>    0.338</td> <td> 0.736</td> <td>-1828.717</td> <td> 2589.803</td>\n",
       "</tr>\n",
       "<tr>\n",
       "  <th>X[30]</th>     <td>   -0.6584</td> <td>    0.343</td> <td>   -1.920</td> <td> 0.055</td> <td>   -1.331</td> <td>    0.014</td>\n",
       "</tr>\n",
       "<tr>\n",
       "  <th>X[31]</th>     <td>    0.0359</td> <td>    0.127</td> <td>    0.282</td> <td> 0.778</td> <td>   -0.214</td> <td>    0.285</td>\n",
       "</tr>\n",
       "<tr>\n",
       "  <th>X[32]</th>     <td>    0.1266</td> <td>    0.162</td> <td>    0.779</td> <td> 0.436</td> <td>   -0.192</td> <td>    0.445</td>\n",
       "</tr>\n",
       "<tr>\n",
       "  <th>X[33]</th>     <td>   -0.4524</td> <td>    0.171</td> <td>   -2.649</td> <td> 0.008</td> <td>   -0.787</td> <td>   -0.118</td>\n",
       "</tr>\n",
       "<tr>\n",
       "  <th>X[34]</th>     <td>    0.2267</td> <td>    0.092</td> <td>    2.472</td> <td> 0.013</td> <td>    0.047</td> <td>    0.406</td>\n",
       "</tr>\n",
       "<tr>\n",
       "  <th>X[35]</th>     <td>   -0.0022</td> <td>    0.037</td> <td>   -0.059</td> <td> 0.953</td> <td>   -0.076</td> <td>    0.071</td>\n",
       "</tr>\n",
       "<tr>\n",
       "  <th>X[36]</th>     <td>    0.0478</td> <td>    0.031</td> <td>    1.551</td> <td> 0.121</td> <td>   -0.013</td> <td>    0.108</td>\n",
       "</tr>\n",
       "<tr>\n",
       "  <th>X[37]</th>     <td>    0.2943</td> <td>    0.221</td> <td>    1.330</td> <td> 0.184</td> <td>   -0.140</td> <td>    0.728</td>\n",
       "</tr>\n",
       "<tr>\n",
       "  <th>X[38]</th>     <td>   -0.1854</td> <td>    0.275</td> <td>   -0.675</td> <td> 0.500</td> <td>   -0.724</td> <td>    0.353</td>\n",
       "</tr>\n",
       "<tr>\n",
       "  <th>X[39]</th>     <td> 9.793e-05</td> <td>    0.048</td> <td>    0.002</td> <td> 0.998</td> <td>   -0.094</td> <td>    0.095</td>\n",
       "</tr>\n",
       "<tr>\n",
       "  <th>X[40]</th>     <td>    0.0166</td> <td>    0.039</td> <td>    0.424</td> <td> 0.671</td> <td>   -0.060</td> <td>    0.093</td>\n",
       "</tr>\n",
       "<tr>\n",
       "  <th>X[41]</th>     <td>    1.0351</td> <td>    0.542</td> <td>    1.908</td> <td> 0.056</td> <td>   -0.028</td> <td>    2.099</td>\n",
       "</tr>\n",
       "<tr>\n",
       "  <th>X[42]</th>     <td> -105.1838</td> <td>   51.302</td> <td>   -2.050</td> <td> 0.040</td> <td> -205.755</td> <td>   -4.613</td>\n",
       "</tr>\n",
       "<tr>\n",
       "  <th>X[43]</th>     <td>   -8.8349</td> <td>    3.500</td> <td>   -2.524</td> <td> 0.012</td> <td>  -15.697</td> <td>   -1.973</td>\n",
       "</tr>\n",
       "<tr>\n",
       "  <th>X[44]</th>     <td>    0.0236</td> <td>    0.017</td> <td>    1.356</td> <td> 0.175</td> <td>   -0.011</td> <td>    0.058</td>\n",
       "</tr>\n",
       "<tr>\n",
       "  <th>X[45]</th>     <td> 1.947e+04</td> <td> 4298.981</td> <td>    4.529</td> <td> 0.000</td> <td>  1.1e+04</td> <td> 2.79e+04</td>\n",
       "</tr>\n",
       "<tr>\n",
       "  <th>X[46]</th>     <td>    0.0124</td> <td>    0.023</td> <td>    0.545</td> <td> 0.586</td> <td>   -0.032</td> <td>    0.057</td>\n",
       "</tr>\n",
       "<tr>\n",
       "  <th>X[47]</th>     <td> 8014.5600</td> <td> 8452.892</td> <td>    0.948</td> <td> 0.343</td> <td>-8556.095</td> <td> 2.46e+04</td>\n",
       "</tr>\n",
       "<tr>\n",
       "  <th>X[48]</th>     <td>   -0.3621</td> <td>    1.244</td> <td>   -0.291</td> <td> 0.771</td> <td>   -2.801</td> <td>    2.077</td>\n",
       "</tr>\n",
       "<tr>\n",
       "  <th>X[49]</th>     <td>   -0.0412</td> <td>    0.029</td> <td>   -1.408</td> <td> 0.159</td> <td>   -0.099</td> <td>    0.016</td>\n",
       "</tr>\n",
       "<tr>\n",
       "  <th>X[50]</th>     <td>   -1.2092</td> <td>    0.783</td> <td>   -1.544</td> <td> 0.123</td> <td>   -2.744</td> <td>    0.326</td>\n",
       "</tr>\n",
       "<tr>\n",
       "  <th>X[51]</th>     <td>    0.0707</td> <td>    0.019</td> <td>    3.714</td> <td> 0.000</td> <td>    0.033</td> <td>    0.108</td>\n",
       "</tr>\n",
       "<tr>\n",
       "  <th>X[52]</th>     <td>   -0.0347</td> <td>    0.016</td> <td>   -2.166</td> <td> 0.030</td> <td>   -0.066</td> <td>   -0.003</td>\n",
       "</tr>\n",
       "<tr>\n",
       "  <th>X[53]</th>     <td>-2.296e+04</td> <td> 5171.298</td> <td>   -4.441</td> <td> 0.000</td> <td>-3.31e+04</td> <td>-1.28e+04</td>\n",
       "</tr>\n",
       "<tr>\n",
       "  <th>X[54]</th>     <td>   -0.0390</td> <td>    0.018</td> <td>   -2.154</td> <td> 0.031</td> <td>   -0.075</td> <td>   -0.004</td>\n",
       "</tr>\n",
       "<tr>\n",
       "  <th>X[55]</th>     <td>   -1.6073</td> <td>    1.836</td> <td>   -0.876</td> <td> 0.381</td> <td>   -5.206</td> <td>    1.991</td>\n",
       "</tr>\n",
       "<tr>\n",
       "  <th>X[56]</th>     <td>    0.1411</td> <td>    0.025</td> <td>    5.710</td> <td> 0.000</td> <td>    0.093</td> <td>    0.190</td>\n",
       "</tr>\n",
       "<tr>\n",
       "  <th>X[57]</th>     <td> 2.983e+04</td> <td> 1.35e+04</td> <td>    2.209</td> <td> 0.027</td> <td> 3353.074</td> <td> 5.63e+04</td>\n",
       "</tr>\n",
       "<tr>\n",
       "  <th>X[58]</th>     <td>    7.7198</td> <td>    2.911</td> <td>    2.652</td> <td> 0.008</td> <td>    2.014</td> <td>   13.426</td>\n",
       "</tr>\n",
       "<tr>\n",
       "  <th>X[59]</th>     <td>   -6.4588</td> <td>    6.250</td> <td>   -1.033</td> <td> 0.301</td> <td>  -18.710</td> <td>    5.793</td>\n",
       "</tr>\n",
       "<tr>\n",
       "  <th>X[60]</th>     <td> 8660.7236</td> <td> 1.71e+04</td> <td>    0.507</td> <td> 0.612</td> <td>-2.48e+04</td> <td> 4.21e+04</td>\n",
       "</tr>\n",
       "<tr>\n",
       "  <th>X[61]</th>     <td>   30.4782</td> <td>   15.925</td> <td>    1.914</td> <td> 0.056</td> <td>   -0.741</td> <td>   61.698</td>\n",
       "</tr>\n",
       "<tr>\n",
       "  <th>X[62]</th>     <td>-8.645e+04</td> <td> 3.23e+04</td> <td>   -2.678</td> <td> 0.007</td> <td> -1.5e+05</td> <td>-2.32e+04</td>\n",
       "</tr>\n",
       "<tr>\n",
       "  <th>X[63]</th>     <td>   -0.2666</td> <td>    0.228</td> <td>   -1.167</td> <td> 0.243</td> <td>   -0.714</td> <td>    0.181</td>\n",
       "</tr>\n",
       "<tr>\n",
       "  <th>X[64]</th>     <td>   -0.2355</td> <td>    0.145</td> <td>   -1.621</td> <td> 0.105</td> <td>   -0.520</td> <td>    0.049</td>\n",
       "</tr>\n",
       "<tr>\n",
       "  <th>X[65]</th>     <td> -447.6023</td> <td>  816.982</td> <td>   -0.548</td> <td> 0.584</td> <td>-2049.176</td> <td> 1153.971</td>\n",
       "</tr>\n",
       "<tr>\n",
       "  <th>X[66]</th>     <td>  101.4830</td> <td>   93.684</td> <td>    1.083</td> <td> 0.279</td> <td>  -82.172</td> <td>  285.138</td>\n",
       "</tr>\n",
       "<tr>\n",
       "  <th>X[67]</th>     <td>  929.4382</td> <td>  114.987</td> <td>    8.083</td> <td> 0.000</td> <td>  704.022</td> <td> 1154.854</td>\n",
       "</tr>\n",
       "<tr>\n",
       "  <th>X[68]</th>     <td>    0.1435</td> <td>    0.033</td> <td>    4.287</td> <td> 0.000</td> <td>    0.078</td> <td>    0.209</td>\n",
       "</tr>\n",
       "<tr>\n",
       "  <th>X[69]</th>     <td>    0.6280</td> <td>    4.924</td> <td>    0.128</td> <td> 0.899</td> <td>   -9.024</td> <td>   10.280</td>\n",
       "</tr>\n",
       "<tr>\n",
       "  <th>X[70]</th>     <td>  -40.1835</td> <td>    8.851</td> <td>   -4.540</td> <td> 0.000</td> <td>  -57.535</td> <td>  -22.832</td>\n",
       "</tr>\n",
       "</table>\n",
       "<table class=\"simpletable\">\n",
       "<tr>\n",
       "  <th>Omnibus:</th>       <td>31141.434</td> <th>  Durbin-Watson:     </th> <td>   0.334</td> \n",
       "</tr>\n",
       "<tr>\n",
       "  <th>Prob(Omnibus):</th>  <td> 0.000</td>   <th>  Jarque-Bera (JB):  </th> <td> 681.062</td> \n",
       "</tr>\n",
       "<tr>\n",
       "  <th>Skew:</th>           <td> 0.163</td>   <th>  Prob(JB):          </th> <td>1.29e-148</td>\n",
       "</tr>\n",
       "<tr>\n",
       "  <th>Kurtosis:</th>       <td> 1.405</td>   <th>  Cond. No.          </th> <td>1.11e+11</td> \n",
       "</tr>\n",
       "</table><br/><br/>Warnings:<br/>[1] Standard Errors assume that the covariance matrix of the errors is correctly specified.<br/>[2] The smallest eigenvalue is 2.57e-14. This might indicate that there are<br/>strong multicollinearity problems or that the design matrix is singular."
      ],
      "text/plain": [
       "<class 'statsmodels.iolib.summary.Summary'>\n",
       "\"\"\"\n",
       "                            OLS Regression Results                            \n",
       "==============================================================================\n",
       "Dep. Variable:                      y   R-squared:                       0.098\n",
       "Model:                            OLS   Adj. R-squared:                  0.088\n",
       "Method:                 Least Squares   F-statistic:                     9.367\n",
       "Date:                Thu, 23 Jul 2020   Prob (F-statistic):           1.91e-91\n",
       "Time:                        17:58:55   Log-Likelihood:                -30673.\n",
       "No. Observations:                6167   AIC:                         6.149e+04\n",
       "Df Residuals:                    6095   BIC:                         6.197e+04\n",
       "Df Model:                          71                                         \n",
       "Covariance Type:            nonrobust                                         \n",
       "==============================================================================\n",
       "                 coef    std err          t      P>|t|      [0.025      0.975]\n",
       "------------------------------------------------------------------------------\n",
       "Intercept      0.4412     11.834      0.037      0.970     -22.758      23.641\n",
       "X[0]           0.8593      0.292      2.939      0.003       0.286       1.432\n",
       "X[1]       -2.951e+08   1.27e+08     -2.328      0.020   -5.44e+08   -4.66e+07\n",
       "X[2]        2.951e+08   1.27e+08      2.328      0.020    4.66e+07    5.44e+08\n",
       "X[3]        2.951e+08   1.27e+08      2.328      0.020    4.66e+07    5.44e+08\n",
       "X[4]          -0.1172      0.264     -0.444      0.657      -0.634       0.400\n",
       "X[5]           0.0256      0.149      0.172      0.864      -0.267       0.318\n",
       "X[6]          -0.1635      0.229     -0.713      0.476      -0.613       0.286\n",
       "X[7]           0.8211      0.249      3.294      0.001       0.332       1.310\n",
       "X[8]           1.5630      0.240      6.521      0.000       1.093       2.033\n",
       "X[9]          -0.3582      0.201     -1.782      0.075      -0.752       0.036\n",
       "X[10]         -0.3556      0.203     -1.754      0.080      -0.753       0.042\n",
       "X[11]      -7.259e+05   9.73e+05     -0.746      0.456   -2.63e+06    1.18e+06\n",
       "X[12]      -7.245e+05   9.73e+05     -0.744      0.457   -2.63e+06    1.18e+06\n",
       "X[13]       1.448e+06   1.95e+06      0.744      0.457   -2.37e+06    5.26e+06\n",
       "X[14]         -0.0206      0.014     -1.428      0.153      -0.049       0.008\n",
       "X[15]         -0.0074      0.015     -0.508      0.612      -0.036       0.021\n",
       "X[16]          0.0408      0.011      3.768      0.000       0.020       0.062\n",
       "X[17]          0.0017      0.048      0.035      0.972      -0.092       0.095\n",
       "X[18]         -1.8621      0.914     -2.038      0.042      -3.653      -0.071\n",
       "X[19]          0.1978      0.291      0.679      0.497      -0.373       0.769\n",
       "X[20]          0.2759      0.227      1.215      0.224      -0.169       0.721\n",
       "X[21]          0.0773      0.178      0.433      0.665      -0.273       0.427\n",
       "X[22]         -0.4057      0.280     -1.449      0.147      -0.955       0.143\n",
       "X[23]          0.0869      0.100      0.870      0.384      -0.109       0.283\n",
       "X[24]          1.2369      1.082      1.143      0.253      -0.884       3.357\n",
       "X[25]         -0.2989      0.083     -3.606      0.000      -0.461      -0.136\n",
       "X[26]          0.1897      0.076      2.505      0.012       0.041       0.338\n",
       "X[27]          6.9821      0.991      7.044      0.000       5.039       8.925\n",
       "X[28]          0.1236      0.065      1.902      0.057      -0.004       0.251\n",
       "X[29]        380.5431   1126.970      0.338      0.736   -1828.717    2589.803\n",
       "X[30]         -0.6584      0.343     -1.920      0.055      -1.331       0.014\n",
       "X[31]          0.0359      0.127      0.282      0.778      -0.214       0.285\n",
       "X[32]          0.1266      0.162      0.779      0.436      -0.192       0.445\n",
       "X[33]         -0.4524      0.171     -2.649      0.008      -0.787      -0.118\n",
       "X[34]          0.2267      0.092      2.472      0.013       0.047       0.406\n",
       "X[35]         -0.0022      0.037     -0.059      0.953      -0.076       0.071\n",
       "X[36]          0.0478      0.031      1.551      0.121      -0.013       0.108\n",
       "X[37]          0.2943      0.221      1.330      0.184      -0.140       0.728\n",
       "X[38]         -0.1854      0.275     -0.675      0.500      -0.724       0.353\n",
       "X[39]       9.793e-05      0.048      0.002      0.998      -0.094       0.095\n",
       "X[40]          0.0166      0.039      0.424      0.671      -0.060       0.093\n",
       "X[41]          1.0351      0.542      1.908      0.056      -0.028       2.099\n",
       "X[42]       -105.1838     51.302     -2.050      0.040    -205.755      -4.613\n",
       "X[43]         -8.8349      3.500     -2.524      0.012     -15.697      -1.973\n",
       "X[44]          0.0236      0.017      1.356      0.175      -0.011       0.058\n",
       "X[45]       1.947e+04   4298.981      4.529      0.000     1.1e+04    2.79e+04\n",
       "X[46]          0.0124      0.023      0.545      0.586      -0.032       0.057\n",
       "X[47]       8014.5600   8452.892      0.948      0.343   -8556.095    2.46e+04\n",
       "X[48]         -0.3621      1.244     -0.291      0.771      -2.801       2.077\n",
       "X[49]         -0.0412      0.029     -1.408      0.159      -0.099       0.016\n",
       "X[50]         -1.2092      0.783     -1.544      0.123      -2.744       0.326\n",
       "X[51]          0.0707      0.019      3.714      0.000       0.033       0.108\n",
       "X[52]         -0.0347      0.016     -2.166      0.030      -0.066      -0.003\n",
       "X[53]      -2.296e+04   5171.298     -4.441      0.000   -3.31e+04   -1.28e+04\n",
       "X[54]         -0.0390      0.018     -2.154      0.031      -0.075      -0.004\n",
       "X[55]         -1.6073      1.836     -0.876      0.381      -5.206       1.991\n",
       "X[56]          0.1411      0.025      5.710      0.000       0.093       0.190\n",
       "X[57]       2.983e+04   1.35e+04      2.209      0.027    3353.074    5.63e+04\n",
       "X[58]          7.7198      2.911      2.652      0.008       2.014      13.426\n",
       "X[59]         -6.4588      6.250     -1.033      0.301     -18.710       5.793\n",
       "X[60]       8660.7236   1.71e+04      0.507      0.612   -2.48e+04    4.21e+04\n",
       "X[61]         30.4782     15.925      1.914      0.056      -0.741      61.698\n",
       "X[62]      -8.645e+04   3.23e+04     -2.678      0.007    -1.5e+05   -2.32e+04\n",
       "X[63]         -0.2666      0.228     -1.167      0.243      -0.714       0.181\n",
       "X[64]         -0.2355      0.145     -1.621      0.105      -0.520       0.049\n",
       "X[65]       -447.6023    816.982     -0.548      0.584   -2049.176    1153.971\n",
       "X[66]        101.4830     93.684      1.083      0.279     -82.172     285.138\n",
       "X[67]        929.4382    114.987      8.083      0.000     704.022    1154.854\n",
       "X[68]          0.1435      0.033      4.287      0.000       0.078       0.209\n",
       "X[69]          0.6280      4.924      0.128      0.899      -9.024      10.280\n",
       "X[70]        -40.1835      8.851     -4.540      0.000     -57.535     -22.832\n",
       "==============================================================================\n",
       "Omnibus:                    31141.434   Durbin-Watson:                   0.334\n",
       "Prob(Omnibus):                  0.000   Jarque-Bera (JB):              681.062\n",
       "Skew:                           0.163   Prob(JB):                    1.29e-148\n",
       "Kurtosis:                       1.405   Cond. No.                     1.11e+11\n",
       "==============================================================================\n",
       "\n",
       "Warnings:\n",
       "[1] Standard Errors assume that the covariance matrix of the errors is correctly specified.\n",
       "[2] The smallest eigenvalue is 2.57e-14. This might indicate that there are\n",
       "strong multicollinearity problems or that the design matrix is singular.\n",
       "\"\"\""
      ]
     },
     "execution_count": 448,
     "metadata": {},
     "output_type": "execute_result"
    }
   ],
   "source": [
    "# içerideki x lerin arasındaki korelasyonu test etmek için vıf var\n",
    "from patsy import dmatrices\n",
    "from statsmodels.stats.outliers_influence import variance_inflation_factor\n",
    "lm = smf.ols(\"y ~ X\" , df).fit()\n",
    "lm.summary()"
   ]
  },
  {
   "cell_type": "code",
   "execution_count": 459,
   "metadata": {},
   "outputs": [],
   "source": [
    "#vif = [variance_inflation_factor(X.values, i) for i in range(X.shape[1])]\n",
    "#vif\n",
    "# bu rakamların 10 altında olmasını istiyoruz\n",
    "# intercept - tv -newspaper gösteriyor\n",
    "# burada 10 altında olduğu için sıkıntı yok\n",
    "# biri 0 larsa diğeri 5 lerde geziyorsa oda sıkıntı\n",
    "# bide aynılarını scikitlearn ile yapalım\n",
    "from statsmodels.stats.outliers_influence import variance_inflation_factor\n",
    "def calc_vif(X):\n",
    "\n",
    "    # Calculating VIF\n",
    "    vif = pd.DataFrame()\n",
    "    vif[\"variables\"] = X.columns\n",
    "    vif[\"VIF\"] = [variance_inflation_factor(X.values, i) for i in range(X.shape[1])]\n",
    "\n",
    "    return(vif)"
   ]
  },
  {
   "cell_type": "code",
   "execution_count": 461,
   "metadata": {},
   "outputs": [
    {
     "name": "stderr",
     "output_type": "stream",
     "text": [
      "C:\\Users\\lenovo\\Anaconda3\\lib\\site-packages\\statsmodels\\stats\\outliers_influence.py:185: RuntimeWarning: divide by zero encountered in double_scalars\n",
      "  vif = 1. / (1. - r_squared_i)\n"
     ]
    },
    {
     "data": {
      "text/html": [
       "<div>\n",
       "<style scoped>\n",
       "    .dataframe tbody tr th:only-of-type {\n",
       "        vertical-align: middle;\n",
       "    }\n",
       "\n",
       "    .dataframe tbody tr th {\n",
       "        vertical-align: top;\n",
       "    }\n",
       "\n",
       "    .dataframe thead th {\n",
       "        text-align: right;\n",
       "    }\n",
       "</style>\n",
       "<table border=\"1\" class=\"dataframe\">\n",
       "  <thead>\n",
       "    <tr style=\"text-align: right;\">\n",
       "      <th></th>\n",
       "      <th>variables</th>\n",
       "      <th>VIF</th>\n",
       "    </tr>\n",
       "  </thead>\n",
       "  <tbody>\n",
       "    <tr>\n",
       "      <td>0</td>\n",
       "      <td>ind_5</td>\n",
       "      <td>228.935921</td>\n",
       "    </tr>\n",
       "    <tr>\n",
       "      <td>1</td>\n",
       "      <td>ind_8</td>\n",
       "      <td>inf</td>\n",
       "    </tr>\n",
       "    <tr>\n",
       "      <td>2</td>\n",
       "      <td>ind_9</td>\n",
       "      <td>inf</td>\n",
       "    </tr>\n",
       "    <tr>\n",
       "      <td>3</td>\n",
       "      <td>ind_10</td>\n",
       "      <td>inf</td>\n",
       "    </tr>\n",
       "    <tr>\n",
       "      <td>4</td>\n",
       "      <td>ind_12</td>\n",
       "      <td>554.396576</td>\n",
       "    </tr>\n",
       "    <tr>\n",
       "      <td>...</td>\n",
       "      <td>...</td>\n",
       "      <td>...</td>\n",
       "    </tr>\n",
       "    <tr>\n",
       "      <td>66</td>\n",
       "      <td>ind_403</td>\n",
       "      <td>10.626916</td>\n",
       "    </tr>\n",
       "    <tr>\n",
       "      <td>67</td>\n",
       "      <td>ind_412</td>\n",
       "      <td>2.093406</td>\n",
       "    </tr>\n",
       "    <tr>\n",
       "      <td>68</td>\n",
       "      <td>ind_416</td>\n",
       "      <td>1.841527</td>\n",
       "    </tr>\n",
       "    <tr>\n",
       "      <td>69</td>\n",
       "      <td>ind_426</td>\n",
       "      <td>36.104245</td>\n",
       "    </tr>\n",
       "    <tr>\n",
       "      <td>70</td>\n",
       "      <td>ind_428</td>\n",
       "      <td>102.553176</td>\n",
       "    </tr>\n",
       "  </tbody>\n",
       "</table>\n",
       "<p>71 rows × 2 columns</p>\n",
       "</div>"
      ],
      "text/plain": [
       "   variables         VIF\n",
       "0      ind_5  228.935921\n",
       "1      ind_8         inf\n",
       "2      ind_9         inf\n",
       "3     ind_10         inf\n",
       "4     ind_12  554.396576\n",
       "..       ...         ...\n",
       "66   ind_403   10.626916\n",
       "67   ind_412    2.093406\n",
       "68   ind_416    1.841527\n",
       "69   ind_426   36.104245\n",
       "70   ind_428  102.553176\n",
       "\n",
       "[71 rows x 2 columns]"
      ]
     },
     "execution_count": 461,
     "metadata": {},
     "output_type": "execute_result"
    }
   ],
   "source": [
    "vif = calc_vif(X)\n",
    "vif"
   ]
  },
  {
   "cell_type": "code",
   "execution_count": 462,
   "metadata": {},
   "outputs": [],
   "source": [
    "vif = vif[vif[\"VIF\"] > 10]\n",
    "for i in vif[\"variables\"]:\n",
    "    X = X.drop([i], axis = 1)"
   ]
  },
  {
   "cell_type": "code",
   "execution_count": 467,
   "metadata": {},
   "outputs": [
    {
     "data": {
      "text/html": [
       "<div>\n",
       "<style scoped>\n",
       "    .dataframe tbody tr th:only-of-type {\n",
       "        vertical-align: middle;\n",
       "    }\n",
       "\n",
       "    .dataframe tbody tr th {\n",
       "        vertical-align: top;\n",
       "    }\n",
       "\n",
       "    .dataframe thead th {\n",
       "        text-align: right;\n",
       "    }\n",
       "</style>\n",
       "<table border=\"1\" class=\"dataframe\">\n",
       "  <thead>\n",
       "    <tr style=\"text-align: right;\">\n",
       "      <th></th>\n",
       "      <th>ind_29</th>\n",
       "      <th>ind_36</th>\n",
       "      <th>ind_56</th>\n",
       "      <th>ind_62</th>\n",
       "      <th>ind_71</th>\n",
       "      <th>ind_82</th>\n",
       "      <th>ind_83</th>\n",
       "      <th>ind_88</th>\n",
       "      <th>ind_134</th>\n",
       "      <th>ind_168</th>\n",
       "      <th>...</th>\n",
       "      <th>ind_334</th>\n",
       "      <th>ind_338</th>\n",
       "      <th>ind_340</th>\n",
       "      <th>ind_344</th>\n",
       "      <th>ind_345</th>\n",
       "      <th>ind_349</th>\n",
       "      <th>ind_352</th>\n",
       "      <th>ind_397</th>\n",
       "      <th>ind_412</th>\n",
       "      <th>ind_416</th>\n",
       "    </tr>\n",
       "  </thead>\n",
       "  <tbody>\n",
       "    <tr>\n",
       "      <td>0</td>\n",
       "      <td>93.692449</td>\n",
       "      <td>196.592517</td>\n",
       "      <td>19</td>\n",
       "      <td>10</td>\n",
       "      <td>8</td>\n",
       "      <td>-2</td>\n",
       "      <td>8</td>\n",
       "      <td>0.000517</td>\n",
       "      <td>6</td>\n",
       "      <td>-12.212712</td>\n",
       "      <td>...</td>\n",
       "      <td>-0.000091</td>\n",
       "      <td>1.197238</td>\n",
       "      <td>-0.319064</td>\n",
       "      <td>0.00000</td>\n",
       "      <td>0.000000</td>\n",
       "      <td>0.0</td>\n",
       "      <td>0.0</td>\n",
       "      <td>-26.386973</td>\n",
       "      <td>0.002371</td>\n",
       "      <td>-49.6</td>\n",
       "    </tr>\n",
       "    <tr>\n",
       "      <td>1</td>\n",
       "      <td>76.694104</td>\n",
       "      <td>201.738617</td>\n",
       "      <td>20</td>\n",
       "      <td>10</td>\n",
       "      <td>8</td>\n",
       "      <td>-2</td>\n",
       "      <td>8</td>\n",
       "      <td>0.000401</td>\n",
       "      <td>5</td>\n",
       "      <td>-2.463107</td>\n",
       "      <td>...</td>\n",
       "      <td>-0.000091</td>\n",
       "      <td>1.197328</td>\n",
       "      <td>-0.318905</td>\n",
       "      <td>0.00000</td>\n",
       "      <td>0.000000</td>\n",
       "      <td>0.0</td>\n",
       "      <td>0.0</td>\n",
       "      <td>-26.085949</td>\n",
       "      <td>0.003074</td>\n",
       "      <td>-55.6</td>\n",
       "    </tr>\n",
       "    <tr>\n",
       "      <td>2</td>\n",
       "      <td>83.909974</td>\n",
       "      <td>205.238017</td>\n",
       "      <td>19</td>\n",
       "      <td>11</td>\n",
       "      <td>8</td>\n",
       "      <td>-2</td>\n",
       "      <td>8</td>\n",
       "      <td>0.000392</td>\n",
       "      <td>5</td>\n",
       "      <td>7.346277</td>\n",
       "      <td>...</td>\n",
       "      <td>-0.000091</td>\n",
       "      <td>1.197419</td>\n",
       "      <td>-0.318831</td>\n",
       "      <td>0.00000</td>\n",
       "      <td>0.000000</td>\n",
       "      <td>0.0</td>\n",
       "      <td>0.0</td>\n",
       "      <td>-23.250410</td>\n",
       "      <td>0.003561</td>\n",
       "      <td>-58.4</td>\n",
       "    </tr>\n",
       "    <tr>\n",
       "      <td>3</td>\n",
       "      <td>98.596644</td>\n",
       "      <td>203.641362</td>\n",
       "      <td>17</td>\n",
       "      <td>11</td>\n",
       "      <td>8</td>\n",
       "      <td>-2</td>\n",
       "      <td>8</td>\n",
       "      <td>0.000275</td>\n",
       "      <td>3</td>\n",
       "      <td>12.828428</td>\n",
       "      <td>...</td>\n",
       "      <td>-0.000091</td>\n",
       "      <td>1.197509</td>\n",
       "      <td>-0.318696</td>\n",
       "      <td>0.00000</td>\n",
       "      <td>0.000000</td>\n",
       "      <td>0.0</td>\n",
       "      <td>0.0</td>\n",
       "      <td>-19.499975</td>\n",
       "      <td>0.004366</td>\n",
       "      <td>-61.8</td>\n",
       "    </tr>\n",
       "    <tr>\n",
       "      <td>4</td>\n",
       "      <td>149.283572</td>\n",
       "      <td>227.848369</td>\n",
       "      <td>20</td>\n",
       "      <td>12</td>\n",
       "      <td>9</td>\n",
       "      <td>-2</td>\n",
       "      <td>8</td>\n",
       "      <td>0.001644</td>\n",
       "      <td>20</td>\n",
       "      <td>11.185335</td>\n",
       "      <td>...</td>\n",
       "      <td>-0.000091</td>\n",
       "      <td>1.197600</td>\n",
       "      <td>-0.318155</td>\n",
       "      <td>0.00000</td>\n",
       "      <td>0.000000</td>\n",
       "      <td>0.0</td>\n",
       "      <td>0.0</td>\n",
       "      <td>-25.348270</td>\n",
       "      <td>0.004198</td>\n",
       "      <td>-79.8</td>\n",
       "    </tr>\n",
       "    <tr>\n",
       "      <td>...</td>\n",
       "      <td>...</td>\n",
       "      <td>...</td>\n",
       "      <td>...</td>\n",
       "      <td>...</td>\n",
       "      <td>...</td>\n",
       "      <td>...</td>\n",
       "      <td>...</td>\n",
       "      <td>...</td>\n",
       "      <td>...</td>\n",
       "      <td>...</td>\n",
       "      <td>...</td>\n",
       "      <td>...</td>\n",
       "      <td>...</td>\n",
       "      <td>...</td>\n",
       "      <td>...</td>\n",
       "      <td>...</td>\n",
       "      <td>...</td>\n",
       "      <td>...</td>\n",
       "      <td>...</td>\n",
       "      <td>...</td>\n",
       "      <td>...</td>\n",
       "    </tr>\n",
       "    <tr>\n",
       "      <td>6162</td>\n",
       "      <td>-166.666667</td>\n",
       "      <td>135.005556</td>\n",
       "      <td>-3</td>\n",
       "      <td>14</td>\n",
       "      <td>15</td>\n",
       "      <td>-1</td>\n",
       "      <td>13</td>\n",
       "      <td>0.000000</td>\n",
       "      <td>-5</td>\n",
       "      <td>12.512295</td>\n",
       "      <td>...</td>\n",
       "      <td>-0.000110</td>\n",
       "      <td>1.160220</td>\n",
       "      <td>-0.525396</td>\n",
       "      <td>-0.00050</td>\n",
       "      <td>-0.042854</td>\n",
       "      <td>0.0</td>\n",
       "      <td>0.0</td>\n",
       "      <td>3.500000</td>\n",
       "      <td>0.004633</td>\n",
       "      <td>-28.2</td>\n",
       "    </tr>\n",
       "    <tr>\n",
       "      <td>6163</td>\n",
       "      <td>-116.371568</td>\n",
       "      <td>124.513539</td>\n",
       "      <td>-9</td>\n",
       "      <td>14</td>\n",
       "      <td>15</td>\n",
       "      <td>-1</td>\n",
       "      <td>13</td>\n",
       "      <td>0.000000</td>\n",
       "      <td>-8</td>\n",
       "      <td>0.206847</td>\n",
       "      <td>...</td>\n",
       "      <td>-0.000110</td>\n",
       "      <td>1.160330</td>\n",
       "      <td>-0.525378</td>\n",
       "      <td>-0.00050</td>\n",
       "      <td>-0.042853</td>\n",
       "      <td>0.0</td>\n",
       "      <td>0.0</td>\n",
       "      <td>-2.250000</td>\n",
       "      <td>0.008511</td>\n",
       "      <td>-28.6</td>\n",
       "    </tr>\n",
       "    <tr>\n",
       "      <td>6164</td>\n",
       "      <td>29.477508</td>\n",
       "      <td>132.029648</td>\n",
       "      <td>-9</td>\n",
       "      <td>13</td>\n",
       "      <td>15</td>\n",
       "      <td>-1</td>\n",
       "      <td>13</td>\n",
       "      <td>0.000000</td>\n",
       "      <td>10</td>\n",
       "      <td>-12.960959</td>\n",
       "      <td>...</td>\n",
       "      <td>-0.000110</td>\n",
       "      <td>1.160440</td>\n",
       "      <td>-0.524991</td>\n",
       "      <td>-0.00050</td>\n",
       "      <td>-0.042821</td>\n",
       "      <td>0.0</td>\n",
       "      <td>0.0</td>\n",
       "      <td>-4.500000</td>\n",
       "      <td>0.008848</td>\n",
       "      <td>-37.2</td>\n",
       "    </tr>\n",
       "    <tr>\n",
       "      <td>6165</td>\n",
       "      <td>148.600076</td>\n",
       "      <td>144.880140</td>\n",
       "      <td>5</td>\n",
       "      <td>13</td>\n",
       "      <td>15</td>\n",
       "      <td>-1</td>\n",
       "      <td>13</td>\n",
       "      <td>0.000636</td>\n",
       "      <td>11</td>\n",
       "      <td>-22.879217</td>\n",
       "      <td>...</td>\n",
       "      <td>-0.000110</td>\n",
       "      <td>1.160550</td>\n",
       "      <td>-0.524465</td>\n",
       "      <td>-0.00032</td>\n",
       "      <td>-0.328539</td>\n",
       "      <td>0.0</td>\n",
       "      <td>0.0</td>\n",
       "      <td>-5.850000</td>\n",
       "      <td>0.008940</td>\n",
       "      <td>-48.9</td>\n",
       "    </tr>\n",
       "    <tr>\n",
       "      <td>6166</td>\n",
       "      <td>82.361327</td>\n",
       "      <td>139.646458</td>\n",
       "      <td>12</td>\n",
       "      <td>13</td>\n",
       "      <td>14</td>\n",
       "      <td>-1</td>\n",
       "      <td>13</td>\n",
       "      <td>-0.000432</td>\n",
       "      <td>-1</td>\n",
       "      <td>-19.718654</td>\n",
       "      <td>...</td>\n",
       "      <td>-0.000110</td>\n",
       "      <td>1.160660</td>\n",
       "      <td>-0.524685</td>\n",
       "      <td>-0.00032</td>\n",
       "      <td>-0.328677</td>\n",
       "      <td>0.0</td>\n",
       "      <td>0.0</td>\n",
       "      <td>1.200000</td>\n",
       "      <td>0.008685</td>\n",
       "      <td>-44.0</td>\n",
       "    </tr>\n",
       "  </tbody>\n",
       "</table>\n",
       "<p>6167 rows × 35 columns</p>\n",
       "</div>"
      ],
      "text/plain": [
       "          ind_29      ind_36  ind_56  ind_62  ind_71  ind_82  ind_83  \\\n",
       "0      93.692449  196.592517      19      10       8      -2       8   \n",
       "1      76.694104  201.738617      20      10       8      -2       8   \n",
       "2      83.909974  205.238017      19      11       8      -2       8   \n",
       "3      98.596644  203.641362      17      11       8      -2       8   \n",
       "4     149.283572  227.848369      20      12       9      -2       8   \n",
       "...          ...         ...     ...     ...     ...     ...     ...   \n",
       "6162 -166.666667  135.005556      -3      14      15      -1      13   \n",
       "6163 -116.371568  124.513539      -9      14      15      -1      13   \n",
       "6164   29.477508  132.029648      -9      13      15      -1      13   \n",
       "6165  148.600076  144.880140       5      13      15      -1      13   \n",
       "6166   82.361327  139.646458      12      13      14      -1      13   \n",
       "\n",
       "        ind_88  ind_134    ind_168  ...   ind_334   ind_338   ind_340  \\\n",
       "0     0.000517        6 -12.212712  ... -0.000091  1.197238 -0.319064   \n",
       "1     0.000401        5  -2.463107  ... -0.000091  1.197328 -0.318905   \n",
       "2     0.000392        5   7.346277  ... -0.000091  1.197419 -0.318831   \n",
       "3     0.000275        3  12.828428  ... -0.000091  1.197509 -0.318696   \n",
       "4     0.001644       20  11.185335  ... -0.000091  1.197600 -0.318155   \n",
       "...        ...      ...        ...  ...       ...       ...       ...   \n",
       "6162  0.000000       -5  12.512295  ... -0.000110  1.160220 -0.525396   \n",
       "6163  0.000000       -8   0.206847  ... -0.000110  1.160330 -0.525378   \n",
       "6164  0.000000       10 -12.960959  ... -0.000110  1.160440 -0.524991   \n",
       "6165  0.000636       11 -22.879217  ... -0.000110  1.160550 -0.524465   \n",
       "6166 -0.000432       -1 -19.718654  ... -0.000110  1.160660 -0.524685   \n",
       "\n",
       "      ind_344   ind_345  ind_349  ind_352    ind_397   ind_412  ind_416  \n",
       "0     0.00000  0.000000      0.0      0.0 -26.386973  0.002371    -49.6  \n",
       "1     0.00000  0.000000      0.0      0.0 -26.085949  0.003074    -55.6  \n",
       "2     0.00000  0.000000      0.0      0.0 -23.250410  0.003561    -58.4  \n",
       "3     0.00000  0.000000      0.0      0.0 -19.499975  0.004366    -61.8  \n",
       "4     0.00000  0.000000      0.0      0.0 -25.348270  0.004198    -79.8  \n",
       "...       ...       ...      ...      ...        ...       ...      ...  \n",
       "6162 -0.00050 -0.042854      0.0      0.0   3.500000  0.004633    -28.2  \n",
       "6163 -0.00050 -0.042853      0.0      0.0  -2.250000  0.008511    -28.6  \n",
       "6164 -0.00050 -0.042821      0.0      0.0  -4.500000  0.008848    -37.2  \n",
       "6165 -0.00032 -0.328539      0.0      0.0  -5.850000  0.008940    -48.9  \n",
       "6166 -0.00032 -0.328677      0.0      0.0   1.200000  0.008685    -44.0  \n",
       "\n",
       "[6167 rows x 35 columns]"
      ]
     },
     "execution_count": 467,
     "metadata": {},
     "output_type": "execute_result"
    }
   ],
   "source": [
    "X"
   ]
  },
  {
   "cell_type": "code",
   "execution_count": 469,
   "metadata": {},
   "outputs": [
    {
     "data": {
      "text/html": [
       "<table class=\"simpletable\">\n",
       "<caption>OLS Regression Results</caption>\n",
       "<tr>\n",
       "  <th>Dep. Variable:</th>        <td>90_target</td>    <th>  R-squared (uncentered):</th>      <td>   0.074</td> \n",
       "</tr>\n",
       "<tr>\n",
       "  <th>Model:</th>                   <td>OLS</td>       <th>  Adj. R-squared (uncentered):</th> <td>   0.069</td> \n",
       "</tr>\n",
       "<tr>\n",
       "  <th>Method:</th>             <td>Least Squares</td>  <th>  F-statistic:       </th>          <td>   14.02</td> \n",
       "</tr>\n",
       "<tr>\n",
       "  <th>Date:</th>             <td>Thu, 23 Jul 2020</td> <th>  Prob (F-statistic):</th>          <td>2.89e-78</td> \n",
       "</tr>\n",
       "<tr>\n",
       "  <th>Time:</th>                 <td>19:15:44</td>     <th>  Log-Likelihood:    </th>          <td> -30780.</td> \n",
       "</tr>\n",
       "<tr>\n",
       "  <th>No. Observations:</th>      <td>  6167</td>      <th>  AIC:               </th>          <td>6.163e+04</td>\n",
       "</tr>\n",
       "<tr>\n",
       "  <th>Df Residuals:</th>          <td>  6132</td>      <th>  BIC:               </th>          <td>6.186e+04</td>\n",
       "</tr>\n",
       "<tr>\n",
       "  <th>Df Model:</th>              <td>    35</td>      <th>                     </th>              <td> </td>    \n",
       "</tr>\n",
       "<tr>\n",
       "  <th>Covariance Type:</th>      <td>nonrobust</td>    <th>                     </th>              <td> </td>    \n",
       "</tr>\n",
       "</table>\n",
       "<table class=\"simpletable\">\n",
       "<tr>\n",
       "     <td></td>        <th>coef</th>     <th>std err</th>      <th>t</th>      <th>P>|t|</th>  <th>[0.025</th>    <th>0.975]</th>  \n",
       "</tr>\n",
       "<tr>\n",
       "  <th>ind_29</th>  <td>   -0.0173</td> <td>    0.008</td> <td>   -2.244</td> <td> 0.025</td> <td>   -0.032</td> <td>   -0.002</td>\n",
       "</tr>\n",
       "<tr>\n",
       "  <th>ind_36</th>  <td>    0.0317</td> <td>    0.009</td> <td>    3.540</td> <td> 0.000</td> <td>    0.014</td> <td>    0.049</td>\n",
       "</tr>\n",
       "<tr>\n",
       "  <th>ind_56</th>  <td>    0.0742</td> <td>    0.075</td> <td>    0.990</td> <td> 0.322</td> <td>   -0.073</td> <td>    0.221</td>\n",
       "</tr>\n",
       "<tr>\n",
       "  <th>ind_62</th>  <td>   -0.2855</td> <td>    0.069</td> <td>   -4.148</td> <td> 0.000</td> <td>   -0.420</td> <td>   -0.151</td>\n",
       "</tr>\n",
       "<tr>\n",
       "  <th>ind_71</th>  <td>    0.0694</td> <td>    0.074</td> <td>    0.935</td> <td> 0.350</td> <td>   -0.076</td> <td>    0.215</td>\n",
       "</tr>\n",
       "<tr>\n",
       "  <th>ind_82</th>  <td>    4.5241</td> <td>    0.915</td> <td>    4.942</td> <td> 0.000</td> <td>    2.730</td> <td>    6.319</td>\n",
       "</tr>\n",
       "<tr>\n",
       "  <th>ind_83</th>  <td>    0.1408</td> <td>    0.064</td> <td>    2.199</td> <td> 0.028</td> <td>    0.015</td> <td>    0.266</td>\n",
       "</tr>\n",
       "<tr>\n",
       "  <th>ind_88</th>  <td>  475.0695</td> <td>  833.325</td> <td>    0.570</td> <td> 0.569</td> <td>-1158.539</td> <td> 2108.678</td>\n",
       "</tr>\n",
       "<tr>\n",
       "  <th>ind_134</th> <td>    0.0164</td> <td>    0.096</td> <td>    0.171</td> <td> 0.865</td> <td>   -0.172</td> <td>    0.205</td>\n",
       "</tr>\n",
       "<tr>\n",
       "  <th>ind_168</th> <td>    0.0020</td> <td>    0.041</td> <td>    0.049</td> <td> 0.961</td> <td>   -0.078</td> <td>    0.082</td>\n",
       "</tr>\n",
       "<tr>\n",
       "  <th>ind_172</th> <td>    0.0036</td> <td>    0.028</td> <td>    0.127</td> <td> 0.899</td> <td>   -0.052</td> <td>    0.059</td>\n",
       "</tr>\n",
       "<tr>\n",
       "  <th>ind_176</th> <td>    0.0145</td> <td>    0.024</td> <td>    0.599</td> <td> 0.549</td> <td>   -0.033</td> <td>    0.062</td>\n",
       "</tr>\n",
       "<tr>\n",
       "  <th>ind_179</th> <td>    0.0770</td> <td>    0.131</td> <td>    0.585</td> <td> 0.558</td> <td>   -0.181</td> <td>    0.335</td>\n",
       "</tr>\n",
       "<tr>\n",
       "  <th>ind_217</th> <td>    0.7093</td> <td>    0.508</td> <td>    1.397</td> <td> 0.162</td> <td>   -0.286</td> <td>    1.704</td>\n",
       "</tr>\n",
       "<tr>\n",
       "  <th>ind_225</th> <td>  -53.4526</td> <td>   46.841</td> <td>   -1.141</td> <td> 0.254</td> <td> -145.278</td> <td>   38.373</td>\n",
       "</tr>\n",
       "<tr>\n",
       "  <th>ind_237</th> <td>   -0.0470</td> <td>    0.013</td> <td>   -3.696</td> <td> 0.000</td> <td>   -0.072</td> <td>   -0.022</td>\n",
       "</tr>\n",
       "<tr>\n",
       "  <th>ind_239</th> <td> 2.388e+04</td> <td> 3536.081</td> <td>    6.753</td> <td> 0.000</td> <td> 1.69e+04</td> <td> 3.08e+04</td>\n",
       "</tr>\n",
       "<tr>\n",
       "  <th>ind_309</th> <td> 2.532e+04</td> <td> 7061.113</td> <td>    3.585</td> <td> 0.000</td> <td> 1.15e+04</td> <td> 3.92e+04</td>\n",
       "</tr>\n",
       "<tr>\n",
       "  <th>ind_310</th> <td>    4.1220</td> <td>    1.126</td> <td>    3.661</td> <td> 0.000</td> <td>    1.915</td> <td>    6.330</td>\n",
       "</tr>\n",
       "<tr>\n",
       "  <th>ind_315</th> <td>   -2.0500</td> <td>    0.678</td> <td>   -3.022</td> <td> 0.003</td> <td>   -3.380</td> <td>   -0.720</td>\n",
       "</tr>\n",
       "<tr>\n",
       "  <th>ind_321</th> <td>   -0.0462</td> <td>    0.013</td> <td>   -3.676</td> <td> 0.000</td> <td>   -0.071</td> <td>   -0.022</td>\n",
       "</tr>\n",
       "<tr>\n",
       "  <th>ind_324</th> <td>-2.918e+04</td> <td> 4631.780</td> <td>   -6.300</td> <td> 0.000</td> <td>-3.83e+04</td> <td>-2.01e+04</td>\n",
       "</tr>\n",
       "<tr>\n",
       "  <th>ind_327</th> <td>   -0.0575</td> <td>    0.018</td> <td>   -3.284</td> <td> 0.001</td> <td>   -0.092</td> <td>   -0.023</td>\n",
       "</tr>\n",
       "<tr>\n",
       "  <th>ind_330</th> <td>   -2.3295</td> <td>    1.806</td> <td>   -1.290</td> <td> 0.197</td> <td>   -5.869</td> <td>    1.210</td>\n",
       "</tr>\n",
       "<tr>\n",
       "  <th>ind_332</th> <td>    0.1190</td> <td>    0.024</td> <td>    4.865</td> <td> 0.000</td> <td>    0.071</td> <td>    0.167</td>\n",
       "</tr>\n",
       "<tr>\n",
       "  <th>ind_334</th> <td> 1.916e+04</td> <td>  1.3e+04</td> <td>    1.470</td> <td> 0.142</td> <td>-6399.630</td> <td> 4.47e+04</td>\n",
       "</tr>\n",
       "<tr>\n",
       "  <th>ind_338</th> <td>    4.6690</td> <td>    2.869</td> <td>    1.627</td> <td> 0.104</td> <td>   -0.956</td> <td>   10.294</td>\n",
       "</tr>\n",
       "<tr>\n",
       "  <th>ind_340</th> <td>   -9.3836</td> <td>    6.079</td> <td>   -1.544</td> <td> 0.123</td> <td>  -21.301</td> <td>    2.534</td>\n",
       "</tr>\n",
       "<tr>\n",
       "  <th>ind_344</th> <td>-2072.5831</td> <td> 1.69e+04</td> <td>   -0.123</td> <td> 0.902</td> <td>-3.52e+04</td> <td> 3.11e+04</td>\n",
       "</tr>\n",
       "<tr>\n",
       "  <th>ind_345</th> <td>   34.7624</td> <td>   15.892</td> <td>    2.187</td> <td> 0.029</td> <td>    3.609</td> <td>   65.915</td>\n",
       "</tr>\n",
       "<tr>\n",
       "  <th>ind_349</th> <td>-1.002e+05</td> <td> 3.22e+04</td> <td>   -3.111</td> <td> 0.002</td> <td>-1.63e+05</td> <td>-3.71e+04</td>\n",
       "</tr>\n",
       "<tr>\n",
       "  <th>ind_352</th> <td>   -0.3514</td> <td>    0.230</td> <td>   -1.530</td> <td> 0.126</td> <td>   -0.802</td> <td>    0.099</td>\n",
       "</tr>\n",
       "<tr>\n",
       "  <th>ind_397</th> <td>   -0.1202</td> <td>    0.091</td> <td>   -1.321</td> <td> 0.186</td> <td>   -0.299</td> <td>    0.058</td>\n",
       "</tr>\n",
       "<tr>\n",
       "  <th>ind_412</th> <td>  831.6282</td> <td>  106.142</td> <td>    7.835</td> <td> 0.000</td> <td>  623.553</td> <td> 1039.703</td>\n",
       "</tr>\n",
       "<tr>\n",
       "  <th>ind_416</th> <td>    0.1457</td> <td>    0.032</td> <td>    4.573</td> <td> 0.000</td> <td>    0.083</td> <td>    0.208</td>\n",
       "</tr>\n",
       "</table>\n",
       "<table class=\"simpletable\">\n",
       "<tr>\n",
       "  <th>Omnibus:</th>       <td>26878.487</td> <th>  Durbin-Watson:     </th> <td>   0.319</td> \n",
       "</tr>\n",
       "<tr>\n",
       "  <th>Prob(Omnibus):</th>  <td> 0.000</td>   <th>  Jarque-Bera (JB):  </th> <td> 775.511</td> \n",
       "</tr>\n",
       "<tr>\n",
       "  <th>Skew:</th>           <td> 0.166</td>   <th>  Prob(JB):          </th> <td>3.98e-169</td>\n",
       "</tr>\n",
       "<tr>\n",
       "  <th>Kurtosis:</th>       <td> 1.295</td>   <th>  Cond. No.          </th> <td>9.17e+06</td> \n",
       "</tr>\n",
       "</table><br/><br/>Warnings:<br/>[1] Standard Errors assume that the covariance matrix of the errors is correctly specified.<br/>[2] The condition number is large, 9.17e+06. This might indicate that there are<br/>strong multicollinearity or other numerical problems."
      ],
      "text/plain": [
       "<class 'statsmodels.iolib.summary.Summary'>\n",
       "\"\"\"\n",
       "                                 OLS Regression Results                                \n",
       "=======================================================================================\n",
       "Dep. Variable:              90_target   R-squared (uncentered):                   0.074\n",
       "Model:                            OLS   Adj. R-squared (uncentered):              0.069\n",
       "Method:                 Least Squares   F-statistic:                              14.02\n",
       "Date:                Thu, 23 Jul 2020   Prob (F-statistic):                    2.89e-78\n",
       "Time:                        19:15:44   Log-Likelihood:                         -30780.\n",
       "No. Observations:                6167   AIC:                                  6.163e+04\n",
       "Df Residuals:                    6132   BIC:                                  6.186e+04\n",
       "Df Model:                          35                                                  \n",
       "Covariance Type:            nonrobust                                                  \n",
       "==============================================================================\n",
       "                 coef    std err          t      P>|t|      [0.025      0.975]\n",
       "------------------------------------------------------------------------------\n",
       "ind_29        -0.0173      0.008     -2.244      0.025      -0.032      -0.002\n",
       "ind_36         0.0317      0.009      3.540      0.000       0.014       0.049\n",
       "ind_56         0.0742      0.075      0.990      0.322      -0.073       0.221\n",
       "ind_62        -0.2855      0.069     -4.148      0.000      -0.420      -0.151\n",
       "ind_71         0.0694      0.074      0.935      0.350      -0.076       0.215\n",
       "ind_82         4.5241      0.915      4.942      0.000       2.730       6.319\n",
       "ind_83         0.1408      0.064      2.199      0.028       0.015       0.266\n",
       "ind_88       475.0695    833.325      0.570      0.569   -1158.539    2108.678\n",
       "ind_134        0.0164      0.096      0.171      0.865      -0.172       0.205\n",
       "ind_168        0.0020      0.041      0.049      0.961      -0.078       0.082\n",
       "ind_172        0.0036      0.028      0.127      0.899      -0.052       0.059\n",
       "ind_176        0.0145      0.024      0.599      0.549      -0.033       0.062\n",
       "ind_179        0.0770      0.131      0.585      0.558      -0.181       0.335\n",
       "ind_217        0.7093      0.508      1.397      0.162      -0.286       1.704\n",
       "ind_225      -53.4526     46.841     -1.141      0.254    -145.278      38.373\n",
       "ind_237       -0.0470      0.013     -3.696      0.000      -0.072      -0.022\n",
       "ind_239     2.388e+04   3536.081      6.753      0.000    1.69e+04    3.08e+04\n",
       "ind_309     2.532e+04   7061.113      3.585      0.000    1.15e+04    3.92e+04\n",
       "ind_310        4.1220      1.126      3.661      0.000       1.915       6.330\n",
       "ind_315       -2.0500      0.678     -3.022      0.003      -3.380      -0.720\n",
       "ind_321       -0.0462      0.013     -3.676      0.000      -0.071      -0.022\n",
       "ind_324    -2.918e+04   4631.780     -6.300      0.000   -3.83e+04   -2.01e+04\n",
       "ind_327       -0.0575      0.018     -3.284      0.001      -0.092      -0.023\n",
       "ind_330       -2.3295      1.806     -1.290      0.197      -5.869       1.210\n",
       "ind_332        0.1190      0.024      4.865      0.000       0.071       0.167\n",
       "ind_334     1.916e+04    1.3e+04      1.470      0.142   -6399.630    4.47e+04\n",
       "ind_338        4.6690      2.869      1.627      0.104      -0.956      10.294\n",
       "ind_340       -9.3836      6.079     -1.544      0.123     -21.301       2.534\n",
       "ind_344    -2072.5831   1.69e+04     -0.123      0.902   -3.52e+04    3.11e+04\n",
       "ind_345       34.7624     15.892      2.187      0.029       3.609      65.915\n",
       "ind_349    -1.002e+05   3.22e+04     -3.111      0.002   -1.63e+05   -3.71e+04\n",
       "ind_352       -0.3514      0.230     -1.530      0.126      -0.802       0.099\n",
       "ind_397       -0.1202      0.091     -1.321      0.186      -0.299       0.058\n",
       "ind_412      831.6282    106.142      7.835      0.000     623.553    1039.703\n",
       "ind_416        0.1457      0.032      4.573      0.000       0.083       0.208\n",
       "==============================================================================\n",
       "Omnibus:                    26878.487   Durbin-Watson:                   0.319\n",
       "Prob(Omnibus):                  0.000   Jarque-Bera (JB):              775.511\n",
       "Skew:                           0.166   Prob(JB):                    3.98e-169\n",
       "Kurtosis:                       1.295   Cond. No.                     9.17e+06\n",
       "==============================================================================\n",
       "\n",
       "Warnings:\n",
       "[1] Standard Errors assume that the covariance matrix of the errors is correctly specified.\n",
       "[2] The condition number is large, 9.17e+06. This might indicate that there are\n",
       "strong multicollinearity or other numerical problems.\n",
       "\"\"\""
      ]
     },
     "execution_count": 469,
     "metadata": {},
     "output_type": "execute_result"
    }
   ],
   "source": [
    "import statsmodels.api as sm\n",
    "lm = sm.OLS(y, X)\n",
    "model = lm.fit()  ##lm diye fonksiyon yaratıp fit ile model kurulumunu gerçekleştirdik\n",
    "model.summary()"
   ]
  },
  {
   "cell_type": "code",
   "execution_count": 464,
   "metadata": {},
   "outputs": [
    {
     "data": {
      "text/plain": [
       "0.07661976762544531"
      ]
     },
     "execution_count": 464,
     "metadata": {},
     "output_type": "execute_result"
    }
   ],
   "source": [
    "X_train, X_test, y_train, y_test = train_test_split(X, y,test_size=0.20,random_state=42)\n",
    "lm = LinearRegression()\n",
    "model = lm.fit(X_train, y_train)\n",
    "np.sqrt(mean_squared_error(y_train, model.predict(X_train)))\n",
    "np.sqrt(mean_squared_error(y_test, model.predict(X_test)))\n",
    "model.score(X_train, y_train)"
   ]
  },
  {
   "cell_type": "code",
   "execution_count": 465,
   "metadata": {},
   "outputs": [
    {
     "data": {
      "text/plain": [
       "35.413182305658765"
      ]
     },
     "execution_count": 465,
     "metadata": {},
     "output_type": "execute_result"
    }
   ],
   "source": [
    "np.sqrt(mean_squared_error(y_train , model.predict(X_train)))"
   ]
  },
  {
   "cell_type": "code",
   "execution_count": 466,
   "metadata": {},
   "outputs": [
    {
     "data": {
      "text/plain": [
       "36.18261635464163"
      ]
     },
     "execution_count": 466,
     "metadata": {},
     "output_type": "execute_result"
    }
   ],
   "source": [
    "np.sqrt(mean_squared_error(y_test, model.predict(X_test)))"
   ]
  },
  {
   "cell_type": "code",
   "execution_count": null,
   "metadata": {},
   "outputs": [],
   "source": []
  },
  {
   "cell_type": "code",
   "execution_count": null,
   "metadata": {},
   "outputs": [],
   "source": []
  },
  {
   "cell_type": "code",
   "execution_count": null,
   "metadata": {},
   "outputs": [],
   "source": []
  }
 ],
 "metadata": {
  "kernelspec": {
   "display_name": "Python 3",
   "language": "python",
   "name": "python3"
  },
  "language_info": {
   "codemirror_mode": {
    "name": "ipython",
    "version": 3
   },
   "file_extension": ".py",
   "mimetype": "text/x-python",
   "name": "python",
   "nbconvert_exporter": "python",
   "pygments_lexer": "ipython3",
   "version": "3.7.4"
  }
 },
 "nbformat": 4,
 "nbformat_minor": 2
}
